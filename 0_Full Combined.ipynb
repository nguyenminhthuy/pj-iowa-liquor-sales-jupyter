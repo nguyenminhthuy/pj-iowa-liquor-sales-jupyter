{
 "cells": [
  {
   "cell_type": "markdown",
   "id": "4683d8aa",
   "metadata": {},
   "source": [
    "# <span style=\"color:red\">1. IMPORT LIBS</span>"
   ]
  },
  {
   "cell_type": "code",
   "execution_count": null,
   "id": "b1931f53",
   "metadata": {},
   "outputs": [],
   "source": [
    "import matplotlib\n",
    "import matplotlib.pyplot as plt\n",
    "from matplotlib.gridspec import GridSpec\n",
    "from matplotlib.ticker import NullFormatter\n",
    "import datetime as dt\n",
    "import numpy as np\n",
    "import pandas as pd\n",
    "from pandas.api.types import CategoricalDtype\n",
    "import plotly.graph_objects as go\n",
    "import plotly.express as px\n",
    "from plotly.subplots import make_subplots\n",
    "import plotly as py\n",
    "import geopandas as gpd # pip install geopandas\n",
    "\n",
    "# warnings\n",
    "import warnings\n",
    "warnings.filterwarnings('ignore',category=FutureWarning)"
   ]
  },
  {
   "cell_type": "markdown",
   "id": "095d36b0",
   "metadata": {},
   "source": [
    "# <span style=\"color:red\">2. READ CSV</span>"
   ]
  },
  {
   "cell_type": "code",
   "execution_count": null,
   "id": "66eb9024",
   "metadata": {},
   "outputs": [],
   "source": [
    "df_2012 = pd.read_csv(\"data/2012_Iowa_Liquor_Sales.csv\", low_memory=False)\n",
    "df_2013 = pd.read_csv(\"data/2013_Iowa_Liquor_Sales.csv\", low_memory=False)\n",
    "df_2014 = pd.read_csv(\"data/2014_Iowa_Liquor_Sales.csv\", low_memory=False)\n",
    "df_2015 = pd.read_csv(\"data/2015_Iowa_Liquor_Sales.csv\", low_memory=False)\n",
    "df_2016 = pd.read_csv(\"data/2016_Iowa_Liquor_Sales.csv\", low_memory=False)\n",
    "df_2017 = pd.read_csv(\"data/2017_Iowa_Liquor_Sales.csv\", low_memory=False)\n",
    "df_2018 = pd.read_csv(\"data/2018_Iowa_Liquor_Sales.csv\", low_memory=False)\n",
    "df_2019 = pd.read_csv(\"data/2019_Iowa_Liquor_Sales.csv\", low_memory=False)\n",
    "df_2020 = pd.read_csv(\"data/2020_Iowa_Liquor_Sales.csv\", low_memory=False)\n",
    "df_2021 = pd.read_csv(\"data/2021_Iowa_Liquor_Sales.csv\", low_memory=False)\n",
    "df_2022 = pd.read_csv(\"data/2022_Iowa_Liquor_Sales.csv\", low_memory=False)"
   ]
  },
  {
   "cell_type": "markdown",
   "id": "852897a8",
   "metadata": {},
   "source": [
    "# <span style=\"color:red\">3. FORMAT</span>"
   ]
  },
  {
   "cell_type": "code",
   "execution_count": null,
   "id": "537710bd",
   "metadata": {},
   "outputs": [],
   "source": [
    "month_category = CategoricalDtype(categories=[\"January\", \"February\", \"March\", \"April\", \"May\", \"June\",\n",
    "                                              \"July\", \"August\", \"September\", \"October\", \"November\",\n",
    "                                              \"December\"], ordered=True)\n",
    "\n",
    "dow_category = CategoricalDtype(categories=[\"Monday\", \"Tuesday\", \"Wednesday\", \"Thursday\", \"Friday\",\n",
    "                                            \"Saturday\", \"Sunday\"], ordered=True)\n"
   ]
  },
  {
   "cell_type": "markdown",
   "id": "81f080b1",
   "metadata": {},
   "source": [
    "# <span style=\"color:red\">4. HOMEPAGE</span>"
   ]
  },
  {
   "cell_type": "markdown",
   "id": "6db0c826",
   "metadata": {},
   "source": [
    "## <span style=\"color:BLUE\">4.1. The trend of sales/number of invoices for the year 2012-2022</span>"
   ]
  },
  {
   "cell_type": "code",
   "execution_count": null,
   "id": "7f969d95",
   "metadata": {},
   "outputs": [],
   "source": [
    "def total_sales_allYear(df_2012, df_2013, df_2014, df_2015, df_2016, df_2017, df_2018, df_2019, df_2020, df_2021, df_2022):\n",
    "    sale2012 = df_2012['Sale (Dollars)'].sum()\n",
    "    sale2013 = df_2013['Sale (Dollars)'].sum()\n",
    "    sale2014 = df_2014['Sale (Dollars)'].sum()\n",
    "    sale2015 = df_2015['Sale (Dollars)'].sum()\n",
    "    sale2016 = df_2016['Sale (Dollars)'].sum()\n",
    "    sale2017 = df_2017['Sale (Dollars)'].sum()\n",
    "    sale2018 = df_2018['Sale (Dollars)'].sum()\n",
    "    sale2019 = df_2019['Sale (Dollars)'].sum()\n",
    "    sale2020 = df_2020['Sale (Dollars)'].sum()\n",
    "    sale2021 = df_2021['Sale (Dollars)'].sum()\n",
    "    sale2022 = df_2022['Sale (Dollars)'].sum()\n",
    "    \n",
    "    return (sale2012, sale2013, sale2014, sale2015, sale2016, sale2017, sale2018, sale2019, sale2020, sale2021, sale2022)\n",
    "\n",
    "def total_inv_allYear(df_2012, df_2013, df_2014, df_2015, df_2016, df_2017, df_2018, df_2019, df_2020, df_2021, df_2022):\n",
    "    inv2012 = len(df_2012['Invoice/Item Number'])\n",
    "    inv2013 = len(df_2013['Invoice/Item Number'])\n",
    "    inv2014 = len(df_2014['Invoice/Item Number'])\n",
    "    inv2015 = len(df_2015['Invoice/Item Number'])\n",
    "    inv2016 = len(df_2016['Invoice/Item Number'])\n",
    "    inv2017 = len(df_2017['Invoice/Item Number'])\n",
    "    inv2018 = len(df_2018['Invoice/Item Number'])\n",
    "    inv2019 = len(df_2019['Invoice/Item Number'])\n",
    "    inv2020 = len(df_2020['Invoice/Item Number'])\n",
    "    inv2021 = len(df_2021['Invoice/Item Number'])\n",
    "    inv2022 = len(df_2022['Invoice/Item Number'])\n",
    "\n",
    "    return (inv2012, inv2013, inv2014, inv2015, inv2016, inv2017, inv2018, inv2019, inv2020, inv2021, inv2022)"
   ]
  },
  {
   "cell_type": "code",
   "execution_count": null,
   "id": "cf4f1f61",
   "metadata": {},
   "outputs": [],
   "source": [
    "def pct_sales_yearAfterBefore(sale2012, sale2013, sale2014, sale2015, sale2016, sale2017, sale2018, sale2019, sale2020, sale2021, sale2022):\n",
    "    pct_sale_2013_2012 = str(((sale2013 - sale2012) / sale2012 * 100).round(1)) + '%'\n",
    "    pct_sale_2014_2013 = str(((sale2014 - sale2013) / sale2013 * 100).round(1)) + '%'\n",
    "    pct_sale_2015_2014 = str(((sale2015 - sale2014) / sale2014 * 100).round(1)) + '%'\n",
    "    pct_sale_2016_2015 = str(((sale2016 - sale2015) / sale2015 * 100).round(1)) + '%'\n",
    "    pct_sale_2017_2016 = str(((sale2017 - sale2016) / sale2016 * 100).round(1)) + '%'\n",
    "    pct_sale_2018_2017 = str(((sale2018 - sale2017) / sale2017 * 100).round(1)) + '%'\n",
    "    pct_sale_2019_2018 = str(((sale2019 - sale2018) / sale2018 * 100).round(1)) + '%'\n",
    "    pct_sale_2020_2019 = str(((sale2020 - sale2019) / sale2019 * 100).round(1)) + '%'\n",
    "    pct_sale_2021_2020 = str(((sale2021 - sale2020) / sale2020 * 100).round(1)) + '%'\n",
    "    pct_sale_2022_2021 = str(((sale2022 - sale2021) / sale2021 * 100).round(1)) + '%'\n",
    "\n",
    "    return (pct_sale_2013_2012, pct_sale_2014_2013, pct_sale_2015_2014, pct_sale_2016_2015, pct_sale_2017_2016, \n",
    "            pct_sale_2018_2017, pct_sale_2019_2018, pct_sale_2020_2019, pct_sale_2021_2020, pct_sale_2022_2021)\n",
    "\n",
    "def pct_inv_yearAfterBefore(inv2012, inv2013, inv2014, inv2015, inv2016, inv2017, inv2018, inv2019, inv2020, inv2021, inv2022):\n",
    "    pct_inv_2013_2012 = str(round(((inv2013 - inv2012) / inv2012 * 100), 1)) + '%'\n",
    "    pct_inv_2014_2013 = str(round(((inv2014 - inv2013) / inv2013 * 100), 1)) + '%'\n",
    "    pct_inv_2015_2014 = str(round(((inv2015 - inv2014) / inv2014 * 100), 1)) + '%'\n",
    "    pct_inv_2016_2015 = str(round(((inv2016 - inv2015) / inv2015 * 100), 1)) + '%'\n",
    "    pct_inv_2017_2016 = str(round(((inv2017 - inv2016) / inv2016 * 100), 1)) + '%'\n",
    "    pct_inv_2018_2017 = str(round(((inv2018 - inv2017) / inv2017 * 100), 1)) + '%'\n",
    "    pct_inv_2019_2018 = str(round(((inv2019 - inv2018) / inv2018 * 100), 1)) + '%'\n",
    "    pct_inv_2020_2019 = str(round(((inv2020 - inv2019) / inv2019 * 100), 1)) + '%'\n",
    "    pct_inv_2021_2020 = str(round(((inv2021 - inv2020) / inv2020 * 100), 1)) + '%'\n",
    "    pct_inv_2022_2021 = str(round(((inv2022 - inv2021) / inv2021 * 100), 1)) + '%'\n",
    "\n",
    "    return (pct_inv_2013_2012, pct_inv_2014_2013, pct_inv_2015_2014, pct_inv_2016_2015, pct_inv_2017_2016, \n",
    "            pct_inv_2018_2017, pct_inv_2019_2018, pct_inv_2020_2019, pct_inv_2021_2020, pct_inv_2022_2021)"
   ]
  },
  {
   "cell_type": "code",
   "execution_count": null,
   "id": "be98987b",
   "metadata": {},
   "outputs": [],
   "source": [
    "# Total Sales\n",
    "(sale2012, sale2013, sale2014, sale2015, sale2016, sale2017, sale2018, \n",
    " sale2019, sale2020, sale2021, sale2022) = total_sales_allYear(df_2012, df_2013, df_2014, df_2015, df_2016, df_2017,\n",
    "                                                              df_2018, df_2019, df_2020, df_2021, df_2022)\n",
    "\n",
    "# Total invoices\n",
    "(inv2012, inv2013, inv2014, inv2015, inv2016, inv2017, inv2018, inv2019,\n",
    " inv2020, inv2021, inv2022) = total_inv_allYear(df_2012, df_2013, df_2014, df_2015, df_2016, df_2017,\n",
    "                                                         df_2018, df_2019, df_2020, df_2021, df_2022)\n",
    "\n",
    "# % Different Sales with Previous Year\n",
    "(pct_sale_2013_2012, pct_sale_2014_2013, pct_sale_2015_2014, pct_sale_2016_2015, \n",
    " pct_sale_2017_2016, pct_sale_2018_2017, pct_sale_2019_2018, pct_sale_2020_2019, \n",
    " pct_sale_2021_2020, pct_sale_2022_2021) = pct_sales_yearAfterBefore(sale2012, sale2013, sale2014, sale2015, sale2016, \n",
    "                                                                     sale2017, sale2018, sale2019, sale2020, sale2021, sale2022)\n",
    "\n",
    "# % Different Sales with Previous Year\n",
    "(pct_inv_2013_2012, pct_inv_2014_2013, pct_inv_2015_2014, pct_inv_2016_2015, \n",
    " pct_inv_2017_2016, pct_inv_2018_2017, pct_inv_2019_2018, pct_inv_2020_2019, \n",
    " pct_inv_2021_2020, pct_inv_2022_2021) = pct_inv_yearAfterBefore(inv2012, inv2013, inv2014, inv2015, inv2016, \n",
    "                                                                 inv2017, inv2018, inv2019, inv2020, inv2021, inv2022)"
   ]
  },
  {
   "cell_type": "code",
   "execution_count": null,
   "id": "a128507e",
   "metadata": {},
   "outputs": [],
   "source": [
    "pct_sale_dict = {'2012': 'NA', '2013': pct_sale_2013_2012, '2014': pct_sale_2014_2013,\n",
    "                '2015': pct_sale_2015_2014, '2016': pct_sale_2016_2015, '2017': pct_sale_2017_2016,\n",
    "                '2018': pct_sale_2018_2017, '2019': pct_sale_2019_2018, '2020': pct_sale_2020_2019,\n",
    "                '2021': pct_sale_2021_2020, '2022': pct_sale_2022_2021}\n",
    "\n",
    "pct_inv_dict = {'2012': 'NA', '2013': pct_inv_2013_2012, '2014': pct_inv_2014_2013,\n",
    "                '2015': pct_inv_2015_2014, '2016': pct_inv_2016_2015, '2017': pct_inv_2017_2016,\n",
    "                '2018': pct_inv_2018_2017, '2019': pct_inv_2019_2018, '2020': pct_inv_2020_2019,\n",
    "                '2021': pct_inv_2021_2020, '2022': pct_inv_2022_2021}\n",
    "\n",
    "sale_dict = {'2012': sale2012, '2013': sale2013, '2014': sale2014,\n",
    "            '2015': sale2015, '2016': sale2016, '2017': sale2017,\n",
    "            '2018': sale2018, '2019': sale2019, '2020': sale2020,\n",
    "            '2021': sale2021, '2022': sale2022}\n",
    "\n",
    "pct_sale_dict = {'2012': 'NA', '2013': pct_sale_2013_2012, '2014': pct_sale_2014_2013,\n",
    "                '2015': pct_sale_2015_2014, '2016': pct_sale_2016_2015, '2017': pct_sale_2017_2016,\n",
    "                '2018': pct_sale_2018_2017, '2019': pct_sale_2019_2018, '2020': pct_sale_2020_2019,\n",
    "                '2021': pct_sale_2021_2020, '2022': pct_sale_2022_2021}\n",
    "\n",
    "inv_dict = {'2012': inv2012, '2013': inv2013, '2014': inv2014,\n",
    "            '2015': inv2015, '2016': inv2016, '2017': inv2017,\n",
    "            '2018': inv2018, '2019': inv2019, '2020': inv2020,\n",
    "            '2021': inv2021, '2022': inv2022}\n",
    "\n",
    "pct_inv_dict = {'2012': 'NA', '2013': pct_inv_2013_2012, '2014': pct_inv_2014_2013,\n",
    "                '2015': pct_inv_2015_2014, '2016': pct_inv_2016_2015, '2017': pct_inv_2017_2016,\n",
    "                '2018': pct_inv_2018_2017, '2019': pct_inv_2019_2018, '2020': pct_inv_2020_2019,\n",
    "                '2021': pct_inv_2021_2020, '2022': pct_inv_2022_2021}\n",
    "\n",
    "# create series from dictionary\n",
    "sale_ser = pd.Series(sale_dict)\n",
    "pct_sale_ser = pd.Series(pct_sale_dict)\n",
    "\n",
    "inv_ser = pd.Series(inv_dict)\n",
    "pct_inv_ser = pd.Series(pct_inv_dict)\n",
    "\n",
    "\n",
    "frame = {'Year': sale_ser.index,\n",
    "         'Total Sales (USD)': sale_ser.values,\n",
    "         '% Different Sales with Previous Year': pct_sale_ser,\n",
    "         'Number of invoices': inv_ser.values,\n",
    "         '% Different Invoices with Previous Year': pct_inv_ser}\n",
    "\n",
    "df_overall_noFormat = pd.DataFrame(frame)\n",
    "df_overall_noFormat.reset_index(inplace=True, drop=True)"
   ]
  },
  {
   "cell_type": "code",
   "execution_count": null,
   "id": "d0fa7333",
   "metadata": {},
   "outputs": [],
   "source": [
    "def plot_BarLineChart_OverallReport(df):\n",
    "    fig = make_subplots(specs=[[{\"secondary_y\": True}]])\n",
    "\n",
    "    fig.add_trace(\n",
    "        go.Bar(x=df['Year'], y=df[\"Total Sales (USD)\"], name=\"Total Sales (USD)\"),\n",
    "        secondary_y=False)\n",
    "\n",
    "    fig.add_trace(\n",
    "        go.Scatter(x=df['Year'], y=df[\"Number of invoices\"], line_color=\"#483D8B\",\n",
    "                   name=\"Number of invoices\", mode=\"lines\"), secondary_y=True)\n",
    "\n",
    "    fig.update_xaxes(title_text=\"Year\")\n",
    "\n",
    "    # Set y-axes titles\n",
    "    fig.update_yaxes(title_text=\"Total Sales (USD)\", secondary_y=False)\n",
    "    fig.update_yaxes(title_text=\"Number of invoices\", secondary_y=True)\n",
    "\n",
    "    fig.update_traces(marker_color='#20B2AA', opacity=1)\n",
    "    fig.update_layout(title=\"Sales Year Over year\")\n",
    "    fig.update_layout({'plot_bgcolor': 'rgba(0, 0, 0, 0)', 'paper_bgcolor': 'rgba(0, 0, 0, 0)'})\n",
    "\n",
    "    fig.show(renderer='notebook')"
   ]
  },
  {
   "cell_type": "code",
   "execution_count": null,
   "id": "81ef72c0",
   "metadata": {},
   "outputs": [],
   "source": [
    "plot_BarLineChart_OverallReport(df_overall_noFormat)"
   ]
  },
  {
   "cell_type": "markdown",
   "id": "0325cac5",
   "metadata": {},
   "source": [
    "## <span style=\"color:BLUE\">4.2. Different Sales vs the previous year (table)</span>"
   ]
  },
  {
   "cell_type": "code",
   "execution_count": null,
   "id": "f1f39d2d",
   "metadata": {},
   "outputs": [],
   "source": [
    "# create a copied df in order to format number and display\n",
    "df_overall_formatted = df_overall_noFormat.copy()\n",
    "df_overall_formatted['Total Sales (USD)'] = df_overall_formatted['Total Sales (USD)'].map('${:,.0f}'.format)\n",
    "df_overall_formatted['Number of invoices'] = df_overall_formatted['Number of invoices'].map('{:,.0f}'.format)\n",
    "\n",
    "# To groupby 'ID' after pivotted\n",
    "df_overall_formatted['id'] = df_overall_formatted.index\n",
    "df_overall_formatted['id'] = 'Total Sales (USD)'\n",
    "\n",
    "df_overall_formatted['id1'] = df_overall_formatted.index\n",
    "df_overall_formatted['id1'] = '% Different Sales with Previous Year'\n",
    "\n",
    "df_overall_formatted['id2'] = df_overall_formatted.index\n",
    "df_overall_formatted['id2'] = 'Number of invoices'\n",
    "\n",
    "df_overall_formatted['id3'] = df_overall_formatted.index\n",
    "df_overall_formatted['id3'] = '% Different Invoices with Previous Year'\n",
    "\n",
    "# reshape df from long to wide\n",
    "df_pv_sale = df_overall_formatted.pivot(index='id', columns='Year', values='Total Sales (USD)')\n",
    "df_pv_pct_sale = df_overall_formatted.pivot(index='id1', columns='Year', values='% Different Sales with Previous Year')\n",
    "\n",
    "df_pv_inv = df_overall_formatted.pivot(index='id2', columns='Year', values='Number of invoices')\n",
    "df_pv_pct_inv = df_overall_formatted.pivot(index='id3', columns='Year', values='% Different Invoices with Previous Year')\n",
    "\n",
    "df_pv_concat = pd.concat([df_pv_sale, df_pv_pct_sale, df_pv_inv, df_pv_pct_inv])\n",
    "df_pv_concat['Variables'] = df_pv_concat.index\n",
    "df_pv_concat = df_pv_concat[\n",
    "    ['Variables', '2012', '2013', '2014', '2015', '2016', '2017', '2018', '2019', '2020', '2021', '2022']]"
   ]
  },
  {
   "cell_type": "code",
   "execution_count": null,
   "id": "025b5d93",
   "metadata": {},
   "outputs": [],
   "source": [
    "fig = go.Figure(data=[go.Table(\n",
    "    header=dict(values=list(df_pv_concat.columns),\n",
    "                fill_color='paleturquoise',\n",
    "                align = ['left', 'center']),\n",
    "    cells=dict(values=[df_pv_concat.index, df_pv_concat['2012'], df_pv_concat['2013'], df_pv_concat['2014'], \n",
    "                       df_pv_concat['2015'], df_pv_concat['2016'], df_pv_concat['2017'], df_pv_concat['2018'], \n",
    "                       df_pv_concat['2019'], df_pv_concat['2020'], df_pv_concat['2021'], df_pv_concat['2022']],\n",
    "               fill_color='lavender',\n",
    "               align = ['left', 'center'],))\n",
    "])\n",
    "\n",
    "fig.show()"
   ]
  },
  {
   "cell_type": "markdown",
   "id": "50bbbbdd",
   "metadata": {},
   "source": [
    "## <span style=\"color:BLUE\">4.3. The trend of sales for the year 2012-2022 by months</span>"
   ]
  },
  {
   "cell_type": "code",
   "execution_count": null,
   "id": "c98c3324",
   "metadata": {},
   "outputs": [],
   "source": [
    "def plot_BarLineChart_OverallReport_MonthDetailed(df_2012, df_2013, df_2014, df_2015, df_2016,\n",
    "                                                  df_2017, df_2018, df_2019, df_2020, df_2021, df_2022):\n",
    "    month_category = CategoricalDtype(\n",
    "        categories=[\"January\", \"February\", \"March\", \"April\", \"May\", \"June\", \"July\", \"August\",\n",
    "                    \"September\", \"October\", \"November\", \"December\"], ordered=True)\n",
    "\n",
    "    df_2012['Date'] = pd.to_datetime(df_2012['Date'])\n",
    "    df_2013['Date'] = pd.to_datetime(df_2013['Date'])\n",
    "    df_2014['Date'] = pd.to_datetime(df_2014['Date'])\n",
    "    df_2015['Date'] = pd.to_datetime(df_2015['Date'])\n",
    "    df_2016['Date'] = pd.to_datetime(df_2016['Date'])\n",
    "    df_2017['Date'] = pd.to_datetime(df_2017['Date'])\n",
    "    df_2018['Date'] = pd.to_datetime(df_2018['Date'])\n",
    "    df_2019['Date'] = pd.to_datetime(df_2019['Date'])\n",
    "    df_2020['Date'] = pd.to_datetime(df_2020['Date'])\n",
    "    df_2021['Date'] = pd.to_datetime(df_2021['Date'])\n",
    "    df_2022['Date'] = pd.to_datetime(df_2022['Date'])\n",
    "\n",
    "    month_sale2012 = df_2012['Sale (Dollars)'].groupby(df_2012['Date'].dt.strftime('%B').astype(month_category)).sum()\n",
    "    month_sale2013 = df_2013['Sale (Dollars)'].groupby(df_2013['Date'].dt.strftime('%B').astype(month_category)).sum()\n",
    "    month_sale2014 = df_2014['Sale (Dollars)'].groupby(df_2014['Date'].dt.strftime('%B').astype(month_category)).sum()\n",
    "    month_sale2015 = df_2015['Sale (Dollars)'].groupby(df_2015['Date'].dt.strftime('%B').astype(month_category)).sum()\n",
    "    month_sale2016 = df_2016['Sale (Dollars)'].groupby(df_2016['Date'].dt.strftime('%B').astype(month_category)).sum()\n",
    "    month_sale2017 = df_2017['Sale (Dollars)'].groupby(df_2017['Date'].dt.strftime('%B').astype(month_category)).sum()\n",
    "    month_sale2018 = df_2018['Sale (Dollars)'].groupby(df_2018['Date'].dt.strftime('%B').astype(month_category)).sum()\n",
    "    month_sale2019 = df_2019['Sale (Dollars)'].groupby(df_2019['Date'].dt.strftime('%B').astype(month_category)).sum()\n",
    "    month_sale2020 = df_2020['Sale (Dollars)'].groupby(df_2020['Date'].dt.strftime('%B').astype(month_category)).sum()\n",
    "    month_sale2021 = df_2021['Sale (Dollars)'].groupby(df_2021['Date'].dt.strftime('%B').astype(month_category)).sum()\n",
    "    month_sale2022 = df_2022['Sale (Dollars)'].groupby(df_2022['Date'].dt.strftime('%B').astype(month_category)).sum()\n",
    "\n",
    "    x_2012 = [[\"2012\", \"2012\", \"2012\", \"2012\", \"2012\", \"2012\", \"2012\", \"2012\", \"2012\", \"2012\", \"2012\", \"2012\"],\n",
    "              month_sale2012.index]\n",
    "    x_2013 = [[\"2013\", \"2013\", \"2013\", \"2013\", \"2013\", \"2013\", \"2013\", \"2013\", \"2013\", \"2013\", \"2013\", \"2013\"],\n",
    "              month_sale2013.index]\n",
    "    x_2014 = [[\"2014\", \"2014\", \"2014\", \"2014\", \"2014\", \"2014\", \"2014\", \"2014\", \"2014\", \"2014\", \"2014\", \"2014\"],\n",
    "              month_sale2014.index]\n",
    "    x_2015 = [[\"2015\", \"2015\", \"2015\", \"2015\", \"2015\", \"2015\", \"2015\", \"2015\", \"2015\", \"2015\", \"2015\", \"2015\"],\n",
    "              month_sale2015.index]\n",
    "    x_2016 = [[\"2016\", \"2016\", \"2016\", \"2016\", \"2016\", \"2016\", \"2016\", \"2016\", \"2016\", \"2016\", \"2016\", \"2016\"],\n",
    "              month_sale2016.index]\n",
    "    x_2017 = [[\"2017\", \"2017\", \"2017\", \"2017\", \"2017\", \"2017\", \"2017\", \"2017\", \"2017\", \"2017\", \"2017\", \"2017\"],\n",
    "              month_sale2017.index]\n",
    "    x_2018 = [[\"2018\", \"2018\", \"2018\", \"2018\", \"2018\", \"2018\", \"2018\", \"2018\", \"2018\", \"2018\", \"2018\", \"2018\"],\n",
    "              month_sale2018.index]\n",
    "    x_2019 = [[\"2019\", \"2019\", \"2019\", \"2019\", \"2019\", \"2019\", \"2019\", \"2019\", \"2019\", \"2019\", \"2019\", \"2019\"],\n",
    "              month_sale2019.index]\n",
    "    x_2020 = [[\"2020\", \"2020\", \"2020\", \"2020\", \"2020\", \"2020\", \"2020\", \"2020\", \"2020\", \"2020\", \"2020\", \"2020\"],\n",
    "              month_sale2020.index]\n",
    "    x_2021 = [[\"2021\", \"2021\", \"2021\", \"2021\", \"2021\", \"2021\", \"2021\", \"2021\", \"2021\", \"2021\", \"2021\", \"2021\"],\n",
    "              month_sale2021.index]\n",
    "    x_2022 = [[\"2022\", \"2022\", \"2022\", \"2022\", \"2022\", \"2022\", \"2022\", \"2022\", \"2022\", \"2022\", \"2022\", \"2022\"],\n",
    "              month_sale2022.index]\n",
    "\n",
    "    fig1 = go.Figure()\n",
    "    fig1.add_bar(x=x_2012, y=month_sale2012.values)\n",
    "    fig1.add_bar(x=x_2013, y=month_sale2013.values)\n",
    "    fig1.add_bar(x=x_2014, y=month_sale2014.values)\n",
    "    fig1.add_bar(x=x_2015, y=month_sale2015.values)\n",
    "    fig1.add_bar(x=x_2016, y=month_sale2016.values)\n",
    "    fig1.add_bar(x=x_2017, y=month_sale2017.values)\n",
    "    fig1.add_bar(x=x_2018, y=month_sale2018.values)\n",
    "    fig1.add_bar(x=x_2019, y=month_sale2019.values)\n",
    "    fig1.add_bar(x=x_2020, y=month_sale2020.values)\n",
    "    fig1.add_bar(x=x_2021, y=month_sale2021.values)\n",
    "    fig1.add_bar(x=x_2022, y=month_sale2022.values)\n",
    "\n",
    "    fig1.update_layout(barmode=\"relative\", autosize=True,\n",
    "                       yaxis_title=\"Sales (USD)\", showlegend=False,\n",
    "                       title=\"SALES YEAR OVER YEAR GROWTH BY MONTHS\")\n",
    "\n",
    "    fig1.update_layout({'plot_bgcolor': 'rgba(0, 0, 0, 0)',\n",
    "                        'paper_bgcolor': 'rgba(0, 0, 0, 0)'})\n",
    "\n",
    "    fig1.show()"
   ]
  },
  {
   "cell_type": "code",
   "execution_count": null,
   "id": "4c552d2e",
   "metadata": {},
   "outputs": [],
   "source": [
    "plot_BarLineChart_OverallReport_MonthDetailed(df_2012, df_2013, df_2014, df_2015, df_2016, df_2017, \n",
    "                                              df_2018, df_2019, df_2020, df_2021, df_2022)"
   ]
  },
  {
   "cell_type": "markdown",
   "id": "79715728",
   "metadata": {},
   "source": [
    "# Details for each year"
   ]
  },
  {
   "cell_type": "markdown",
   "id": "5316c071",
   "metadata": {},
   "source": [
    "# <span style=\"color:RED\">5. DETAILS PAGE FOR EACH YEAR</span>"
   ]
  },
  {
   "cell_type": "markdown",
   "id": "e8d1cd03",
   "metadata": {},
   "source": [
    "## <span style=\"color:BLUE\">5.1. General information 2012-2022</span>"
   ]
  },
  {
   "cell_type": "code",
   "execution_count": null,
   "id": "9e37f258",
   "metadata": {},
   "outputs": [],
   "source": [
    "def total_general_bydf(df):\n",
    "    sale = '${:,.0f}'.format(df['Sale (Dollars)'].sum())\n",
    "    inv = '{:,.0f}'.format(len(df['Invoice/Item Number']))\n",
    "    bottleSold = '{:,.0f}'.format(df['Bottles Sold'].sum())\n",
    "    volumeG = '{:,.0f}'.format(df['Volume Sold (Gallons)'].sum())\n",
    "    stateBottleR = '${:,.0f}'.format(df['State Bottle Retail'].sum())\n",
    "    stateBottleC = '${:,.0f}'.format(df['State Bottle Cost'].sum())\n",
    "\n",
    "    return sale, inv, bottleSold, volumeG, stateBottleR, stateBottleC"
   ]
  },
  {
   "cell_type": "code",
   "execution_count": null,
   "id": "42f0a292",
   "metadata": {},
   "outputs": [],
   "source": [
    "# General Calculation (string format)\n",
    "(sale_2012, inv_2012, bottleSold_2012, volumeG_2012, stateBottleR_2012, stateBottleC_2012) = total_general_bydf(df_2012)\n",
    "(sale_2013, inv_2013, bottleSold_2013, volumeG_2013, stateBottleR_2013, stateBottleC_2013) = total_general_bydf(df_2013)\n",
    "(sale_2014, inv_2014, bottleSold_2014, volumeG_2014, stateBottleR_2014, stateBottleC_2014) = total_general_bydf(df_2014)\n",
    "(sale_2015, inv_2015, bottleSold_2015, volumeG_2015, stateBottleR_2015, stateBottleC_2015) = total_general_bydf(df_2015)\n",
    "(sale_2016, inv_2016, bottleSold_2016, volumeG_2016, stateBottleR_2016, stateBottleC_2016) = total_general_bydf(df_2016)\n",
    "(sale_2017, inv_2017, bottleSold_2017, volumeG_2017, stateBottleR_2017, stateBottleC_2017) = total_general_bydf(df_2017)\n",
    "(sale_2018, inv_2018, bottleSold_2018, volumeG_2018, stateBottleR_2018, stateBottleC_2018) = total_general_bydf(df_2018)\n",
    "(sale_2019, inv_2019, bottleSold_2019, volumeG_2019, stateBottleR_2019, stateBottleC_2019) = total_general_bydf(df_2019)\n",
    "(sale_2020, inv_2020, bottleSold_2020, volumeG_2020, stateBottleR_2020, stateBottleC_2020) = total_general_bydf(df_2020)\n",
    "(sale_2021, inv_2021, bottleSold_2021, volumeG_2021, stateBottleR_2021, stateBottleC_2021) = total_general_bydf(df_2021)\n",
    "(sale_2022, inv_2022, bottleSold_2022, volumeG_2022, stateBottleR_2022, stateBottleC_2022) = total_general_bydf(df_2022)"
   ]
  },
  {
   "cell_type": "code",
   "execution_count": null,
   "id": "aa219363",
   "metadata": {},
   "outputs": [],
   "source": [
    "fig = go.Figure(data=[go.Table(\n",
    "    header=dict(values=['Year','2012','2013', '2014', '2015', '2016', '2017', '2018','2019','2020','2021','2022'],\n",
    "               fill_color='paleturquoise',\n",
    "                align = ['left', 'center']),\n",
    "    cells=dict(values=[['Sales (USD)','Number of invoices','Bottle Sold','Volume Sold','State Bottle Retail','State Bottle Cost'], \n",
    "                       [sale_2012, inv_2012, bottleSold_2012, volumeG_2012, stateBottleR_2012, stateBottleC_2012],\n",
    "                       [sale_2013, inv_2013, bottleSold_2013, volumeG_2013, stateBottleR_2013, stateBottleC_2013],\n",
    "                       [sale_2014, inv_2014, bottleSold_2014, volumeG_2014, stateBottleR_2014, stateBottleC_2014],\n",
    "                       [sale_2015, inv_2015, bottleSold_2015, volumeG_2015, stateBottleR_2015, stateBottleC_2015],\n",
    "                       [sale_2016, inv_2016, bottleSold_2016, volumeG_2016, stateBottleR_2016, stateBottleC_2016],\n",
    "                       [sale_2017, inv_2017, bottleSold_2017, volumeG_2017, stateBottleR_2017, stateBottleC_2017],\n",
    "                       [sale_2018, inv_2018, bottleSold_2018, volumeG_2018, stateBottleR_2018, stateBottleC_2018],\n",
    "                       [sale_2019, inv_2019, bottleSold_2019, volumeG_2019, stateBottleR_2019, stateBottleC_2019],\n",
    "                       [sale_2020, inv_2020, bottleSold_2020, volumeG_2020, stateBottleR_2020, stateBottleC_2020],\n",
    "                       [sale_2021, inv_2021, bottleSold_2021, volumeG_2021, stateBottleR_2021, stateBottleC_2021],\n",
    "                       [sale_2022, inv_2022, bottleSold_2022, volumeG_2022, stateBottleR_2022, stateBottleC_2022]],\n",
    "                       fill_color='lavender',\n",
    "                       align = ['left', 'center']\n",
    "                      ))\n",
    "])\n",
    "fig.update_layout({'plot_bgcolor': 'rgba(0, 0, 0, 0)', \n",
    "                   'paper_bgcolor': 'rgba(0, 0, 0, 0)'},\n",
    "                  margin={'l': 0, 'r': 0, 't': 10, 'b': 0})\n",
    "fig.show()"
   ]
  },
  {
   "cell_type": "markdown",
   "id": "9bba38a6",
   "metadata": {},
   "source": [
    "## <span style=\"color:BLUE\">5.2. The general trend of sales by Month, Day of Week</span>"
   ]
  },
  {
   "cell_type": "code",
   "execution_count": null,
   "id": "f964e9f8",
   "metadata": {},
   "outputs": [],
   "source": [
    "def total_general_byyear(df):\n",
    "    df['Date'] = pd.to_datetime(df['Date'])\n",
    "    df['Month'] = df['Date'].dt.strftime('%B').astype(month_category)\n",
    "    df['Day of Week'] = df['Date'].dt.dayofweek.map({0: 'Monday', 1: 'Tuesday', 2: 'Wednesday', 3: 'Thursday',\n",
    "                                                     4: 'Friday', 5: 'Saturday', 6: 'Sunday'}).astype(dow_category)\n",
    "\n",
    "    # Details sale, number of invoices by months in a year\n",
    "    month_sale = df['Sale (Dollars)'].groupby(df['Month']).sum()\n",
    "    month_inv = df['Month'].value_counts(sort=False)\n",
    "\n",
    "    # Details sale, number of invoices by day of week\n",
    "    dow_sale = df['Sale (Dollars)'].groupby(df['Day of Week']).sum()\n",
    "    dow_inv = df['Day of Week'].value_counts(sort=False)\n",
    "\n",
    "    # sales of months, day of week for heatmap\n",
    "    m_dow = df['Sale (Dollars)'].groupby([df['Month'], df['Day of Week']]).sum().reset_index()\n",
    "    m_dow_df = m_dow.pivot(index='Month', columns='Day of Week')['Sale (Dollars)'].fillna(0)\n",
    "\n",
    "    return month_sale, month_inv, dow_sale, dow_inv, m_dow_df"
   ]
  },
  {
   "cell_type": "code",
   "execution_count": null,
   "id": "990ba92c",
   "metadata": {},
   "outputs": [],
   "source": [
    "# Get Total sale, number of invoices by months, day of week\n",
    "month_sale_2012, month_inv_2012, dow_sale_2012, dow_inv_2012, month_dow_2012 = total_general_byyear(df_2012)\n",
    "month_sale_2013, month_inv_2013, dow_sale_2013, dow_inv_2013, month_dow_2013 = total_general_byyear(df_2013)\n",
    "month_sale_2014, month_inv_2014, dow_sale_2014, dow_inv_2014, month_dow_2014 = total_general_byyear(df_2014)\n",
    "month_sale_2015, month_inv_2015, dow_sale_2015, dow_inv_2015, month_dow_2015 = total_general_byyear(df_2015)\n",
    "month_sale_2016, month_inv_2016, dow_sale_2016, dow_inv_2016, month_dow_2016 = total_general_byyear(df_2016)\n",
    "month_sale_2017, month_inv_2017, dow_sale_2017, dow_inv_2017, month_dow_2017 = total_general_byyear(df_2017)\n",
    "month_sale_2018, month_inv_2018, dow_sale_2018, dow_inv_2018, month_dow_2018 = total_general_byyear(df_2018)\n",
    "month_sale_2019, month_inv_2019, dow_sale_2019, dow_inv_2019, month_dow_2019 = total_general_byyear(df_2019)\n",
    "month_sale_2020, month_inv_2020, dow_sale_2020, dow_inv_2020, month_dow_2020 = total_general_byyear(df_2020)\n",
    "month_sale_2021, month_inv_2021, dow_sale_2021, dow_inv_2021, month_dow_2021 = total_general_byyear(df_2021)\n",
    "month_sale_2022, month_inv_2022, dow_sale_2022, dow_inv_2022, month_dow_2022 = total_general_byyear(df_2022)"
   ]
  },
  {
   "cell_type": "code",
   "execution_count": null,
   "id": "fc43c710",
   "metadata": {},
   "outputs": [],
   "source": [
    "def plot_bar_scatter_sale_inv_bydf(sale, inv, xaxes_title, yaxes_left, yaxes_right):\n",
    "    fig = make_subplots(specs=[[{\"secondary_y\": True}]])\n",
    "\n",
    "    fig.add_trace(\n",
    "        go.Bar(x=sale.index, y=sale.values,\n",
    "               name=\"Total Sales (USD)\"), secondary_y=False)\n",
    "\n",
    "    fig.add_trace(\n",
    "        go.Scatter(x=inv.index, y=inv.values,\n",
    "                   line_color=\"#00008B\", name=\"Number of invoices\", mode=\"lines\"), secondary_y=True)\n",
    "\n",
    "    fig.update_xaxes(title_text=xaxes_title)\n",
    "\n",
    "    # Set y-axes titles\n",
    "    fig.update_yaxes(title_text=yaxes_left, secondary_y=False)\n",
    "    fig.update_yaxes(title_text=yaxes_right, secondary_y=True)\n",
    "\n",
    "    fig.update_traces(marker_color='rgb(237, 201, 72)', opacity=1)\n",
    "    fig.update_layout(showlegend=False, autosize=False,\n",
    "                      margin=dict(l=0, r=0, b=0, t=0))  # remove the white margin/border around the figure\n",
    "    fig.update_layout({'plot_bgcolor': 'rgba(0, 0, 0, 0)',\n",
    "                       'paper_bgcolor': 'rgba(0, 0, 0, 0)'})\n",
    "    fig.show()"
   ]
  },
  {
   "cell_type": "code",
   "execution_count": null,
   "id": "52e08576",
   "metadata": {},
   "outputs": [],
   "source": [
    "def plot_heatmap_month_dow(m_dow_df):\n",
    "    fig = px.imshow(m_dow_df,\n",
    "                    labels = dict(x = \"Day of Week\", y = \"Month\", color = \"Sale (Dollars)\"),\n",
    "                    x = m_dow_df.columns, y = m_dow_df.index,\n",
    "                    aspect = \"auto\")\n",
    "    fig.update_xaxes(side = \"top\")\n",
    "    fig.show()"
   ]
  },
  {
   "cell_type": "markdown",
   "id": "f4604e79",
   "metadata": {},
   "source": [
    "### <span style=\"color:green\">5.2a. 2012</span>"
   ]
  },
  {
   "cell_type": "code",
   "execution_count": null,
   "id": "19214c01",
   "metadata": {},
   "outputs": [],
   "source": [
    "plot_bar_scatter_sale_inv_bydf(month_sale_2012, month_inv_2012, \"Month\", \"Total Sales (USD)\", \"Number of invoices\")\n",
    "plot_bar_scatter_sale_inv_bydf(dow_sale_2012, dow_inv_2012, \"Day of Week\", \"Total Sales (USD)\", \"Number of invoices\")\n",
    "plot_heatmap_month_dow(month_dow_2012)"
   ]
  },
  {
   "cell_type": "markdown",
   "id": "fe041fb6",
   "metadata": {},
   "source": [
    "### <span style=\"color:green\">5.2b. 2013</span>"
   ]
  },
  {
   "cell_type": "code",
   "execution_count": null,
   "id": "4ed26c04",
   "metadata": {},
   "outputs": [],
   "source": [
    "plot_bar_scatter_sale_inv_bydf(month_sale_2013, month_inv_2013, \"Month\", \"Total Sales (USD)\", \"Number of invoices\")\n",
    "plot_bar_scatter_sale_inv_bydf(dow_sale_2013, dow_inv_2013, \"Day of Week\", \"Total Sales (USD)\", \"Number of invoices\")\n",
    "plot_heatmap_month_dow(month_dow_2013)"
   ]
  },
  {
   "cell_type": "markdown",
   "id": "db9dcecf",
   "metadata": {},
   "source": [
    "### <span style=\"color:green\">5.2c. 2014</span>"
   ]
  },
  {
   "cell_type": "code",
   "execution_count": null,
   "id": "812d462f",
   "metadata": {},
   "outputs": [],
   "source": [
    "plot_bar_scatter_sale_inv_bydf(month_sale_2014, month_inv_2014, \"Month\", \"Total Sales (USD)\", \"Number of invoices\")\n",
    "plot_bar_scatter_sale_inv_bydf(dow_sale_2014, dow_inv_2014, \"Day of Week\", \"Total Sales (USD)\", \"Number of invoices\")\n",
    "plot_heatmap_month_dow(month_dow_2014)"
   ]
  },
  {
   "cell_type": "markdown",
   "id": "7d6d7447",
   "metadata": {},
   "source": [
    "### <span style=\"color:green\">5.2d. 2015</span>"
   ]
  },
  {
   "cell_type": "code",
   "execution_count": null,
   "id": "8a30b8ba",
   "metadata": {},
   "outputs": [],
   "source": [
    "plot_bar_scatter_sale_inv_bydf(month_sale_2015, month_inv_2015, \"Month\", \"Total Sales (USD)\", \"Number of invoices\")\n",
    "plot_bar_scatter_sale_inv_bydf(dow_sale_2015, dow_inv_2015, \"Day of Week\", \"Total Sales (USD)\", \"Number of invoices\")\n",
    "plot_heatmap_month_dow(month_dow_2015)"
   ]
  },
  {
   "cell_type": "markdown",
   "id": "dbe47a04",
   "metadata": {},
   "source": [
    "### <span style=\"color:green\">5.2e. 2016</span>"
   ]
  },
  {
   "cell_type": "code",
   "execution_count": null,
   "id": "b7356a8a",
   "metadata": {},
   "outputs": [],
   "source": [
    "plot_bar_scatter_sale_inv_bydf(month_sale_2016, month_inv_2016, \"Month\", \"Total Sales (USD)\", \"Number of invoices\")\n",
    "plot_bar_scatter_sale_inv_bydf(dow_sale_2016, dow_inv_2016, \"Day of Week\", \"Total Sales (USD)\", \"Number of invoices\")\n",
    "plot_heatmap_month_dow(month_dow_2016)"
   ]
  },
  {
   "cell_type": "markdown",
   "id": "eca76c45",
   "metadata": {},
   "source": [
    "### <span style=\"color:green\">5.2f. 2017</span>"
   ]
  },
  {
   "cell_type": "code",
   "execution_count": null,
   "id": "2ffd1ea9",
   "metadata": {},
   "outputs": [],
   "source": [
    "plot_bar_scatter_sale_inv_bydf(month_sale_2017, month_inv_2017, \"Month\", \"Total Sales (USD)\", \"Number of invoices\")\n",
    "plot_bar_scatter_sale_inv_bydf(dow_sale_2017, dow_inv_2017, \"Day of Week\", \"Total Sales (USD)\", \"Number of invoices\")\n",
    "plot_heatmap_month_dow(month_dow_2017)"
   ]
  },
  {
   "cell_type": "markdown",
   "id": "3e0bcda3",
   "metadata": {},
   "source": [
    "### <span style=\"color:green\">5.2g. 2018</span>"
   ]
  },
  {
   "cell_type": "code",
   "execution_count": null,
   "id": "3030eed0",
   "metadata": {
    "scrolled": true
   },
   "outputs": [],
   "source": [
    "plot_bar_scatter_sale_inv_bydf(month_sale_2018, month_inv_2018, \"Month\", \"Total Sales (USD)\", \"Number of invoices\")\n",
    "plot_bar_scatter_sale_inv_bydf(dow_sale_2018, dow_inv_2018, \"Day of Week\", \"Total Sales (USD)\", \"Number of invoices\")\n",
    "plot_heatmap_month_dow(month_dow_2018)"
   ]
  },
  {
   "cell_type": "markdown",
   "id": "0b10dbc5",
   "metadata": {},
   "source": [
    "### <span style=\"color:green\">5.2h. 2019</span>"
   ]
  },
  {
   "cell_type": "code",
   "execution_count": null,
   "id": "ed4343ea",
   "metadata": {
    "scrolled": true
   },
   "outputs": [],
   "source": [
    "plot_bar_scatter_sale_inv_bydf(month_sale_2019, month_inv_2019, \"Month\", \"Total Sales (USD)\", \"Number of invoices\")\n",
    "plot_bar_scatter_sale_inv_bydf(dow_sale_2019, dow_inv_2019, \"Day of Week\", \"Total Sales (USD)\", \"Number of invoices\")\n",
    "plot_heatmap_month_dow(month_dow_2019)"
   ]
  },
  {
   "cell_type": "markdown",
   "id": "528c8680",
   "metadata": {},
   "source": [
    "### <span style=\"color:green\">5.2i. 2020</span>"
   ]
  },
  {
   "cell_type": "code",
   "execution_count": null,
   "id": "b845bae6",
   "metadata": {
    "scrolled": true
   },
   "outputs": [],
   "source": [
    "plot_bar_scatter_sale_inv_bydf(month_sale_2020, month_inv_2020, \"Month\", \"Total Sales (USD)\", \"Number of invoices\")\n",
    "plot_bar_scatter_sale_inv_bydf(dow_sale_2020, dow_inv_2020, \"Day of Week\", \"Total Sales (USD)\", \"Number of invoices\")\n",
    "plot_heatmap_month_dow(month_dow_2020)"
   ]
  },
  {
   "cell_type": "markdown",
   "id": "67d808ea",
   "metadata": {},
   "source": [
    "### <span style=\"color:green\">5.2j. 2021</span>"
   ]
  },
  {
   "cell_type": "code",
   "execution_count": null,
   "id": "62977eb0",
   "metadata": {
    "scrolled": true
   },
   "outputs": [],
   "source": [
    "plot_bar_scatter_sale_inv_bydf(month_sale_2021, month_inv_2021, \"Month\", \"Total Sales (USD)\", \"Number of invoices\")\n",
    "plot_bar_scatter_sale_inv_bydf(dow_sale_2021, dow_inv_2021, \"Day of Week\", \"Total Sales (USD)\", \"Number of invoices\")\n",
    "plot_heatmap_month_dow(month_dow_2021)"
   ]
  },
  {
   "cell_type": "markdown",
   "id": "89524337",
   "metadata": {},
   "source": [
    "### <span style=\"color:green\">5.2k. 2022</span>"
   ]
  },
  {
   "cell_type": "code",
   "execution_count": null,
   "id": "87e8a366",
   "metadata": {
    "scrolled": true
   },
   "outputs": [],
   "source": [
    "plot_bar_scatter_sale_inv_bydf(month_sale_2022, month_inv_2022, \"Month\", \"Total Sales (USD)\", \"Number of invoices\")\n",
    "plot_bar_scatter_sale_inv_bydf(dow_sale_2022, dow_inv_2022, \"Day of Week\", \"Total Sales (USD)\", \"Number of invoices\")\n",
    "plot_heatmap_month_dow(month_dow_2022)"
   ]
  },
  {
   "cell_type": "markdown",
   "id": "23eec7c2",
   "metadata": {},
   "source": [
    "## <span style=\"color:blue\">5.3. Top Grossing, Consuming item, category, store, city, county 2012-2022</span>"
   ]
  },
  {
   "cell_type": "code",
   "execution_count": null,
   "id": "3b59b532",
   "metadata": {},
   "outputs": [],
   "source": [
    "def top_Grossing_items(df):\n",
    "    top10Item = df.groupby('Item Description')['Sale (Dollars)'].agg(['sum','count'])\n",
    "    top10_highestItem = top10Item.sort_values(['sum', 'count'], ascending=[False, True]).head(10)\n",
    "    top10_lowestItem = top10Item.sort_values(['sum', 'count'], ascending=True).head(10)\n",
    "\n",
    "    top10Cat = df.groupby('Category Name')['Sale (Dollars)'].agg(['sum', 'count'])\n",
    "    top10_highestCat = top10Cat.sort_values(['sum', 'count'], ascending=[False, True]).head(10)\n",
    "    top10_lowestCat = top10Cat.sort_values(['sum', 'count'], ascending=True).head(10)\n",
    "\n",
    "    top10Vendor = df.groupby('Vendor Name')['Sale (Dollars)'].agg(['sum', 'count'])\n",
    "    top10_highestVendor = top10Vendor.sort_values(['sum', 'count'], ascending=[False, True]).head(10)\n",
    "    top10_lowestVendor = top10Vendor.sort_values(['sum', 'count'], ascending=True).head(10)\n",
    "\n",
    "    top10Store = df.groupby('Store Name')['Sale (Dollars)'].agg(['sum', 'count'])\n",
    "    top10_highestStore = top10Store.sort_values(['sum', 'count'], ascending=[False, True]).head(10)\n",
    "    top10_lowestStore = top10Store.sort_values(['sum', 'count'], ascending=True).head(10)\n",
    "\n",
    "    top10City = df.groupby('City')['Sale (Dollars)'].agg(['sum', 'count'])\n",
    "    top10_highestCity = top10City.sort_values(['sum', 'count'], ascending=[False, True]).head(10)\n",
    "    top10_lowestCity = top10City.sort_values(['sum', 'count'], ascending=True).head(10)\n",
    "\n",
    "    top10County = df.groupby('County')['Sale (Dollars)'].agg(['sum', 'count'])\n",
    "    top10_highestCounty = top10County.sort_values(['sum', 'count'], ascending=[False, True]).head(10)\n",
    "    top10_lowestCounty = top10County.sort_values(['sum', 'count'], ascending=True).head(10)\n",
    "\n",
    "    return (top10_highestItem, top10_lowestItem, top10_highestCat, top10_lowestCat,\n",
    "            top10_highestVendor, top10_lowestVendor, top10_highestStore, top10_lowestStore,\n",
    "            top10_highestCity, top10_lowestCity, top10_highestCounty, top10_lowestCounty)\n",
    "\n",
    "def top_Consuming_items(df):\n",
    "    top10Item = df.groupby('Item Description')['Sale (Dollars)'].agg(['count', 'sum'])\n",
    "    top10_mostItem = top10Item.sort_values(['count', 'sum'], ascending=[False, True]).head(10)\n",
    "    top10_leastItem = top10Item.sort_values(['count', 'sum'], ascending=True).head(10)\n",
    "\n",
    "    top10Cat = df.groupby('Category Name')['Sale (Dollars)'].agg(['count', 'sum'])\n",
    "    top10_mostCat = top10Cat.sort_values(['count', 'sum'], ascending=[False, True]).head(10)\n",
    "    top10_leastCat = top10Cat.sort_values(['count', 'sum'], ascending=True).head(10)\n",
    "\n",
    "    top10Vendor = df.groupby('Vendor Name')['Sale (Dollars)'].agg(['count', 'sum'])\n",
    "    top10_mostVendor = top10Vendor.sort_values(['count', 'sum'], ascending=[False, True]).head(10)\n",
    "    top10_leastVendor = top10Vendor.sort_values(['count', 'sum'], ascending=True).head(10)\n",
    "\n",
    "    top10Store = df.groupby('Store Name')['Sale (Dollars)'].agg(['count', 'sum'])\n",
    "    top10_mostStore = top10Store.sort_values(['count', 'sum'], ascending=[False, True]).head(10)\n",
    "    top10_leastStore = top10Store.sort_values(['count', 'sum'], ascending=True).head(10)\n",
    "\n",
    "    top10City = df.groupby('City')['Sale (Dollars)'].agg(['count', 'sum'])\n",
    "    top10_mostCity = top10City.sort_values(['count', 'sum'], ascending=[False, True]).head(10)\n",
    "    top10_leastCity = top10City.sort_values(['count', 'sum'], ascending=True).head(10)\n",
    "\n",
    "    top10County = df.groupby('County')['Sale (Dollars)'].agg(['count', 'sum'])\n",
    "    top10_mostCounty = top10County.sort_values(['count', 'sum'], ascending=[False, True]).head(10)\n",
    "    top10_leastCounty = top10County.sort_values(['count', 'sum'], ascending=True).head(10)\n",
    "\n",
    "    return (top10_mostItem, top10_leastItem, top10_mostCat, top10_leastCat,\n",
    "            top10_mostVendor, top10_leastVendor, top10_mostStore, top10_leastStore,\n",
    "            top10_mostCity, top10_leastCity, top10_mostCounty, top10_leastCounty)"
   ]
  },
  {
   "cell_type": "code",
   "execution_count": null,
   "id": "a348b305",
   "metadata": {},
   "outputs": [],
   "source": [
    "# Get top 10 grossing item dataframe\n",
    "(top10_highestItem_2012, top10_lowestItem_2012, top10_highestCat_2012, top10_lowestCat_2012, top10_highestVendor_2012,\n",
    " top10_lowestVendor_2012, top10_highestStore_2012, top10_lowestStore_2012, top10_highestCity_2012, top10_lowestCity_2012,\n",
    " top10_highestCounty_2012, top10_lowestCounty_2012) = top_Grossing_items(df_2012)\n",
    "\n",
    "(top10_highestItem_2013, top10_lowestItem_2013, top10_highestCat_2013, top10_lowestCat_2013, top10_highestVendor_2013,\n",
    " top10_lowestVendor_2013, top10_highestStore_2013, top10_lowestStore_2013, top10_highestCity_2013, top10_lowestCity_2013,\n",
    " top10_highestCounty_2013, top10_lowestCounty_2013) = top_Grossing_items(df_2013)\n",
    "\n",
    "(top10_highestItem_2014, top10_lowestItem_2014, top10_highestCat_2014, top10_lowestCat_2014, top10_highestVendor_2014,\n",
    " top10_lowestVendor_2014, top10_highestStore_2014, top10_lowestStore_2014, top10_highestCity_2014, top10_lowestCity_2014,\n",
    " top10_highestCounty_2014, top10_lowestCounty_2014) = top_Grossing_items(df_2014)\n",
    "\n",
    "(top10_highestItem_2015, top10_lowestItem_2015, top10_highestCat_2015, top10_lowestCat_2015, top10_highestVendor_2015,\n",
    " top10_lowestVendor_2015, top10_highestStore_2015, top10_lowestStore_2015, top10_highestCity_2015, top10_lowestCity_2015,\n",
    " top10_highestCounty_2015, top10_lowestCounty_2015) = top_Grossing_items(df_2015)\n",
    "\n",
    "(top10_highestItem_2016, top10_lowestItem_2016, top10_highestCat_2016, top10_lowestCat_2016, top10_highestVendor_2016,\n",
    " top10_lowestVendor_2016, top10_highestStore_2016, top10_lowestStore_2016, top10_highestCity_2016, top10_lowestCity_2016,\n",
    " top10_highestCounty_2016, top10_lowestCounty_2016) = top_Grossing_items(df_2016)\n",
    "\n",
    "(top10_highestItem_2017, top10_lowestItem_2017, top10_highestCat_2017, top10_lowestCat_2017, top10_highestVendor_2017,\n",
    " top10_lowestVendor_2017, top10_highestStore_2017, top10_lowestStore_2017, top10_highestCity_2017, top10_lowestCity_2017,\n",
    " top10_highestCounty_2017, top10_lowestCounty_2017) = top_Grossing_items(df_2017)\n",
    "\n",
    "(top10_highestItem_2018, top10_lowestItem_2018, top10_highestCat_2018, top10_lowestCat_2018, top10_highestVendor_2018,\n",
    " top10_lowestVendor_2018, top10_highestStore_2018, top10_lowestStore_2018, top10_highestCity_2018, top10_lowestCity_2018,\n",
    " top10_highestCounty_2018, top10_lowestCounty_2018) = top_Grossing_items(df_2018)\n",
    "\n",
    "(top10_highestItem_2019, top10_lowestItem_2019, top10_highestCat_2019, top10_lowestCat_2019, top10_highestVendor_2019,\n",
    " top10_lowestVendor_2019, top10_highestStore_2019, top10_lowestStore_2019, top10_highestCity_2019, top10_lowestCity_2019,\n",
    " top10_highestCounty_2019, top10_lowestCounty_2019) = top_Grossing_items(df_2019)\n",
    "\n",
    "(top10_highestItem_2020, top10_lowestItem_2020, top10_highestCat_2020, top10_lowestCat_2020, top10_highestVendor_2020,\n",
    " top10_lowestVendor_2020, top10_highestStore_2020, top10_lowestStore_2020, top10_highestCity_2020, top10_lowestCity_2020,\n",
    " top10_highestCounty_2020, top10_lowestCounty_2020) = top_Grossing_items(df_2020)\n",
    "\n",
    "(top10_highestItem_2021, top10_lowestItem_2021, top10_highestCat_2021, top10_lowestCat_2021, top10_highestVendor_2021,\n",
    " top10_lowestVendor_2021, top10_highestStore_2021, top10_lowestStore_2021, top10_highestCity_2021, top10_lowestCity_2021,\n",
    " top10_highestCounty_2021, top10_lowestCounty_2021) = top_Grossing_items(df_2021)\n",
    "\n",
    "(top10_highestItem_2022, top10_lowestItem_2022, top10_highestCat_2022, top10_lowestCat_2022, top10_highestVendor_2022,\n",
    " top10_lowestVendor_2022, top10_highestStore_2022, top10_lowestStore_2022, top10_highestCity_2022, top10_lowestCity_2022,\n",
    " top10_highestCounty_2022, top10_lowestCounty_2022) = top_Grossing_items(df_2022)"
   ]
  },
  {
   "cell_type": "code",
   "execution_count": null,
   "id": "1b4b6e21",
   "metadata": {},
   "outputs": [],
   "source": [
    "# Get top 10 the most popular consumed item dataframe\n",
    "(top10_mostItem_2012, top10_leastItem_2012, top10_mostCat_2012, top10_leastCat_2012, top10_mostVendor_2012,\n",
    " top10_leastVendor_2012, top10_mostStore_2012, top10_leastStore_2012, top10_mostCity_2012, top10_leastCity_2012,\n",
    " top10_mostCounty_2012, top10_leastCounty_2012) = top_Consuming_items(df_2012)\n",
    "\n",
    "(top10_mostItem_2013, top10_leastItem_2013, top10_mostCat_2013, top10_leastCat_2013, top10_mostVendor_2013,\n",
    " top10_leastVendor_2013, top10_mostStore_2013, top10_leastStore_2013, top10_mostCity_2013, top10_leastCity_2013,\n",
    " top10_mostCounty_2013, top10_leastCounty_2013) = top_Consuming_items(df_2013)\n",
    "\n",
    "(top10_mostItem_2014, top10_leastItem_2014, top10_mostCat_2014, top10_leastCat_2014, top10_mostVendor_2014,\n",
    " top10_leastVendor_2014, top10_mostStore_2014, top10_leastStore_2014, top10_mostCity_2014, top10_leastCity_2014,\n",
    " top10_mostCounty_2014, top10_leastCounty_2014) = top_Consuming_items(df_2014)\n",
    "\n",
    "(top10_mostItem_2015, top10_leastItem_2015, top10_mostCat_2015, top10_leastCat_2015, top10_mostVendor_2015,\n",
    " top10_leastVendor_2015, top10_mostStore_2015, top10_leastStore_2015, top10_mostCity_2015, top10_leastCity_2015,\n",
    " top10_mostCounty_2015, top10_leastCounty_2015) = top_Consuming_items(df_2015)\n",
    "\n",
    "(top10_mostItem_2016, top10_leastItem_2016, top10_mostCat_2016, top10_leastCat_2016, top10_mostVendor_2016,\n",
    " top10_leastVendor_2016, top10_mostStore_2016, top10_leastStore_2016, top10_mostCity_2016, top10_leastCity_2016,\n",
    " top10_mostCounty_2016, top10_leastCounty_2016) = top_Consuming_items(df_2016)\n",
    "\n",
    "(top10_mostItem_2017, top10_leastItem_2017, top10_mostCat_2017, top10_leastCat_2017, top10_mostVendor_2017,\n",
    " top10_leastVendor_2017, top10_mostStore_2017, top10_leastStore_2017, top10_mostCity_2017, top10_leastCity_2017,\n",
    " top10_mostCounty_2017, top10_leastCounty_2017) = top_Consuming_items(df_2017)\n",
    "\n",
    "(top10_mostItem_2018, top10_leastItem_2018, top10_mostCat_2018, top10_leastCat_2018, top10_mostVendor_2018,\n",
    " top10_leastVendor_2018, top10_mostStore_2018, top10_leastStore_2018, top10_mostCity_2018, top10_leastCity_2018,\n",
    " top10_mostCounty_2018, top10_leastCounty_2018) = top_Consuming_items(df_2018)\n",
    "\n",
    "(top10_mostItem_2019, top10_leastItem_2019, top10_mostCat_2019, top10_leastCat_2019, top10_mostVendor_2019,\n",
    " top10_leastVendor_2019, top10_mostStore_2019, top10_leastStore_2019, top10_mostCity_2019, top10_leastCity_2019,\n",
    " top10_mostCounty_2019, top10_leastCounty_2019) = top_Consuming_items(df_2019)\n",
    "\n",
    "(top10_mostItem_2020, top10_leastItem_2020, top10_mostCat_2020, top10_leastCat_2020, top10_mostVendor_2020,\n",
    " top10_leastVendor_2020, top10_mostStore_2020, top10_leastStore_2020, top10_mostCity_2020, top10_leastCity_2020,\n",
    " top10_mostCounty_2020, top10_leastCounty_2020) = top_Consuming_items(df_2020)\n",
    "\n",
    "(top10_mostItem_2021, top10_leastItem_2021, top10_mostCat_2021, top10_leastCat_2021, top10_mostVendor_2021,\n",
    " top10_leastVendor_2021, top10_mostStore_2021, top10_leastStore_2021, top10_mostCity_2021, top10_leastCity_2021,\n",
    " top10_mostCounty_2021, top10_leastCounty_2021) = top_Consuming_items(df_2021)\n",
    "\n",
    "(top10_mostItem_2022, top10_leastItem_2022, top10_mostCat_2022, top10_leastCat_2022, top10_mostVendor_2022,\n",
    " top10_leastVendor_2022, top10_mostStore_2022, top10_leastStore_2022, top10_mostCity_2022, top10_leastCity_2022,\n",
    " top10_mostCounty_2022, top10_leastCounty_2022) = top_Consuming_items(df_2022)"
   ]
  },
  {
   "cell_type": "code",
   "execution_count": null,
   "id": "65116b65",
   "metadata": {},
   "outputs": [],
   "source": [
    "def plot_topGrossing(df_top10, df_title):\n",
    "    y_sales = df_top10['sum']\n",
    "    y_inv = df_top10['count']\n",
    "    x = df_top10.index\n",
    "\n",
    "    # Creating two subplots\n",
    "    fig = make_subplots(rows = 1, cols = 2,\n",
    "                        specs = [[{}, {}]], shared_xaxes=True,\n",
    "                        shared_yaxes=False, vertical_spacing=0.001)\n",
    "\n",
    "    fig.add_trace(go.Bar(x = y_sales, y = x,\n",
    "                         marker = dict(color = 'rgba(50, 171, 96, 0.6)',\n",
    "                                     line = dict(color = 'rgba(50, 171, 96, 1.0)', width = 1)),\n",
    "                         texttemplate = \"%{x:,.0f}\", name = 'Sales (USD)',\n",
    "                         orientation = 'h'), 1, 1)\n",
    "\n",
    "    fig.add_trace(go.Scatter(x = y_inv, y = x,\n",
    "                             mode='lines+markers', line_color='rgb(128, 0, 128)',\n",
    "                             name='Number of invoices'), 1, 2)\n",
    "\n",
    "    fig.update_layout(title = df_title,\n",
    "                      yaxis = dict(autorange=\"reversed\", showgrid = False, showline=False, showticklabels=True,\n",
    "                                 domain=[0, 0.85]),\n",
    "\n",
    "                      yaxis2 = dict(autorange=\"reversed\", showgrid=False, showline=True, showticklabels=False,\n",
    "                                  linecolor='rgba(102, 102, 102, 0.8)', linewidth=2,\n",
    "                                  domain=[0, 0.85]),\n",
    "\n",
    "                      xaxis = dict(zeroline=False, showline=False, showticklabels=True, showgrid=True,\n",
    "                                 domain=[0, 0.42]),\n",
    "\n",
    "                      xaxis2 = dict(zeroline=False, showline=False, showticklabels=True, showgrid=True,\n",
    "                                  domain=[0.47, 1], side='top'),\n",
    "\n",
    "                      legend = dict(x=0.029, y=1.038, font_size=10),\n",
    "                      margin = dict(l=100, r=20, t=70, b=70),\n",
    "                      paper_bgcolor = 'rgb(248, 248, 255)',\n",
    "                      plot_bgcolor = 'rgb(248, 248, 255)')\n",
    "\n",
    "    annotations = []\n",
    "\n",
    "    y_s = np.round(y_sales, decimals=0)\n",
    "    y_nw = np.rint(y_inv)\n",
    "\n",
    "    # Adding labels\n",
    "    for ydn, yd, xd in zip(y_nw, y_s, x):\n",
    "        # labeling the scatter savings\n",
    "        annotations.append(dict(xref='x2', yref='y2',\n",
    "                                y=xd, x=ydn - 10000,\n",
    "                                text='{:,}'.format(ydn),\n",
    "                                font=dict(family='Arial', size=12, color='rgb(128, 0, 128)'),\n",
    "                                showarrow=False))\n",
    "    # Source\n",
    "    annotations.append(dict(xref='paper', yref='paper',\n",
    "                            x=-0.2, y=-0.109,\n",
    "                            text='Data Provided by Iowa Department of Commerce, Alcoholic Beverages Division',\n",
    "                            font=dict(family='Arial', size=10, color='rgb(150,150,150)'), showarrow=False))\n",
    "\n",
    "    fig.update_layout(annotations=annotations)\n",
    "    fig.show()\n",
    "\n",
    "\n",
    "def plot_topConsumingLiquor(df_top10, df_title):\n",
    "    y_sales = df_top10['count']\n",
    "    y_inv = df_top10['sum']\n",
    "    x = df_top10.index\n",
    "\n",
    "    # Creating two subplots\n",
    "    fig = make_subplots(rows=1, cols=2, specs=[[{}, {}]], shared_xaxes=True,\n",
    "                        shared_yaxes=False, vertical_spacing=0.001)\n",
    "\n",
    "    fig.add_trace(go.Bar(x=y_sales, y=x,\n",
    "                         marker=dict(color='rgba(50, 171, 96, 0.6)',\n",
    "                                     line=dict(color='rgba(50, 171, 96, 1.0)', width=1)),\n",
    "                         texttemplate=\"%{x:,.0f}\", name='Number of invoices',\n",
    "                         orientation='h'), 1, 1)\n",
    "\n",
    "    fig.add_trace(go.Scatter(x=y_inv, y=x,\n",
    "                             mode='lines+markers', line_color='rgb(128, 0, 128)',\n",
    "                             name='Sales (USD)'), 1, 2)\n",
    "\n",
    "    fig.update_layout(title=df_title,\n",
    "                      yaxis=dict(autorange=\"reversed\", showgrid=False, showline=False, showticklabels=True,\n",
    "                                 domain=[0, 0.85]),\n",
    "\n",
    "                      yaxis2=dict(autorange=\"reversed\", showgrid=False, showline=True, showticklabels=False,\n",
    "                                  linecolor='rgba(102, 102, 102, 0.8)', linewidth=2,\n",
    "                                  domain=[0, 0.85]),\n",
    "\n",
    "                      xaxis=dict(zeroline=False, showline=False, showticklabels=True, showgrid=True,\n",
    "                                 domain=[0, 0.42]),\n",
    "\n",
    "                      xaxis2=dict(zeroline=False, showline=False, showticklabels=True, showgrid=True,\n",
    "                                  domain=[0.47, 1], side='top'),\n",
    "\n",
    "                      legend=dict(x=0.029, y=1.038, font_size=10),\n",
    "                      margin=dict(l=100, r=20, t=70, b=70),\n",
    "                      paper_bgcolor='rgb(248, 248, 255)',\n",
    "                      plot_bgcolor='rgb(248, 248, 255)')\n",
    "\n",
    "    annotations = []\n",
    "\n",
    "    y_s = np.round(y_sales, decimals=0)\n",
    "    y_nw = np.rint(y_inv)\n",
    "\n",
    "    # Adding labels\n",
    "    for ydn, yd, xd in zip(y_nw, y_s, x):\n",
    "        # labeling the scatter savings\n",
    "        annotations.append(dict(xref='x2', yref='y2',\n",
    "                                y=xd, x=ydn - 10000,\n",
    "                                text='{:,}'.format(ydn),\n",
    "                                font=dict(family='Arial', size=12, color='rgb(128, 0, 128)'),\n",
    "                                showarrow=False))\n",
    "    # Source\n",
    "    annotations.append(dict(xref='paper', yref='paper',\n",
    "                            x=-0.2, y=-0.109,\n",
    "                            text='Data Provided by Iowa Department of Commerce, Alcoholic Beverages Division',\n",
    "                            font=dict(family='Arial', size=10, color='rgb(150,150,150)'), showarrow=False))\n",
    "\n",
    "    fig.update_layout(annotations=annotations)\n",
    "    fig.show()"
   ]
  },
  {
   "cell_type": "markdown",
   "id": "1f8a8db4",
   "metadata": {},
   "source": [
    "### <span style=\"color:green\">5.3a. Top highest items</span>"
   ]
  },
  {
   "cell_type": "code",
   "execution_count": null,
   "id": "ae611053",
   "metadata": {},
   "outputs": [],
   "source": [
    "plot_topGrossing(top10_highestItem_2012, \"TOP 10 OF HIGHEST-GROSSING ITEMS\")\n",
    "plot_topGrossing(top10_highestItem_2013, \"TOP 10 OF HIGHEST-GROSSING ITEMS\")\n",
    "plot_topGrossing(top10_highestItem_2014, \"TOP 10 OF HIGHEST-GROSSING ITEMS\")\n",
    "plot_topGrossing(top10_highestItem_2015, \"TOP 10 OF HIGHEST-GROSSING ITEMS\")\n",
    "plot_topGrossing(top10_highestItem_2016, \"TOP 10 OF HIGHEST-GROSSING ITEMS\")\n",
    "plot_topGrossing(top10_highestItem_2017, \"TOP 10 OF HIGHEST-GROSSING ITEMS\")\n",
    "plot_topGrossing(top10_highestItem_2018, \"TOP 10 OF HIGHEST-GROSSING ITEMS\")\n",
    "plot_topGrossing(top10_highestItem_2019, \"TOP 10 OF HIGHEST-GROSSING ITEMS\")\n",
    "plot_topGrossing(top10_highestItem_2020, \"TOP 10 OF HIGHEST-GROSSING ITEMS\")\n",
    "plot_topGrossing(top10_highestItem_2021, \"TOP 10 OF HIGHEST-GROSSING ITEMS\")\n",
    "plot_topGrossing(top10_highestItem_2022, \"TOP 10 OF HIGHEST-GROSSING ITEMS\")"
   ]
  },
  {
   "cell_type": "markdown",
   "id": "9207fd90",
   "metadata": {},
   "source": [
    "### <span style=\"color:green\">5.3b. Top lowest items</span>"
   ]
  },
  {
   "cell_type": "code",
   "execution_count": null,
   "id": "666a1d9c",
   "metadata": {},
   "outputs": [],
   "source": [
    "plot_topGrossing(top10_lowestItem_2012, \"TOP 10 OF LOWEST-GROSSING ITEMS\")\n",
    "plot_topGrossing(top10_lowestItem_2013, \"TOP 10 OF LOWEST-GROSSING ITEMS\")\n",
    "plot_topGrossing(top10_lowestItem_2014, \"TOP 10 OF LOWEST-GROSSING ITEMS\")\n",
    "plot_topGrossing(top10_lowestItem_2015, \"TOP 10 OF LOWEST-GROSSING ITEMS\")\n",
    "plot_topGrossing(top10_lowestItem_2016, \"TOP 10 OF LOWEST-GROSSING ITEMS\")\n",
    "plot_topGrossing(top10_lowestItem_2017, \"TOP 10 OF LOWEST-GROSSING ITEMS\")\n",
    "plot_topGrossing(top10_lowestItem_2018, \"TOP 10 OF LOWEST-GROSSING ITEMS\")\n",
    "plot_topGrossing(top10_lowestItem_2019, \"TOP 10 OF LOWEST-GROSSING ITEMS\")\n",
    "plot_topGrossing(top10_lowestItem_2020, \"TOP 10 OF LOWEST-GROSSING ITEMS\")\n",
    "plot_topGrossing(top10_lowestItem_2021, \"TOP 10 OF LOWEST-GROSSING ITEMS\")\n",
    "plot_topGrossing(top10_lowestItem_2022, \"TOP 10 OF LOWEST-GROSSING ITEMS\")"
   ]
  },
  {
   "cell_type": "markdown",
   "id": "519b8949",
   "metadata": {},
   "source": [
    "### <span style=\"color:green\">5.3c. Top highest categories</span>"
   ]
  },
  {
   "cell_type": "code",
   "execution_count": null,
   "id": "aab88b2c",
   "metadata": {},
   "outputs": [],
   "source": [
    "fig_top_highestCat_2012 = plot_topGrossing(top10_highestCat_2012, \"TOP 10 OF HIGHEST-GROSSING CATEGORIES\")\n",
    "fig_top_highestCat_2013 = plot_topGrossing(top10_highestCat_2013, \"TOP 10 OF HIGHEST-GROSSING CATEGORIES\")\n",
    "fig_top_highestCat_2014 = plot_topGrossing(top10_highestCat_2014, \"TOP 10 OF HIGHEST-GROSSING CATEGORIES\")\n",
    "fig_top_highestCat_2015 = plot_topGrossing(top10_highestCat_2015, \"TOP 10 OF HIGHEST-GROSSING CATEGORIES\")\n",
    "fig_top_highestCat_2016 = plot_topGrossing(top10_highestCat_2016, \"TOP 10 OF HIGHEST-GROSSING CATEGORIES\")\n",
    "fig_top_highestCat_2017 = plot_topGrossing(top10_highestCat_2017, \"TOP 10 OF HIGHEST-GROSSING CATEGORIES\")\n",
    "fig_top_highestCat_2018 = plot_topGrossing(top10_highestCat_2018, \"TOP 10 OF HIGHEST-GROSSING CATEGORIES\")\n",
    "fig_top_highestCat_2019 = plot_topGrossing(top10_highestCat_2019, \"TOP 10 OF HIGHEST-GROSSING CATEGORIES\")\n",
    "fig_top_highestCat_2020 = plot_topGrossing(top10_highestCat_2020, \"TOP 10 OF HIGHEST-GROSSING CATEGORIES\")\n",
    "fig_top_highestCat_2021 = plot_topGrossing(top10_highestCat_2021, \"TOP 10 OF HIGHEST-GROSSING CATEGORIES\")\n",
    "fig_top_highestCat_2022 = plot_topGrossing(top10_highestCat_2022, \"TOP 10 OF HIGHEST-GROSSING CATEGORIES\")"
   ]
  },
  {
   "cell_type": "markdown",
   "id": "9302a51b",
   "metadata": {},
   "source": [
    "### <span style=\"color:green\">5.3d. Top lowest categories</span>"
   ]
  },
  {
   "cell_type": "code",
   "execution_count": null,
   "id": "df999ad0",
   "metadata": {},
   "outputs": [],
   "source": [
    "fig_top_lowestCat_2012 = plot_topGrossing(top10_lowestCat_2012, \"TOP 10 OF LOWEST-GROSSING CATEGORIES\")\n",
    "fig_top_lowestCat_2013 = plot_topGrossing(top10_lowestCat_2013, \"TOP 10 OF LOWEST-GROSSING CATEGORIES\")\n",
    "fig_top_lowestCat_2014 = plot_topGrossing(top10_lowestCat_2014, \"TOP 10 OF LOWEST-GROSSING CATEGORIES\")\n",
    "fig_top_lowestCat_2015 = plot_topGrossing(top10_lowestCat_2015, \"TOP 10 OF LOWEST-GROSSING CATEGORIES\")\n",
    "fig_top_lowestCat_2016 = plot_topGrossing(top10_lowestCat_2016, \"TOP 10 OF LOWEST-GROSSING CATEGORIES\")\n",
    "fig_top_lowestCat_2017 = plot_topGrossing(top10_lowestCat_2017, \"TOP 10 OF LOWEST-GROSSING CATEGORIES\")\n",
    "fig_top_lowestCat_2018 = plot_topGrossing(top10_lowestCat_2018, \"TOP 10 OF LOWEST-GROSSING CATEGORIES\")\n",
    "fig_top_lowestCat_2019 = plot_topGrossing(top10_lowestCat_2019, \"TOP 10 OF LOWEST-GROSSING CATEGORIES\")\n",
    "fig_top_lowestCat_2020 = plot_topGrossing(top10_lowestCat_2020, \"TOP 10 OF LOWEST-GROSSING CATEGORIES\")\n",
    "fig_top_lowestCat_2021 = plot_topGrossing(top10_lowestCat_2021, \"TOP 10 OF LOWEST-GROSSING CATEGORIES\")\n",
    "fig_top_lowestCat_2022 = plot_topGrossing(top10_lowestCat_2022, \"TOP 10 OF LOWEST-GROSSING CATEGORIES\")"
   ]
  },
  {
   "cell_type": "markdown",
   "id": "e4ac9a6f",
   "metadata": {},
   "source": [
    "### <span style=\"color:green\">5.3e. Top highest vendors</span>"
   ]
  },
  {
   "cell_type": "code",
   "execution_count": null,
   "id": "f17ac80f",
   "metadata": {},
   "outputs": [],
   "source": [
    "fig_top_highestVendor_2012 = plot_topGrossing(top10_highestVendor_2012, \"TOP 10 OF HIGHEST-GROSSING VENDORS\")\n",
    "fig_top_highestVendor_2013 = plot_topGrossing(top10_highestVendor_2013, \"TOP 10 OF HIGHEST-GROSSING VENDORS\")\n",
    "fig_top_highestVendor_2014 = plot_topGrossing(top10_highestVendor_2014, \"TOP 10 OF HIGHEST-GROSSING VENDORS\")\n",
    "fig_top_highestVendor_2015 = plot_topGrossing(top10_highestVendor_2015, \"TOP 10 OF HIGHEST-GROSSING VENDORS\")\n",
    "fig_top_highestVendor_2016 = plot_topGrossing(top10_highestVendor_2016, \"TOP 10 OF HIGHEST-GROSSING VENDORS\")\n",
    "fig_top_highestVendor_2017 = plot_topGrossing(top10_highestVendor_2017, \"TOP 10 OF HIGHEST-GROSSING VENDORS\")\n",
    "fig_top_highestVendor_2018 = plot_topGrossing(top10_highestVendor_2018, \"TOP 10 OF HIGHEST-GROSSING VENDORS\")\n",
    "fig_top_highestVendor_2019 = plot_topGrossing(top10_highestVendor_2019, \"TOP 10 OF HIGHEST-GROSSING VENDORS\")\n",
    "fig_top_highestVendor_2020 = plot_topGrossing(top10_highestVendor_2020, \"TOP 10 OF HIGHEST-GROSSING VENDORS\")\n",
    "fig_top_highestVendor_2021 = plot_topGrossing(top10_highestVendor_2021, \"TOP 10 OF HIGHEST-GROSSING VENDORS\")\n",
    "fig_top_highestVendor_2022 = plot_topGrossing(top10_highestVendor_2022, \"TOP 10 OF HIGHEST-GROSSING VENDORS\")"
   ]
  },
  {
   "cell_type": "markdown",
   "id": "36d99548",
   "metadata": {},
   "source": [
    "### <span style=\"color:green\">5.3f. Top lowest vendors</span>"
   ]
  },
  {
   "cell_type": "code",
   "execution_count": null,
   "id": "8e7093ce",
   "metadata": {},
   "outputs": [],
   "source": [
    "fig_top_lowestVendor_2012 = plot_topGrossing(top10_lowestVendor_2012, \"TOP 10 OF LOWEST-GROSSING VENDORS\")\n",
    "fig_top_lowestVendor_2013 = plot_topGrossing(top10_lowestVendor_2013, \"TOP 10 OF LOWEST-GROSSING VENDORS\")\n",
    "fig_top_lowestVendor_2014 = plot_topGrossing(top10_lowestVendor_2014, \"TOP 10 OF LOWEST-GROSSING VENDORS\")\n",
    "fig_top_lowestVendor_2015 = plot_topGrossing(top10_lowestVendor_2015, \"TOP 10 OF LOWEST-GROSSING VENDORS\")\n",
    "fig_top_lowestVendor_2016 = plot_topGrossing(top10_lowestVendor_2016, \"TOP 10 OF LOWEST-GROSSING VENDORS\")\n",
    "fig_top_lowestVendor_2017 = plot_topGrossing(top10_lowestVendor_2017, \"TOP 10 OF LOWEST-GROSSING VENDORS\")\n",
    "fig_top_lowestVendor_2018 = plot_topGrossing(top10_lowestVendor_2018, \"TOP 10 OF LOWEST-GROSSING VENDORS\")\n",
    "fig_top_lowestVendor_2019 = plot_topGrossing(top10_lowestVendor_2019, \"TOP 10 OF LOWEST-GROSSING VENDORS\")\n",
    "fig_top_lowestVendor_2020 = plot_topGrossing(top10_lowestVendor_2020, \"TOP 10 OF LOWEST-GROSSING VENDORS\")\n",
    "fig_top_lowestVendor_2021 = plot_topGrossing(top10_lowestVendor_2021, \"TOP 10 OF LOWEST-GROSSING VENDORS\")\n",
    "fig_top_lowestVendor_2022 = plot_topGrossing(top10_lowestVendor_2022, \"TOP 10 OF LOWEST-GROSSING VENDORS\")"
   ]
  },
  {
   "cell_type": "markdown",
   "id": "a672a8bb",
   "metadata": {},
   "source": [
    "### <span style=\"color:green\">5.3g. Top highest stores</span>"
   ]
  },
  {
   "cell_type": "code",
   "execution_count": null,
   "id": "5ba4e111",
   "metadata": {},
   "outputs": [],
   "source": [
    "fig_top_highestStore_2012 = plot_topGrossing(top10_highestStore_2012, \"TOP 10 OF HIGHEST-GROSSING STORES\")\n",
    "fig_top_highestStore_2013 = plot_topGrossing(top10_highestStore_2013, \"TOP 10 OF HIGHEST-GROSSING STORES\")\n",
    "fig_top_highestStore_2014 = plot_topGrossing(top10_highestStore_2014, \"TOP 10 OF HIGHEST-GROSSING STORES\")\n",
    "fig_top_highestStore_2015 = plot_topGrossing(top10_highestStore_2015, \"TOP 10 OF HIGHEST-GROSSING STORES\")\n",
    "fig_top_highestStore_2016 = plot_topGrossing(top10_highestStore_2016, \"TOP 10 OF HIGHEST-GROSSING STORES\")\n",
    "fig_top_highestStore_2017 = plot_topGrossing(top10_highestStore_2017, \"TOP 10 OF HIGHEST-GROSSING STORES\")\n",
    "fig_top_highestStore_2018 = plot_topGrossing(top10_highestStore_2018, \"TOP 10 OF HIGHEST-GROSSING STORES\")\n",
    "fig_top_highestStore_2019 = plot_topGrossing(top10_highestStore_2019, \"TOP 10 OF HIGHEST-GROSSING STORES\")\n",
    "fig_top_highestStore_2020 = plot_topGrossing(top10_highestStore_2020, \"TOP 10 OF HIGHEST-GROSSING STORES\")\n",
    "fig_top_highestStore_2021 = plot_topGrossing(top10_highestStore_2021, \"TOP 10 OF HIGHEST-GROSSING STORES\")\n",
    "fig_top_highestStore_2022 = plot_topGrossing(top10_highestStore_2022, \"TOP 10 OF HIGHEST-GROSSING STORES\")"
   ]
  },
  {
   "cell_type": "markdown",
   "id": "d26ef157",
   "metadata": {},
   "source": [
    "### <span style=\"color:green\">5.3h. Top lowest stores</span>"
   ]
  },
  {
   "cell_type": "code",
   "execution_count": null,
   "id": "df3a92c6",
   "metadata": {},
   "outputs": [],
   "source": [
    "fig_top_lowestStore_2012 = plot_topGrossing(top10_lowestStore_2012, \"TOP 10 OF LOWEST-GROSSING STORES\")\n",
    "fig_top_lowestStore_2013 = plot_topGrossing(top10_lowestStore_2013, \"TOP 10 OF LOWEST-GROSSING STORES\")\n",
    "fig_top_lowestStore_2014 = plot_topGrossing(top10_lowestStore_2014, \"TOP 10 OF LOWEST-GROSSING STORES\")\n",
    "fig_top_lowestStore_2015 = plot_topGrossing(top10_lowestStore_2015, \"TOP 10 OF LOWEST-GROSSING STORES\")\n",
    "fig_top_lowestStore_2016 = plot_topGrossing(top10_lowestStore_2016, \"TOP 10 OF LOWEST-GROSSING STORES\")\n",
    "fig_top_lowestStore_2017 = plot_topGrossing(top10_lowestStore_2017, \"TOP 10 OF LOWEST-GROSSING STORES\")\n",
    "fig_top_lowestStore_2018 = plot_topGrossing(top10_lowestStore_2018, \"TOP 10 OF LOWEST-GROSSING STORES\")\n",
    "fig_top_lowestStore_2019 = plot_topGrossing(top10_lowestStore_2019, \"TOP 10 OF LOWEST-GROSSING STORES\")\n",
    "fig_top_lowestStore_2020 = plot_topGrossing(top10_lowestStore_2020, \"TOP 10 OF LOWEST-GROSSING STORES\")\n",
    "fig_top_lowestStore_2021 = plot_topGrossing(top10_lowestStore_2021, \"TOP 10 OF LOWEST-GROSSING STORES\")\n",
    "fig_top_lowestStore_2022 = plot_topGrossing(top10_lowestStore_2022, \"TOP 10 OF LOWEST-GROSSING STORES\")"
   ]
  },
  {
   "cell_type": "markdown",
   "id": "51849c2e",
   "metadata": {},
   "source": [
    "### <span style=\"color:green\">5.3i. Top most items</span>"
   ]
  },
  {
   "cell_type": "code",
   "execution_count": null,
   "id": "b7cb2920",
   "metadata": {},
   "outputs": [],
   "source": [
    "fig_top_mostItem_2012 = plot_topConsumingLiquor(top10_mostItem_2012, \"THE 10 MOST POPULAR CONSUMED LIQUOR\")\n",
    "fig_top_mostItem_2013 = plot_topConsumingLiquor(top10_mostItem_2013, \"THE 10 MOST POPULAR CONSUMED LIQUOR\")\n",
    "fig_top_mostItem_2014 = plot_topConsumingLiquor(top10_mostItem_2014, \"THE 10 MOST POPULAR CONSUMED LIQUOR\")\n",
    "fig_top_mostItem_2015 = plot_topConsumingLiquor(top10_mostItem_2015, \"THE 10 MOST POPULAR CONSUMED LIQUOR\")\n",
    "fig_top_mostItem_2016 = plot_topConsumingLiquor(top10_mostItem_2016, \"THE 10 MOST POPULAR CONSUMED LIQUOR\")\n",
    "fig_top_mostItem_2017 = plot_topConsumingLiquor(top10_mostItem_2017, \"THE 10 MOST POPULAR CONSUMED LIQUOR\")\n",
    "fig_top_mostItem_2018 = plot_topConsumingLiquor(top10_mostItem_2018, \"THE 10 MOST POPULAR CONSUMED LIQUOR\")\n",
    "fig_top_mostItem_2019 = plot_topConsumingLiquor(top10_mostItem_2019, \"THE 10 MOST POPULAR CONSUMED LIQUOR\")\n",
    "fig_top_mostItem_2020 = plot_topConsumingLiquor(top10_mostItem_2020, \"THE 10 MOST POPULAR CONSUMED LIQUOR\")\n",
    "fig_top_mostItem_2021 = plot_topConsumingLiquor(top10_mostItem_2021, \"THE 10 MOST POPULAR CONSUMED LIQUOR\")\n",
    "fig_top_mostItem_2022 = plot_topConsumingLiquor(top10_mostItem_2022, \"THE 10 MOST POPULAR CONSUMED LIQUOR\")"
   ]
  },
  {
   "cell_type": "markdown",
   "id": "35892528",
   "metadata": {},
   "source": [
    "### <span style=\"color:green\">5.3k. Top least items</span>"
   ]
  },
  {
   "cell_type": "code",
   "execution_count": null,
   "id": "381bf09a",
   "metadata": {},
   "outputs": [],
   "source": [
    "fig_top_leastItem_2012 = plot_topConsumingLiquor(top10_leastItem_2012, \"THE LEAST POPULAR CONSUMED LIQUOR\")\n",
    "fig_top_leastItem_2013 = plot_topConsumingLiquor(top10_leastItem_2013, \"THE LEAST POPULAR CONSUMED LIQUOR\")\n",
    "fig_top_leastItem_2014 = plot_topConsumingLiquor(top10_leastItem_2014, \"THE LEAST POPULAR CONSUMED LIQUOR\")\n",
    "fig_top_leastItem_2015 = plot_topConsumingLiquor(top10_leastItem_2015, \"THE LEAST POPULAR CONSUMED LIQUOR\")\n",
    "fig_top_leastItem_2016 = plot_topConsumingLiquor(top10_leastItem_2016, \"THE LEAST POPULAR CONSUMED LIQUOR\")\n",
    "fig_top_leastItem_2017 = plot_topConsumingLiquor(top10_leastItem_2017, \"THE LEAST POPULAR CONSUMED LIQUOR\")\n",
    "fig_top_leastItem_2018 = plot_topConsumingLiquor(top10_leastItem_2018, \"THE LEAST POPULAR CONSUMED LIQUOR\")\n",
    "fig_top_leastItem_2019 = plot_topConsumingLiquor(top10_leastItem_2019, \"THE LEAST POPULAR CONSUMED LIQUOR\")\n",
    "fig_top_leastItem_2020 = plot_topConsumingLiquor(top10_leastItem_2020, \"THE LEAST POPULAR CONSUMED LIQUOR\")\n",
    "fig_top_leastItem_2021 = plot_topConsumingLiquor(top10_leastItem_2021, \"THE LEAST POPULAR CONSUMED LIQUOR\")\n",
    "fig_top_leastItem_2022 = plot_topConsumingLiquor(top10_leastItem_2022, \"THE LEAST POPULAR CONSUMED LIQUOR\")"
   ]
  },
  {
   "cell_type": "markdown",
   "id": "e624d20d",
   "metadata": {},
   "source": [
    "### <span style=\"color:green\">5.3l. Top most categories</span>"
   ]
  },
  {
   "cell_type": "code",
   "execution_count": null,
   "id": "c1359aed",
   "metadata": {},
   "outputs": [],
   "source": [
    "fig_top_mostCat_2012 = plot_topConsumingLiquor(top10_mostCat_2012, \"THE 10 MOST POPULAR CONSUMED LIQUOR CATEGORIES\")\n",
    "fig_top_mostCat_2013 = plot_topConsumingLiquor(top10_mostCat_2013, \"THE 10 MOST POPULAR CONSUMED LIQUOR CATEGORIES\")\n",
    "fig_top_mostCat_2014 = plot_topConsumingLiquor(top10_mostCat_2014, \"THE 10 MOST POPULAR CONSUMED LIQUOR CATEGORIES\")\n",
    "fig_top_mostCat_2015 = plot_topConsumingLiquor(top10_mostCat_2015, \"THE 10 MOST POPULAR CONSUMED LIQUOR CATEGORIES\")\n",
    "fig_top_mostCat_2016 = plot_topConsumingLiquor(top10_mostCat_2016, \"THE 10 MOST POPULAR CONSUMED LIQUOR CATEGORIES\")\n",
    "fig_top_mostCat_2017 = plot_topConsumingLiquor(top10_mostCat_2017, \"THE 10 MOST POPULAR CONSUMED LIQUOR CATEGORIES\")\n",
    "fig_top_mostCat_2018 = plot_topConsumingLiquor(top10_mostCat_2018, \"THE 10 MOST POPULAR CONSUMED LIQUOR CATEGORIES\")\n",
    "fig_top_mostCat_2019 = plot_topConsumingLiquor(top10_mostCat_2019, \"THE 10 MOST POPULAR CONSUMED LIQUOR CATEGORIES\")\n",
    "fig_top_mostCat_2020 = plot_topConsumingLiquor(top10_mostCat_2020, \"THE 10 MOST POPULAR CONSUMED LIQUOR CATEGORIES\")\n",
    "fig_top_mostCat_2021 = plot_topConsumingLiquor(top10_mostCat_2021, \"THE 10 MOST POPULAR CONSUMED LIQUOR CATEGORIES\")\n",
    "fig_top_mostCat_2022 = plot_topConsumingLiquor(top10_mostCat_2022, \"THE 10 MOST POPULAR CONSUMED LIQUOR CATEGORIES\")"
   ]
  },
  {
   "cell_type": "markdown",
   "id": "03f461a8",
   "metadata": {},
   "source": [
    "### <span style=\"color:green\">5.3m. Top least categories</span>"
   ]
  },
  {
   "cell_type": "code",
   "execution_count": null,
   "id": "5bd0718a",
   "metadata": {},
   "outputs": [],
   "source": [
    "fig_top_leastCat_2012 = plot_topConsumingLiquor(top10_leastCat_2012, \"THE LEAST POPULAR CONSUMED LIQUOR CATEGORIES\")\n",
    "fig_top_leastCat_2013 = plot_topConsumingLiquor(top10_leastCat_2013, \"THE LEAST POPULAR CONSUMED LIQUOR CATEGORIES\")\n",
    "fig_top_leastCat_2014 = plot_topConsumingLiquor(top10_leastCat_2014, \"THE LEAST POPULAR CONSUMED LIQUOR CATEGORIES\")\n",
    "fig_top_leastCat_2015 = plot_topConsumingLiquor(top10_leastCat_2015, \"THE LEAST POPULAR CONSUMED LIQUOR CATEGORIES\")\n",
    "fig_top_leastCat_2016 = plot_topConsumingLiquor(top10_leastCat_2016, \"THE LEAST POPULAR CONSUMED LIQUOR CATEGORIES\")\n",
    "fig_top_leastCat_2017 = plot_topConsumingLiquor(top10_leastCat_2017, \"THE LEAST POPULAR CONSUMED LIQUOR CATEGORIES\")\n",
    "fig_top_leastCat_2018 = plot_topConsumingLiquor(top10_leastCat_2018, \"THE LEAST POPULAR CONSUMED LIQUOR CATEGORIES\")\n",
    "fig_top_leastCat_2019 = plot_topConsumingLiquor(top10_leastCat_2019, \"THE LEAST POPULAR CONSUMED LIQUOR CATEGORIES\")\n",
    "fig_top_leastCat_2020 = plot_topConsumingLiquor(top10_leastCat_2020, \"THE LEAST POPULAR CONSUMED LIQUOR CATEGORIES\")\n",
    "fig_top_leastCat_2021 = plot_topConsumingLiquor(top10_leastCat_2021, \"THE LEAST POPULAR CONSUMED LIQUOR CATEGORIES\")\n",
    "fig_top_leastCat_2022 = plot_topConsumingLiquor(top10_leastCat_2022, \"THE LEAST POPULAR CONSUMED LIQUOR CATEGORIES\")"
   ]
  },
  {
   "cell_type": "markdown",
   "id": "a068ecf7",
   "metadata": {},
   "source": [
    "### <span style=\"color:green\">5.3n. Top most vendors</span>"
   ]
  },
  {
   "cell_type": "code",
   "execution_count": null,
   "id": "34da36a4",
   "metadata": {},
   "outputs": [],
   "source": [
    "fig_top_mostVendor_2012 = plot_topConsumingLiquor(top10_mostVendor_2012, \"THE 10 MOST POPULAR CONSUMED LIQUOR VENDORS\")\n",
    "fig_top_mostVendor_2013 = plot_topConsumingLiquor(top10_mostVendor_2013, \"THE 10 MOST POPULAR CONSUMED LIQUOR VENDORS\")\n",
    "fig_top_mostVendor_2014 = plot_topConsumingLiquor(top10_mostVendor_2014, \"THE 10 MOST POPULAR CONSUMED LIQUOR VENDORS\")\n",
    "fig_top_mostVendor_2015 = plot_topConsumingLiquor(top10_mostVendor_2015, \"THE 10 MOST POPULAR CONSUMED LIQUOR VENDORS\")\n",
    "fig_top_mostVendor_2016 = plot_topConsumingLiquor(top10_mostVendor_2016, \"THE 10 MOST POPULAR CONSUMED LIQUOR VENDORS\")\n",
    "fig_top_mostVendor_2017 = plot_topConsumingLiquor(top10_mostVendor_2017, \"THE 10 MOST POPULAR CONSUMED LIQUOR VENDORS\")\n",
    "fig_top_mostVendor_2018 = plot_topConsumingLiquor(top10_mostVendor_2018, \"THE 10 MOST POPULAR CONSUMED LIQUOR VENDORS\")\n",
    "fig_top_mostVendor_2019 = plot_topConsumingLiquor(top10_mostVendor_2019, \"THE 10 MOST POPULAR CONSUMED LIQUOR VENDORS\")\n",
    "fig_top_mostVendor_2020 = plot_topConsumingLiquor(top10_mostVendor_2020, \"THE 10 MOST POPULAR CONSUMED LIQUOR VENDORS\")\n",
    "fig_top_mostVendor_2021 = plot_topConsumingLiquor(top10_mostVendor_2021, \"THE 10 MOST POPULAR CONSUMED LIQUOR VENDORS\")\n",
    "fig_top_mostVendor_2022 = plot_topConsumingLiquor(top10_mostVendor_2022, \"THE 10 MOST POPULAR CONSUMED LIQUOR VENDORS\")"
   ]
  },
  {
   "cell_type": "markdown",
   "id": "cb8182c1",
   "metadata": {},
   "source": [
    "### <span style=\"color:green\">5.3o. Top least vendors</span>"
   ]
  },
  {
   "cell_type": "code",
   "execution_count": null,
   "id": "e2c37a39",
   "metadata": {},
   "outputs": [],
   "source": [
    "fig_top_leastVendor_2012 = plot_topConsumingLiquor(top10_leastVendor_2012, \"THE LEAST POPULAR CONSUMED LIQUOR VENDORS\")\n",
    "fig_top_leastVendor_2013 = plot_topConsumingLiquor(top10_leastVendor_2013, \"THE LEAST POPULAR CONSUMED LIQUOR VENDORS\")\n",
    "fig_top_leastVendor_2014 = plot_topConsumingLiquor(top10_leastVendor_2014, \"THE LEAST POPULAR CONSUMED LIQUOR VENDORS\")\n",
    "fig_top_leastVendor_2015 = plot_topConsumingLiquor(top10_leastVendor_2015, \"THE LEAST POPULAR CONSUMED LIQUOR VENDORS\")\n",
    "fig_top_leastVendor_2016 = plot_topConsumingLiquor(top10_leastVendor_2016, \"THE LEAST POPULAR CONSUMED LIQUOR VENDORS\")\n",
    "fig_top_leastVendor_2017 = plot_topConsumingLiquor(top10_leastVendor_2017, \"THE LEAST POPULAR CONSUMED LIQUOR VENDORS\")\n",
    "fig_top_leastVendor_2018 = plot_topConsumingLiquor(top10_leastVendor_2018, \"THE LEAST POPULAR CONSUMED LIQUOR VENDORS\")\n",
    "fig_top_leastVendor_2019 = plot_topConsumingLiquor(top10_leastVendor_2019, \"THE LEAST POPULAR CONSUMED LIQUOR VENDORS\")\n",
    "fig_top_leastVendor_2020 = plot_topConsumingLiquor(top10_leastVendor_2020, \"THE LEAST POPULAR CONSUMED LIQUOR VENDORS\")\n",
    "fig_top_leastVendor_2021 = plot_topConsumingLiquor(top10_leastVendor_2021, \"THE LEAST POPULAR CONSUMED LIQUOR VENDORS\")\n",
    "fig_top_leastVendor_2022 = plot_topConsumingLiquor(top10_leastVendor_2022, \"THE LEAST POPULAR CONSUMED LIQUOR VENDORS\")"
   ]
  },
  {
   "cell_type": "markdown",
   "id": "40c447fb",
   "metadata": {},
   "source": [
    "### <span style=\"color:green\">5.3p. Top most store</span>"
   ]
  },
  {
   "cell_type": "code",
   "execution_count": null,
   "id": "bd118d6a",
   "metadata": {},
   "outputs": [],
   "source": [
    "fig_top_mostStore_2012 = plot_topConsumingLiquor(top10_mostStore_2012, \"THE 10 MOST POPULAR CONSUMED LIQUOR STORES\")\n",
    "fig_top_mostStore_2013 = plot_topConsumingLiquor(top10_mostStore_2013, \"THE 10 MOST POPULAR CONSUMED LIQUOR STORES\")\n",
    "fig_top_mostStore_2014 = plot_topConsumingLiquor(top10_mostStore_2014, \"THE 10 MOST POPULAR CONSUMED LIQUOR STORES\")\n",
    "fig_top_mostStore_2015 = plot_topConsumingLiquor(top10_mostStore_2015, \"THE 10 MOST POPULAR CONSUMED LIQUOR STORES\")\n",
    "fig_top_mostStore_2016 = plot_topConsumingLiquor(top10_mostStore_2016, \"THE 10 MOST POPULAR CONSUMED LIQUOR STORES\")\n",
    "fig_top_mostStore_2017 = plot_topConsumingLiquor(top10_mostStore_2017, \"THE 10 MOST POPULAR CONSUMED LIQUOR STORES\")\n",
    "fig_top_mostStore_2018 = plot_topConsumingLiquor(top10_mostStore_2018, \"THE 10 MOST POPULAR CONSUMED LIQUOR STORES\")\n",
    "fig_top_mostStore_2019 = plot_topConsumingLiquor(top10_mostStore_2019, \"THE 10 MOST POPULAR CONSUMED LIQUOR STORES\")\n",
    "fig_top_mostStore_2020 = plot_topConsumingLiquor(top10_mostStore_2020, \"THE 10 MOST POPULAR CONSUMED LIQUOR STORES\")\n",
    "fig_top_mostStore_2021 = plot_topConsumingLiquor(top10_mostStore_2021, \"THE 10 MOST POPULAR CONSUMED LIQUOR STORES\")\n",
    "fig_top_mostStore_2022 = plot_topConsumingLiquor(top10_mostStore_2022, \"THE 10 MOST POPULAR CONSUMED LIQUOR STORES\")"
   ]
  },
  {
   "cell_type": "markdown",
   "id": "a56aa138",
   "metadata": {},
   "source": [
    "### <span style=\"color:green\">5.3q. Top least store</span>"
   ]
  },
  {
   "cell_type": "code",
   "execution_count": null,
   "id": "26f90540",
   "metadata": {},
   "outputs": [],
   "source": [
    "fig_top_leastStore_2012 = plot_topConsumingLiquor(top10_leastStore_2012, \"THE LEAST POPULAR CONSUMED LIQUOR STORES\")\n",
    "fig_top_leastStore_2013 = plot_topConsumingLiquor(top10_leastStore_2013, \"THE LEAST POPULAR CONSUMED LIQUOR STORES\")\n",
    "fig_top_leastStore_2014 = plot_topConsumingLiquor(top10_leastStore_2014, \"THE LEAST POPULAR CONSUMED LIQUOR STORES\")\n",
    "fig_top_leastStore_2015 = plot_topConsumingLiquor(top10_leastStore_2015, \"THE LEAST POPULAR CONSUMED LIQUOR STORES\")\n",
    "fig_top_leastStore_2016 = plot_topConsumingLiquor(top10_leastStore_2016, \"THE LEAST POPULAR CONSUMED LIQUOR STORES\")\n",
    "fig_top_leastStore_2017 = plot_topConsumingLiquor(top10_leastStore_2017, \"THE LEAST POPULAR CONSUMED LIQUOR STORES\")\n",
    "fig_top_leastStore_2018 = plot_topConsumingLiquor(top10_leastStore_2018, \"THE LEAST POPULAR CONSUMED LIQUOR STORES\")\n",
    "fig_top_leastStore_2019 = plot_topConsumingLiquor(top10_leastStore_2019, \"THE LEAST POPULAR CONSUMED LIQUOR STORES\")\n",
    "fig_top_leastStore_2020 = plot_topConsumingLiquor(top10_leastStore_2020, \"THE LEAST POPULAR CONSUMED LIQUOR STORES\")\n",
    "fig_top_leastStore_2021 = plot_topConsumingLiquor(top10_leastStore_2021, \"THE LEAST POPULAR CONSUMED LIQUOR STORES\")\n",
    "fig_top_leastStore_2022 = plot_topConsumingLiquor(top10_leastStore_2022, \"THE LEAST POPULAR CONSUMED LIQUOR STORES\")"
   ]
  },
  {
   "cell_type": "markdown",
   "id": "dc7f59f0",
   "metadata": {},
   "source": [
    "## <span style=\"color:blue\">5.4. Profit 2012-2022</span>"
   ]
  },
  {
   "cell_type": "code",
   "execution_count": null,
   "id": "37de0f1e",
   "metadata": {},
   "outputs": [],
   "source": [
    "def item_profit(df_2012, df_2013, df_2014, df_2015, df_2016, df_2017, df_2018, df_2019, df_2020, df_2021, df_2022):\n",
    "    df_2012['Cost Bottle Sold'] = df_2012['State Bottle Cost'] * df_2012['Bottles Sold']\n",
    "    df_2012['Profit'] = df_2012['Sale (Dollars)'] - df_2012['Cost Bottle Sold']\n",
    "    profit_2012 = df_2012.groupby(by=['Item Description'])['Profit'].sum().reset_index()  \n",
    "    \n",
    "    df_2013['Cost Bottle Sold'] = df_2013['State Bottle Cost'] * df_2013['Bottles Sold']\n",
    "    df_2013['Profit'] = df_2013['Sale (Dollars)'] - df_2013['Cost Bottle Sold']\n",
    "    profit_2013 = df_2013.groupby(by=['Item Description'])['Profit'].sum().reset_index() \n",
    "    \n",
    "    df_2014['Cost Bottle Sold'] = df_2014['State Bottle Cost'] * df_2014['Bottles Sold']\n",
    "    df_2014['Profit'] = df_2014['Sale (Dollars)'] - df_2014['Cost Bottle Sold']\n",
    "    profit_2014 = df_2014.groupby(by=['Item Description'])['Profit'].sum().reset_index()  \n",
    "\n",
    "    df_2015['Cost Bottle Sold'] = df_2015['State Bottle Cost'] * df_2015['Bottles Sold']\n",
    "    df_2015['Profit'] = df_2015['Sale (Dollars)'] - df_2015['Cost Bottle Sold']\n",
    "    profit_2015 = df_2015.groupby(by=['Item Description'])['Profit'].sum().reset_index()  \n",
    "\n",
    "    df_2016['Cost Bottle Sold'] = df_2016['State Bottle Cost'] * df_2016['Bottles Sold']\n",
    "    df_2016['Profit'] = df_2016['Sale (Dollars)'] - df_2016['Cost Bottle Sold']\n",
    "    profit_2016 = df_2016.groupby(by=['Item Description'])['Profit'].sum().reset_index()  \n",
    "\n",
    "    df_2017['Cost Bottle Sold'] = df_2017['State Bottle Cost'] * df_2017['Bottles Sold']\n",
    "    df_2017['Profit'] = df_2017['Sale (Dollars)'] - df_2017['Cost Bottle Sold']\n",
    "    profit_2017 = df_2017.groupby(by=['Item Description'])['Profit'].sum().reset_index()  \n",
    "\n",
    "    df_2018['Cost Bottle Sold'] = df_2018['State Bottle Cost'] * df_2018['Bottles Sold']\n",
    "    df_2018['Profit'] = df_2018['Sale (Dollars)'] - df_2018['Cost Bottle Sold']\n",
    "    profit_2018 = df_2018.groupby(by=['Item Description'])['Profit'].sum().reset_index()  \n",
    "\n",
    "    df_2019['Cost Bottle Sold'] = df_2019['State Bottle Cost'] * df_2019['Bottles Sold']\n",
    "    df_2019['Profit'] = df_2019['Sale (Dollars)'] - df_2019['Cost Bottle Sold']\n",
    "    profit_2019 = df_2019.groupby(by=['Item Description'])['Profit'].sum().reset_index()  \n",
    "\n",
    "    df_2020['Cost Bottle Sold'] = df_2020['State Bottle Cost'] * df_2020['Bottles Sold']\n",
    "    df_2020['Profit'] = df_2020['Sale (Dollars)'] - df_2020['Cost Bottle Sold']\n",
    "    profit_2020 = df_2020.groupby(by=['Item Description'])['Profit'].sum().reset_index()  \n",
    "\n",
    "    df_2021['Cost Bottle Sold'] = df_2021['State Bottle Cost'] * df_2021['Bottles Sold']\n",
    "    df_2021['Profit'] = df_2021['Sale (Dollars)'] - df_2021['Cost Bottle Sold']\n",
    "    profit_2021 = df_2021.groupby(by=['Item Description'])['Profit'].sum().reset_index()  \n",
    "\n",
    "    df_2022['Cost Bottle Sold'] = df_2022['State Bottle Cost'] * df_2022['Bottles Sold']\n",
    "    df_2022['Profit'] = df_2022['Sale (Dollars)'] - df_2022['Cost Bottle Sold']\n",
    "    profit_2022 = df_2022.groupby(by=['Item Description'])['Profit'].sum().reset_index()  \n",
    "    \n",
    "    return profit_2012, profit_2013, profit_2014, profit_2015, profit_2016, profit_2017, profit_2018, profit_2019, profit_2020, profit_2021, profit_2022"
   ]
  },
  {
   "cell_type": "code",
   "execution_count": null,
   "id": "9ec9de5b",
   "metadata": {},
   "outputs": [],
   "source": [
    "def cat_profit(df_2012, df_2013, df_2014, df_2015, df_2016, df_2017, df_2018, df_2019, df_2020, df_2021, df_2022):\n",
    "    df_2012['Cost Bottle Sold'] = df_2012['State Bottle Cost'] * df_2012['Bottles Sold']\n",
    "    df_2012['Profit'] = df_2012['Sale (Dollars)'] - df_2012['Cost Bottle Sold']\n",
    "    profit_2012 = df_2012.groupby(by=['Category Name'])['Profit'].sum().reset_index()  \n",
    "    \n",
    "    df_2013['Cost Bottle Sold'] = df_2013['State Bottle Cost'] * df_2013['Bottles Sold']\n",
    "    df_2013['Profit'] = df_2013['Sale (Dollars)'] - df_2013['Cost Bottle Sold']\n",
    "    profit_2013 = df_2013.groupby(by=['Category Name'])['Profit'].sum().reset_index() \n",
    "    \n",
    "    df_2014['Cost Bottle Sold'] = df_2014['State Bottle Cost'] * df_2014['Bottles Sold']\n",
    "    df_2014['Profit'] = df_2014['Sale (Dollars)'] - df_2014['Cost Bottle Sold']\n",
    "    profit_2014 = df_2014.groupby(by=['Category Name'])['Profit'].sum().reset_index()  \n",
    "\n",
    "    df_2015['Cost Bottle Sold'] = df_2015['State Bottle Cost'] * df_2015['Bottles Sold']\n",
    "    df_2015['Profit'] = df_2015['Sale (Dollars)'] - df_2015['Cost Bottle Sold']\n",
    "    profit_2015 = df_2015.groupby(by=['Category Name'])['Profit'].sum().reset_index()  \n",
    "\n",
    "    df_2016['Cost Bottle Sold'] = df_2016['State Bottle Cost'] * df_2016['Bottles Sold']\n",
    "    df_2016['Profit'] = df_2016['Sale (Dollars)'] - df_2016['Cost Bottle Sold']\n",
    "    profit_2016 = df_2016.groupby(by=['Category Name'])['Profit'].sum().reset_index()  \n",
    "\n",
    "    df_2017['Cost Bottle Sold'] = df_2017['State Bottle Cost'] * df_2017['Bottles Sold']\n",
    "    df_2017['Profit'] = df_2017['Sale (Dollars)'] - df_2017['Cost Bottle Sold']\n",
    "    profit_2017 = df_2017.groupby(by=['Category Name'])['Profit'].sum().reset_index()  \n",
    "\n",
    "    df_2018['Cost Bottle Sold'] = df_2018['State Bottle Cost'] * df_2018['Bottles Sold']\n",
    "    df_2018['Profit'] = df_2018['Sale (Dollars)'] - df_2018['Cost Bottle Sold']\n",
    "    profit_2018 = df_2018.groupby(by=['Category Name'])['Profit'].sum().reset_index()  \n",
    "\n",
    "    df_2019['Cost Bottle Sold'] = df_2019['State Bottle Cost'] * df_2019['Bottles Sold']\n",
    "    df_2019['Profit'] = df_2019['Sale (Dollars)'] - df_2019['Cost Bottle Sold']\n",
    "    profit_2019 = df_2019.groupby(by=['Category Name'])['Profit'].sum().reset_index()  \n",
    "\n",
    "    df_2020['Cost Bottle Sold'] = df_2020['State Bottle Cost'] * df_2020['Bottles Sold']\n",
    "    df_2020['Profit'] = df_2020['Sale (Dollars)'] - df_2020['Cost Bottle Sold']\n",
    "    profit_2020 = df_2020.groupby(by=['Category Name'])['Profit'].sum().reset_index()  \n",
    "\n",
    "    df_2021['Cost Bottle Sold'] = df_2021['State Bottle Cost'] * df_2021['Bottles Sold']\n",
    "    df_2021['Profit'] = df_2021['Sale (Dollars)'] - df_2021['Cost Bottle Sold']\n",
    "    profit_2021 = df_2021.groupby(by=['Category Name'])['Profit'].sum().reset_index()  \n",
    "\n",
    "    df_2022['Cost Bottle Sold'] = df_2022['State Bottle Cost'] * df_2022['Bottles Sold']\n",
    "    df_2022['Profit'] = df_2022['Sale (Dollars)'] - df_2022['Cost Bottle Sold']\n",
    "    profit_2022 = df_2022.groupby(by=['Category Name'])['Profit'].sum().reset_index()  \n",
    "    \n",
    "    return profit_2012, profit_2013, profit_2014, profit_2015, profit_2016, profit_2017, profit_2018, profit_2019, profit_2020, profit_2021, profit_2022"
   ]
  },
  {
   "cell_type": "code",
   "execution_count": null,
   "id": "9a2ebc3b",
   "metadata": {},
   "outputs": [],
   "source": [
    "def vendor_profit(df_2012, df_2013, df_2014, df_2015, df_2016, df_2017, df_2018, df_2019, df_2020, df_2021, df_2022):\n",
    "    df_2012['Cost Bottle Sold'] = df_2012['State Bottle Cost'] * df_2012['Bottles Sold']\n",
    "    df_2012['Profit'] = df_2012['Sale (Dollars)'] - df_2012['Cost Bottle Sold']\n",
    "    profit_2012 = df_2012.groupby(by=['Vendor Name'])['Profit'].sum().reset_index()  \n",
    "    \n",
    "    df_2013['Cost Bottle Sold'] = df_2013['State Bottle Cost'] * df_2013['Bottles Sold']\n",
    "    df_2013['Profit'] = df_2013['Sale (Dollars)'] - df_2013['Cost Bottle Sold']\n",
    "    profit_2013 = df_2013.groupby(by=['Vendor Name'])['Profit'].sum().reset_index() \n",
    "    \n",
    "    df_2014['Cost Bottle Sold'] = df_2014['State Bottle Cost'] * df_2014['Bottles Sold']\n",
    "    df_2014['Profit'] = df_2014['Sale (Dollars)'] - df_2014['Cost Bottle Sold']\n",
    "    profit_2014 = df_2014.groupby(by=['Vendor Name'])['Profit'].sum().reset_index()  \n",
    "\n",
    "    df_2015['Cost Bottle Sold'] = df_2015['State Bottle Cost'] * df_2015['Bottles Sold']\n",
    "    df_2015['Profit'] = df_2015['Sale (Dollars)'] - df_2015['Cost Bottle Sold']\n",
    "    profit_2015 = df_2015.groupby(by=['Vendor Name'])['Profit'].sum().reset_index()  \n",
    "\n",
    "    df_2016['Cost Bottle Sold'] = df_2016['State Bottle Cost'] * df_2016['Bottles Sold']\n",
    "    df_2016['Profit'] = df_2016['Sale (Dollars)'] - df_2016['Cost Bottle Sold']\n",
    "    profit_2016 = df_2016.groupby(by=['Vendor Name'])['Profit'].sum().reset_index()  \n",
    "\n",
    "    df_2017['Cost Bottle Sold'] = df_2017['State Bottle Cost'] * df_2017['Bottles Sold']\n",
    "    df_2017['Profit'] = df_2017['Sale (Dollars)'] - df_2017['Cost Bottle Sold']\n",
    "    profit_2017 = df_2017.groupby(by=['Vendor Name'])['Profit'].sum().reset_index()  \n",
    "\n",
    "    df_2018['Cost Bottle Sold'] = df_2018['State Bottle Cost'] * df_2018['Bottles Sold']\n",
    "    df_2018['Profit'] = df_2018['Sale (Dollars)'] - df_2018['Cost Bottle Sold']\n",
    "    profit_2018 = df_2018.groupby(by=['Vendor Name'])['Profit'].sum().reset_index()  \n",
    "\n",
    "    df_2019['Cost Bottle Sold'] = df_2019['State Bottle Cost'] * df_2019['Bottles Sold']\n",
    "    df_2019['Profit'] = df_2019['Sale (Dollars)'] - df_2019['Cost Bottle Sold']\n",
    "    profit_2019 = df_2019.groupby(by=['Vendor Name'])['Profit'].sum().reset_index()  \n",
    "\n",
    "    df_2020['Cost Bottle Sold'] = df_2020['State Bottle Cost'] * df_2020['Bottles Sold']\n",
    "    df_2020['Profit'] = df_2020['Sale (Dollars)'] - df_2020['Cost Bottle Sold']\n",
    "    profit_2020 = df_2020.groupby(by=['Vendor Name'])['Profit'].sum().reset_index()  \n",
    "\n",
    "    df_2021['Cost Bottle Sold'] = df_2021['State Bottle Cost'] * df_2021['Bottles Sold']\n",
    "    df_2021['Profit'] = df_2021['Sale (Dollars)'] - df_2021['Cost Bottle Sold']\n",
    "    profit_2021 = df_2021.groupby(by=['Vendor Name'])['Profit'].sum().reset_index()  \n",
    "\n",
    "    df_2022['Cost Bottle Sold'] = df_2022['State Bottle Cost'] * df_2022['Bottles Sold']\n",
    "    df_2022['Profit'] = df_2022['Sale (Dollars)'] - df_2022['Cost Bottle Sold']\n",
    "    profit_2022 = df_2022.groupby(by=['Vendor Name'])['Profit'].sum().reset_index()  \n",
    "    \n",
    "    return profit_2012, profit_2013, profit_2014, profit_2015, profit_2016, profit_2017, profit_2018, profit_2019, profit_2020, profit_2021, profit_2022"
   ]
  },
  {
   "cell_type": "code",
   "execution_count": null,
   "id": "32eafcbc",
   "metadata": {},
   "outputs": [],
   "source": [
    "def store_profit(df_2012, df_2013, df_2014, df_2015, df_2016, df_2017, df_2018, df_2019, df_2020, df_2021, df_2022):\n",
    "    df_2012['Cost Bottle Sold'] = df_2012['State Bottle Cost'] * df_2012['Bottles Sold']\n",
    "    df_2012['Profit'] = df_2012['Sale (Dollars)'] - df_2012['Cost Bottle Sold']\n",
    "    profit_2012 = df_2012.groupby(by=['Store Name'])['Profit'].sum().reset_index()  \n",
    "    \n",
    "    df_2013['Cost Bottle Sold'] = df_2013['State Bottle Cost'] * df_2013['Bottles Sold']\n",
    "    df_2013['Profit'] = df_2013['Sale (Dollars)'] - df_2013['Cost Bottle Sold']\n",
    "    profit_2013 = df_2013.groupby(by=['Store Name'])['Profit'].sum().reset_index() \n",
    "    \n",
    "    df_2014['Cost Bottle Sold'] = df_2014['State Bottle Cost'] * df_2014['Bottles Sold']\n",
    "    df_2014['Profit'] = df_2014['Sale (Dollars)'] - df_2014['Cost Bottle Sold']\n",
    "    profit_2014 = df_2014.groupby(by=['Store Name'])['Profit'].sum().reset_index()  \n",
    "\n",
    "    df_2015['Cost Bottle Sold'] = df_2015['State Bottle Cost'] * df_2015['Bottles Sold']\n",
    "    df_2015['Profit'] = df_2015['Sale (Dollars)'] - df_2015['Cost Bottle Sold']\n",
    "    profit_2015 = df_2015.groupby(by=['Store Name'])['Profit'].sum().reset_index()  \n",
    "\n",
    "    df_2016['Cost Bottle Sold'] = df_2016['State Bottle Cost'] * df_2016['Bottles Sold']\n",
    "    df_2016['Profit'] = df_2016['Sale (Dollars)'] - df_2016['Cost Bottle Sold']\n",
    "    profit_2016 = df_2016.groupby(by=['Store Name'])['Profit'].sum().reset_index()  \n",
    "\n",
    "    df_2017['Cost Bottle Sold'] = df_2017['State Bottle Cost'] * df_2017['Bottles Sold']\n",
    "    df_2017['Profit'] = df_2017['Sale (Dollars)'] - df_2017['Cost Bottle Sold']\n",
    "    profit_2017 = df_2017.groupby(by=['Store Name'])['Profit'].sum().reset_index()  \n",
    "\n",
    "    df_2018['Cost Bottle Sold'] = df_2018['State Bottle Cost'] * df_2018['Bottles Sold']\n",
    "    df_2018['Profit'] = df_2018['Sale (Dollars)'] - df_2018['Cost Bottle Sold']\n",
    "    profit_2018 = df_2018.groupby(by=['Store Name'])['Profit'].sum().reset_index()  \n",
    "\n",
    "    df_2019['Cost Bottle Sold'] = df_2019['State Bottle Cost'] * df_2019['Bottles Sold']\n",
    "    df_2019['Profit'] = df_2019['Sale (Dollars)'] - df_2019['Cost Bottle Sold']\n",
    "    profit_2019 = df_2019.groupby(by=['Store Name'])['Profit'].sum().reset_index()  \n",
    "\n",
    "    df_2020['Cost Bottle Sold'] = df_2020['State Bottle Cost'] * df_2020['Bottles Sold']\n",
    "    df_2020['Profit'] = df_2020['Sale (Dollars)'] - df_2020['Cost Bottle Sold']\n",
    "    profit_2020 = df_2020.groupby(by=['Store Name'])['Profit'].sum().reset_index()  \n",
    "\n",
    "    df_2021['Cost Bottle Sold'] = df_2021['State Bottle Cost'] * df_2021['Bottles Sold']\n",
    "    df_2021['Profit'] = df_2021['Sale (Dollars)'] - df_2021['Cost Bottle Sold']\n",
    "    profit_2021 = df_2021.groupby(by=['Store Name'])['Profit'].sum().reset_index()  \n",
    "\n",
    "    df_2022['Cost Bottle Sold'] = df_2022['State Bottle Cost'] * df_2022['Bottles Sold']\n",
    "    df_2022['Profit'] = df_2022['Sale (Dollars)'] - df_2022['Cost Bottle Sold']\n",
    "    profit_2022 = df_2022.groupby(by=['Store Name'])['Profit'].sum().reset_index()  \n",
    "    \n",
    "    return profit_2012, profit_2013, profit_2014, profit_2015, profit_2016, profit_2017, profit_2018, profit_2019, profit_2020, profit_2021, profit_2022"
   ]
  },
  {
   "cell_type": "code",
   "execution_count": null,
   "id": "aad772cd",
   "metadata": {},
   "outputs": [],
   "source": [
    "def city_profit(df_2012, df_2013, df_2014, df_2015, df_2016, df_2017, df_2018, df_2019, df_2020, df_2021, df_2022):\n",
    "    df_2012['Cost Bottle Sold'] = df_2012['State Bottle Cost'] * df_2012['Bottles Sold']\n",
    "    df_2012['Profit'] = df_2012['Sale (Dollars)'] - df_2012['Cost Bottle Sold']\n",
    "    profit_2012 = df_2012.groupby(by=['City'])['Profit'].sum().reset_index()  \n",
    "    \n",
    "    df_2013['Cost Bottle Sold'] = df_2013['State Bottle Cost'] * df_2013['Bottles Sold']\n",
    "    df_2013['Profit'] = df_2013['Sale (Dollars)'] - df_2013['Cost Bottle Sold']\n",
    "    profit_2013 = df_2013.groupby(by=['City'])['Profit'].sum().reset_index() \n",
    "    \n",
    "    df_2014['Cost Bottle Sold'] = df_2014['State Bottle Cost'] * df_2014['Bottles Sold']\n",
    "    df_2014['Profit'] = df_2014['Sale (Dollars)'] - df_2014['Cost Bottle Sold']\n",
    "    profit_2014 = df_2014.groupby(by=['City'])['Profit'].sum().reset_index()  \n",
    "\n",
    "    df_2015['Cost Bottle Sold'] = df_2015['State Bottle Cost'] * df_2015['Bottles Sold']\n",
    "    df_2015['Profit'] = df_2015['Sale (Dollars)'] - df_2015['Cost Bottle Sold']\n",
    "    profit_2015 = df_2015.groupby(by=['City'])['Profit'].sum().reset_index()  \n",
    "\n",
    "    df_2016['Cost Bottle Sold'] = df_2016['State Bottle Cost'] * df_2016['Bottles Sold']\n",
    "    df_2016['Profit'] = df_2016['Sale (Dollars)'] - df_2016['Cost Bottle Sold']\n",
    "    profit_2016 = df_2016.groupby(by=['City'])['Profit'].sum().reset_index()  \n",
    "\n",
    "    df_2017['Cost Bottle Sold'] = df_2017['State Bottle Cost'] * df_2017['Bottles Sold']\n",
    "    df_2017['Profit'] = df_2017['Sale (Dollars)'] - df_2017['Cost Bottle Sold']\n",
    "    profit_2017 = df_2017.groupby(by=['City'])['Profit'].sum().reset_index()  \n",
    "\n",
    "    df_2018['Cost Bottle Sold'] = df_2018['State Bottle Cost'] * df_2018['Bottles Sold']\n",
    "    df_2018['Profit'] = df_2018['Sale (Dollars)'] - df_2018['Cost Bottle Sold']\n",
    "    profit_2018 = df_2018.groupby(by=['City'])['Profit'].sum().reset_index()  \n",
    "\n",
    "    df_2019['Cost Bottle Sold'] = df_2019['State Bottle Cost'] * df_2019['Bottles Sold']\n",
    "    df_2019['Profit'] = df_2019['Sale (Dollars)'] - df_2019['Cost Bottle Sold']\n",
    "    profit_2019 = df_2019.groupby(by=['City'])['Profit'].sum().reset_index()  \n",
    "\n",
    "    df_2020['Cost Bottle Sold'] = df_2020['State Bottle Cost'] * df_2020['Bottles Sold']\n",
    "    df_2020['Profit'] = df_2020['Sale (Dollars)'] - df_2020['Cost Bottle Sold']\n",
    "    profit_2020 = df_2020.groupby(by=['City'])['Profit'].sum().reset_index()  \n",
    "\n",
    "    df_2021['Cost Bottle Sold'] = df_2021['State Bottle Cost'] * df_2021['Bottles Sold']\n",
    "    df_2021['Profit'] = df_2021['Sale (Dollars)'] - df_2021['Cost Bottle Sold']\n",
    "    profit_2021 = df_2021.groupby(by=['City'])['Profit'].sum().reset_index()  \n",
    "\n",
    "    df_2022['Cost Bottle Sold'] = df_2022['State Bottle Cost'] * df_2022['Bottles Sold']\n",
    "    df_2022['Profit'] = df_2022['Sale (Dollars)'] - df_2022['Cost Bottle Sold']\n",
    "    profit_2022 = df_2022.groupby(by=['City'])['Profit'].sum().reset_index()  \n",
    "    \n",
    "    return profit_2012, profit_2013, profit_2014, profit_2015, profit_2016, profit_2017, profit_2018, profit_2019, profit_2020, profit_2021, profit_2022"
   ]
  },
  {
   "cell_type": "code",
   "execution_count": null,
   "id": "50f93513",
   "metadata": {},
   "outputs": [],
   "source": [
    "def county_profit(df_2012, df_2013, df_2014, df_2015, df_2016, df_2017, df_2018, df_2019, df_2020, df_2021, df_2022):\n",
    "    df_2012['Cost Bottle Sold'] = df_2012['State Bottle Cost'] * df_2012['Bottles Sold']\n",
    "    df_2012['Profit'] = df_2012['Sale (Dollars)'] - df_2012['Cost Bottle Sold']\n",
    "    profit_2012 = df_2012.groupby(by=['County'])['Profit'].sum().reset_index()  \n",
    "    \n",
    "    df_2013['Cost Bottle Sold'] = df_2013['State Bottle Cost'] * df_2013['Bottles Sold']\n",
    "    df_2013['Profit'] = df_2013['Sale (Dollars)'] - df_2013['Cost Bottle Sold']\n",
    "    profit_2013 = df_2013.groupby(by=['County'])['Profit'].sum().reset_index() \n",
    "    \n",
    "    df_2014['Cost Bottle Sold'] = df_2014['State Bottle Cost'] * df_2014['Bottles Sold']\n",
    "    df_2014['Profit'] = df_2014['Sale (Dollars)'] - df_2014['Cost Bottle Sold']\n",
    "    profit_2014 = df_2014.groupby(by=['County'])['Profit'].sum().reset_index()  \n",
    "\n",
    "    df_2015['Cost Bottle Sold'] = df_2015['State Bottle Cost'] * df_2015['Bottles Sold']\n",
    "    df_2015['Profit'] = df_2015['Sale (Dollars)'] - df_2015['Cost Bottle Sold']\n",
    "    profit_2015 = df_2015.groupby(by=['County'])['Profit'].sum().reset_index()  \n",
    "\n",
    "    df_2016['Cost Bottle Sold'] = df_2016['State Bottle Cost'] * df_2016['Bottles Sold']\n",
    "    df_2016['Profit'] = df_2016['Sale (Dollars)'] - df_2016['Cost Bottle Sold']\n",
    "    profit_2016 = df_2016.groupby(by=['County'])['Profit'].sum().reset_index()  \n",
    "\n",
    "    df_2017['Cost Bottle Sold'] = df_2017['State Bottle Cost'] * df_2017['Bottles Sold']\n",
    "    df_2017['Profit'] = df_2017['Sale (Dollars)'] - df_2017['Cost Bottle Sold']\n",
    "    profit_2017 = df_2017.groupby(by=['County'])['Profit'].sum().reset_index()  \n",
    "\n",
    "    df_2018['Cost Bottle Sold'] = df_2018['State Bottle Cost'] * df_2018['Bottles Sold']\n",
    "    df_2018['Profit'] = df_2018['Sale (Dollars)'] - df_2018['Cost Bottle Sold']\n",
    "    profit_2018 = df_2018.groupby(by=['County'])['Profit'].sum().reset_index()  \n",
    "\n",
    "    df_2019['Cost Bottle Sold'] = df_2019['State Bottle Cost'] * df_2019['Bottles Sold']\n",
    "    df_2019['Profit'] = df_2019['Sale (Dollars)'] - df_2019['Cost Bottle Sold']\n",
    "    profit_2019 = df_2019.groupby(by=['County'])['Profit'].sum().reset_index()  \n",
    "\n",
    "    df_2020['Cost Bottle Sold'] = df_2020['State Bottle Cost'] * df_2020['Bottles Sold']\n",
    "    df_2020['Profit'] = df_2020['Sale (Dollars)'] - df_2020['Cost Bottle Sold']\n",
    "    profit_2020 = df_2020.groupby(by=['County'])['Profit'].sum().reset_index()  \n",
    "\n",
    "    df_2021['Cost Bottle Sold'] = df_2021['State Bottle Cost'] * df_2021['Bottles Sold']\n",
    "    df_2021['Profit'] = df_2021['Sale (Dollars)'] - df_2021['Cost Bottle Sold']\n",
    "    profit_2021 = df_2021.groupby(by=['County'])['Profit'].sum().reset_index()  \n",
    "\n",
    "    df_2022['Cost Bottle Sold'] = df_2022['State Bottle Cost'] * df_2022['Bottles Sold']\n",
    "    df_2022['Profit'] = df_2022['Sale (Dollars)'] - df_2022['Cost Bottle Sold']\n",
    "    profit_2022 = df_2022.groupby(by=['County'])['Profit'].sum().reset_index()  \n",
    "    \n",
    "    return profit_2012, profit_2013, profit_2014, profit_2015, profit_2016, profit_2017, profit_2018, profit_2019, profit_2020, profit_2021, profit_2022"
   ]
  }
 ],
 "metadata": {
  "kernelspec": {
   "display_name": "Python 3 (ipykernel)",
   "language": "python",
   "name": "python3"
  },
  "language_info": {
   "codemirror_mode": {
    "name": "ipython",
    "version": 3
   },
   "file_extension": ".py",
   "mimetype": "text/x-python",
   "name": "python",
   "nbconvert_exporter": "python",
   "pygments_lexer": "ipython3",
   "version": "3.10.9"
  }
 },
 "nbformat": 4,
 "nbformat_minor": 5
}
