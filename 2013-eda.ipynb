{
 "cells": [
  {
   "cell_type": "markdown",
   "id": "4683d8aa",
   "metadata": {},
   "source": [
    "# <span style=\"color:red\">1. Import libs</span>"
   ]
  },
  {
   "cell_type": "code",
   "execution_count": null,
   "id": "fba1969c",
   "metadata": {},
   "outputs": [],
   "source": [
    "import matplotlib\n",
    "import matplotlib.pyplot as plt\n",
    "from matplotlib.gridspec import GridSpec\n",
    "from matplotlib.ticker import NullFormatter\n",
    "import datetime as dt\n",
    "from math import sqrt, pow\n",
    "import numpy as np\n",
    "import pandas as pd\n",
    "from pandas.api.types import CategoricalDtype\n",
    "import seaborn as sns\n",
    "from sklearn.preprocessing import LabelEncoder,StandardScaler\n",
    "from sklearn.model_selection import train_test_split\n",
    "from sklearn.linear_model import LinearRegression\n",
    "\n",
    "# warnings\n",
    "import warnings\n",
    "warnings.filterwarnings('ignore',category=FutureWarning)\n",
    "\n",
    "%matplotlib inline"
   ]
  },
  {
   "cell_type": "markdown",
   "id": "095d36b0",
   "metadata": {},
   "source": [
    "# <span style=\"color:red\">2. Read CSV</span>"
   ]
  },
  {
   "cell_type": "code",
   "execution_count": null,
   "id": "989c3aab",
   "metadata": {},
   "outputs": [],
   "source": [
    "df_2013 = pd.read_csv(\"data/2013_Iowa_Liquor_Sales.csv\", low_memory=False)"
   ]
  },
  {
   "cell_type": "markdown",
   "id": "22a8f50e",
   "metadata": {},
   "source": [
    "# <span style=\"color:red\">3. Format data</span>"
   ]
  },
  {
   "cell_type": "code",
   "execution_count": null,
   "id": "cec2c877",
   "metadata": {},
   "outputs": [],
   "source": [
    "df_2013['Date'] = pd.to_datetime(df_2013['Date'])\n",
    "#df_2013['Year'] = df_2013['Date'].dt.strftime('%Y')\n",
    "df_2013['Month'] = df_2013['Date'].dt.strftime('%m')\n",
    "#df_2013['Day'] = df_2013['Date'].dt.strftime('%d')\n",
    "df_2013['Day Of Week'] = df_2013['Date'].dt.day_name()"
   ]
  },
  {
   "cell_type": "code",
   "execution_count": null,
   "id": "02c7bdc8",
   "metadata": {},
   "outputs": [],
   "source": [
    "df_2013['Month'] = df_2013['Month'].replace({'01': 'Jan', '02': 'Feb', '03': 'Mar', '04': 'Apr', '05': 'May', '06': 'June', \n",
    "                                            '07':'Jul', '08': 'Aug','09': 'Sep', '10': 'Oct', '11': 'Nov', '12': 'Dec'})"
   ]
  },
  {
   "cell_type": "code",
   "execution_count": null,
   "id": "dce34eff",
   "metadata": {},
   "outputs": [],
   "source": [
    "df_2013['Store Number'] = df_2013['Store Number'].astype('str')\n",
    "df_2013['County Number'] = df_2013['County Number'].astype('str')\n",
    "df_2013['Category'] = df_2013['Category'].astype('str')\n",
    "df_2013['Item Number'] = df_2013['Item Number'].astype('str')\n",
    "df_2013['Vendor Number'] = df_2013['Vendor Number'].astype('str')"
   ]
  },
  {
   "cell_type": "code",
   "execution_count": null,
   "id": "08c99e89",
   "metadata": {},
   "outputs": [],
   "source": [
    "month_category = CategoricalDtype(categories=[\"Jan\", \"Feb\", \"Mar\", \"Apr\", \"May\", \"June\", \"Jul\", \"Aug\",\n",
    "                                            \"Sep\", \"Oct\", \"Nov\", \"Dec\"], ordered=True)\n",
    "\n",
    "dayOfWeek_category = CategoricalDtype(categories=[\"Monday\", \"Tuesday\", \"Wednesday\", \"Thursday\", \"Friday\", \n",
    "                                                  \"Saturday\", \"Sunday\"], ordered=True)"
   ]
  },
  {
   "cell_type": "markdown",
   "id": "909f61c5",
   "metadata": {},
   "source": [
    "# <span style=\"color:red\">4. Functions</span>"
   ]
  },
  {
   "cell_type": "markdown",
   "id": "703854b6",
   "metadata": {},
   "source": [
    "#### <span style=\"color:blue\">Turns large tick values (in the billions, millions and thousands) such as 4500 into 4.5K and also appropriately turns 4000 into 4K (no zero after the decimal).</span>"
   ]
  },
  {
   "cell_type": "code",
   "execution_count": null,
   "id": "26d88f09",
   "metadata": {},
   "outputs": [],
   "source": [
    "def reformat_large_tick_values(tick_val, pos):\n",
    "    if tick_val >= 1000000000:\n",
    "        val = round(tick_val/1000000000, 1)\n",
    "        new_tick_format = '{:}B'.format(val)\n",
    "    elif tick_val >= 1000000:\n",
    "        val = round(tick_val/1000000, 1)\n",
    "        new_tick_format = '{:}M'.format(val)\n",
    "    elif tick_val >= 1000:\n",
    "        val = round(tick_val/1000, 1)\n",
    "        new_tick_format = '{:}K'.format(val)\n",
    "    elif tick_val < 1000:\n",
    "        new_tick_format = round(tick_val, 1)\n",
    "    else:\n",
    "        new_tick_format = tick_val\n",
    "\n",
    "    # make new_tick_format into a string value\n",
    "    new_tick_format = str(new_tick_format)\n",
    "    \n",
    "    # code below will keep 4.5M as is but change values such as 4.0M to 4M since that zero after the decimal isn't needed\n",
    "    index_of_decimal = new_tick_format.find(\".\")\n",
    "    \n",
    "    if index_of_decimal != -1:\n",
    "        value_after_decimal = new_tick_format[index_of_decimal+1]\n",
    "        if value_after_decimal == \"0\":\n",
    "            # remove the 0 after the decimal point since it's not needed\n",
    "            new_tick_format = new_tick_format[0:index_of_decimal] + new_tick_format[index_of_decimal+2:]\n",
    "            \n",
    "    return new_tick_format"
   ]
  },
  {
   "cell_type": "markdown",
   "id": "b26dd6be",
   "metadata": {},
   "source": [
    "#### <span style=\"color:blue\">Find missing dates between 2 dates</span>"
   ]
  },
  {
   "cell_type": "code",
   "execution_count": null,
   "id": "73c2fca3",
   "metadata": {},
   "outputs": [],
   "source": [
    "def find_missing_dates(df, sdate, edate):\n",
    "    dt_range = pd.date_range(start= sdate, end= edate, freq='B')\n",
    "    return dt_range.difference(df['Date'])"
   ]
  },
  {
   "cell_type": "markdown",
   "id": "edb84bbf",
   "metadata": {},
   "source": [
    "#### <span style=\"color:blue\">Check if a date exists</span>"
   ]
  },
  {
   "cell_type": "code",
   "execution_count": null,
   "id": "f0a25655",
   "metadata": {},
   "outputs": [],
   "source": [
    "def exist_date(df, full_date):\n",
    "    return (df['Date'] == pd.Timestamp(full_date)).any()"
   ]
  },
  {
   "cell_type": "markdown",
   "id": "b1755997",
   "metadata": {},
   "source": [
    "#### <span style=\"color:blue\">Filter DataFrame Rows on Dates</span>"
   ]
  },
  {
   "cell_type": "code",
   "execution_count": null,
   "id": "5b162f75",
   "metadata": {},
   "outputs": [],
   "source": [
    "# Filter by a single date\n",
    "def df_BySingleDate(df, date):\n",
    "    return df[df['Date'].dt.strftime('%Y-%m-%d') == date]\n",
    "\n",
    "# Filter Rows by Dates in pandas DataFrame\n",
    "def df_ByDates(df, start_date, end_date):\n",
    "    return df[(df['Date'] >= start_date) & (df['Date'] <= end_date)]\n",
    "\n",
    "# Filter by single month\n",
    "def df_BySingleMonth(df, month):\n",
    "    return df[df['Date'].dt.strftime('%Y-%m') == month]\n",
    "\n",
    "# Filter by single year\n",
    "def df_BySingleYear(df, year):\n",
    "    return df[df['Date'].dt.strftime('%Y') == year]\n",
    "\n",
    "# Filter data for specific weekday \n",
    "def df_ByWeekDay(df, wk_day):\n",
    "    return df.loc[df['Date'].dt.weekday == wk_day]"
   ]
  },
  {
   "cell_type": "markdown",
   "id": "79a4df0c",
   "metadata": {},
   "source": [
    "#### <span style=\"color:blue\">Filter DataFrame Rows on Store Number, City, County, Category ID, Vendor, Item</span>"
   ]
  },
  {
   "cell_type": "code",
   "execution_count": null,
   "id": "d1b1d510",
   "metadata": {},
   "outputs": [],
   "source": [
    "# Filter by Store number\n",
    "def df_ByStoreNumber(df, store_number):\n",
    "    return df[df['Store Number'] == store_number]\n",
    "\n",
    "# Filter by City name\n",
    "def df_ByCity(df, city_name):\n",
    "    return df[df['City'] == city_name]\n",
    "\n",
    "# Filter by County name\n",
    "def df_ByCounty(df, county_name):\n",
    "    return df[df['County'] == county_name]\n",
    "\n",
    "# Filter by Cat id\n",
    "def df_ByCat(df, cat_id):\n",
    "    return df[df['Category'] == cat_id]\n",
    "\n",
    "# Filter by Vendor number\n",
    "def df_ByVendor(df, vendor_number):\n",
    "    return df[df['Vendor Number'] == vendor_number]\n",
    "\n",
    "# Filter by Item number\n",
    "def df_ByItem(df, item_number):\n",
    "    return df[df['Item Number'] == item_number]"
   ]
  },
  {
   "cell_type": "markdown",
   "id": "d213b4c6",
   "metadata": {},
   "source": [
    "#### <span style=\"color:blue\">Check if keyword/data exist</span>"
   ]
  },
  {
   "cell_type": "code",
   "execution_count": null,
   "id": "4ac40489",
   "metadata": {},
   "outputs": [],
   "source": [
    "def exist_inputData(keyword):\n",
    "    return key_word in df_2013.values"
   ]
  },
  {
   "cell_type": "markdown",
   "id": "db83454c",
   "metadata": {},
   "source": [
    "#### <span style=\"color:blue\">Total Sale/Invoice</span>"
   ]
  },
  {
   "cell_type": "code",
   "execution_count": null,
   "id": "9000117d",
   "metadata": {},
   "outputs": [],
   "source": [
    "def total_sale_invoice(df):\n",
    "    total_sale = '${:,.0f}'.format(df['Sale (Dollars)'].sum())\n",
    "    total_inv = '{:,.0f}'.format(len(df['Invoice/Item Number']))\n",
    "    \n",
    "    return total_sale, total_inv"
   ]
  },
  {
   "cell_type": "markdown",
   "id": "d5e493c6",
   "metadata": {},
   "source": [
    "#### <span style=\"color:blue\">Total Sale/Invoice of Day of Week</span>"
   ]
  },
  {
   "cell_type": "code",
   "execution_count": null,
   "id": "09a9d800",
   "metadata": {},
   "outputs": [],
   "source": [
    "def total_sale_invoice_dow(df):\n",
    "    dow_sale = df['Sale (Dollars)'].groupby(df['Day Of Week'].astype(dayOfWeek_category)).sum()                         \n",
    "    dow_sale_fr = dow_sale.apply(lambda x: f'${x:,.0f}').to_frame()\n",
    "\n",
    "    dow_inv = df['Day Of Week'].astype(dayOfWeek_category).value_counts(sort=False)\n",
    "    dow_inv_fr = dow_inv.apply(lambda x: f'{x:,.0f}').to_frame(name='Num of invoices')\n",
    "\n",
    "    sale_invoice_dow = pd.concat([dow_sale_fr, dow_inv_fr], axis=1, join=\"inner\")\n",
    "    \n",
    "    return dow_sale, dow_inv, sale_invoice_dow"
   ]
  },
  {
   "cell_type": "code",
   "execution_count": null,
   "id": "80026bb5",
   "metadata": {},
   "outputs": [],
   "source": [
    "# Day of Week with Best Sales\n",
    "def plot_dow_sale_inv_graph(df_sale, df_inv):     \n",
    "    fig, ax1 = plt.subplots(figsize=(7, 4))\n",
    "\n",
    "    ax2 = ax1.twinx()\n",
    "\n",
    "    df_sale.plot(kind='bar', color='y', ax=ax1, label = 'Sales (USD)')\n",
    "    df_inv.plot(kind='line', marker='d', ax=ax2, label='Number of invoices')\n",
    "     \n",
    "    ax1.set_ylabel(\"Sales (USD)\", fontsize=13, color='r', labelpad=15)\n",
    "    ax1.set_xlabel(\"Day of Week\", fontsize=13, color='r', labelpad=15)\n",
    "    ax1.set_xticklabels(['Mon', 'Tue','Wed','Thu','Fri','Sat','Sun'], rotation = 0)\n",
    "    \n",
    "    ax1.yaxis.tick_left()\n",
    "    ax1.yaxis.set_major_formatter(reformat_large_tick_values)\n",
    "    ax1.yaxis.set_minor_formatter(NullFormatter())\n",
    "\n",
    "    ax2.set_ylabel(\"Number of invoices\", fontsize=13, color='r', labelpad=15)\n",
    "    \n",
    "    ax2.yaxis.tick_right()\n",
    "    ax2.yaxis.set_major_formatter(reformat_large_tick_values)\n",
    "    ax2.yaxis.set_minor_formatter(NullFormatter())\n",
    "\n",
    "    # combine 2 legends into 1\n",
    "    lines_1, labels_1 = ax1.get_legend_handles_labels()\n",
    "    lines_2, labels_2 = ax2.get_legend_handles_labels()\n",
    "\n",
    "    lines = lines_1 + lines_2\n",
    "    labels = labels_1 + labels_2\n",
    "\n",
    "    ax1.legend(lines, labels, loc=0)\n",
    "    ax2.legend().set_visible(False)\n",
    "\n",
    "    plt.title(\"Day of Week with Best Sales\", pad=20, fontsize=14); "
   ]
  },
  {
   "cell_type": "markdown",
   "id": "4738ba14",
   "metadata": {},
   "source": [
    "#### <span style=\"color:blue\">Total Sale/Invoice of Month</span>"
   ]
  },
  {
   "cell_type": "code",
   "execution_count": null,
   "id": "c4c2b17d",
   "metadata": {},
   "outputs": [],
   "source": [
    "def total_sale_invoice_month(df):\n",
    "    month_sale = df['Sale (Dollars)'].groupby(df['Month'].astype(month_category)).sum()\n",
    "    month_sale_fr = month_sale.apply(lambda x: f'${x:,.0f}').to_frame()\n",
    "\n",
    "    month_inv = df['Month'].value_counts(sort=False)\n",
    "    month_inv_fr = month_inv.apply(lambda x: f'{x:,.0f}').to_frame(name='Num of invoices')\n",
    "\n",
    "    month_bottle = df['Bottles Sold'].groupby(df['Month'].astype(month_category)).sum()\n",
    "    month_bottle_fr = month_bottle.apply(lambda x: f'{x:,.0f}').to_frame(name='Num of bottle sold')\n",
    "\n",
    "    sale_invoice_month = pd.concat([month_sale_fr, month_inv_fr, month_bottle_fr], axis=1, join=\"inner\")\n",
    "\n",
    "    return month_sale, month_inv, sale_invoice_month"
   ]
  },
  {
   "cell_type": "code",
   "execution_count": null,
   "id": "a5de9389",
   "metadata": {},
   "outputs": [],
   "source": [
    "# Month with Best Sales\n",
    "def plot_month_sale_inv_graph(df_sale, df_inv):     \n",
    "    fig, ax1 = plt.subplots(figsize=(7, 4))\n",
    "    ax2 = ax1.twinx()\n",
    "\n",
    "    df_sale.plot(kind='bar', color='y', ax=ax1, label='Sales (USD)')\n",
    "    df_inv.plot(kind='line', marker='d', ax=ax2, label='Number of invoices')\n",
    "\n",
    "    ax1.set_ylabel(\"Sales (USD)\", fontsize=13, color='r', labelpad=15)\n",
    "    ax1.set_xlabel(\"Months\", fontsize=13, color='r', labelpad=15)\n",
    "    ax1.set_xticklabels(['Jan', 'Feb','Mar','Apr','May','Jun','Jul','Aug','Sep','Oct','Nov','Dec'], rotation = 0)\n",
    "    ax1.yaxis.tick_left()\n",
    "    ax1.yaxis.set_major_formatter(reformat_large_tick_values)\n",
    "    ax1.yaxis.set_minor_formatter(NullFormatter()) \n",
    "\n",
    "    ax2.set_ylabel(\"Number of invoices\", fontsize=13, color='r', labelpad=15)\n",
    "    ax2.yaxis.tick_right()\n",
    "    ax2.yaxis.set_major_formatter(reformat_large_tick_values)\n",
    "    ax2.yaxis.set_minor_formatter(NullFormatter())\n",
    "\n",
    "    # combine 2 legends into 1\n",
    "    lines_1, labels_1 = ax1.get_legend_handles_labels()\n",
    "    lines_2, labels_2 = ax2.get_legend_handles_labels()\n",
    "\n",
    "    lines = lines_1 + lines_2\n",
    "    labels = labels_1 + labels_2\n",
    "\n",
    "    ax1.legend(lines, labels, loc=0)\n",
    "    ax2.legend().set_visible(False)\n",
    "\n",
    "    plt.title(\"Months with Best Sales\", pad=20, fontsize=14);"
   ]
  },
  {
   "cell_type": "markdown",
   "id": "64f40556",
   "metadata": {},
   "source": [
    "#### <span style=\"color:blue\">Top 10 stores with Best sale/invoices</span>"
   ]
  },
  {
   "cell_type": "code",
   "execution_count": null,
   "id": "af9703f6",
   "metadata": {},
   "outputs": [],
   "source": [
    "def top10_store_sale_inv(df):\n",
    "    store_sale = df.groupby(['Store Name'])['Sale (Dollars)'].sum().nlargest(10)                                   \n",
    "    store_sale_fr = store_sale.apply(lambda x: f'${x:,.0f}').to_frame()\n",
    "\n",
    "    store_inv = df['Store Name'].value_counts().nlargest(10)\n",
    "    store_inv_fr = store_inv.apply(lambda x: f'{x:,.0f}').to_frame(name='Num of invoices')\n",
    "\n",
    "    return store_sale, store_sale_fr, store_inv, store_inv_fr"
   ]
  },
  {
   "cell_type": "code",
   "execution_count": null,
   "id": "bb58b1cb",
   "metadata": {},
   "outputs": [],
   "source": [
    "def plot_top10_store_sale_graph(df_store_sale):    \n",
    "    ax = df_store_sale.plot.barh(figsize=(7, 4))\n",
    "\n",
    "    ax.xaxis.set_major_formatter(reformat_large_tick_values)\n",
    "    ax.xaxis.set_minor_formatter(NullFormatter())\n",
    "\n",
    "    plt.ylabel(\"Store Name\", fontsize=13, color='r', labelpad=15)\n",
    "    plt.xlabel(\"Sales in (USD)\", fontsize=13, color='r', labelpad=15)\n",
    "    plt.title(\"Top 10 Stores with Best Sales (USD)\", fontsize=13, color='r', pad=15);"
   ]
  },
  {
   "cell_type": "code",
   "execution_count": null,
   "id": "10512897",
   "metadata": {},
   "outputs": [],
   "source": [
    "def plot_top10_store_inv_graph(df_store_inv):    \n",
    "    ax = df_store_inv.plot.barh(figsize=(7, 4))\n",
    "    \n",
    "    ax.xaxis.set_major_formatter(reformat_large_tick_values)\n",
    "    ax.xaxis.set_minor_formatter(NullFormatter())\n",
    "\n",
    "    plt.ylabel(\"Store Name\", fontsize=13, color='r', labelpad=15)\n",
    "    plt.xlabel(\"Number of invoices\", fontsize=13, color='r', labelpad=15)\n",
    "    plt.title(\"Top 10 Stores with Best number of invoices\", fontsize=13, color='r', pad=15);"
   ]
  },
  {
   "cell_type": "markdown",
   "id": "2ce2306b",
   "metadata": {},
   "source": [
    "#### <span style=\"color:blue\">Top 10 cities with Best sale/invoices</span>"
   ]
  },
  {
   "cell_type": "code",
   "execution_count": null,
   "id": "d1296d46",
   "metadata": {},
   "outputs": [],
   "source": [
    "def top10_cities_sale_inv(df):\n",
    "    city_sale = df.groupby(['City'])['Sale (Dollars)'].sum().nlargest(10)                                   \n",
    "    city_sale_fr = city_sale.apply(lambda x: f'${x:,.0f}').to_frame()\n",
    "\n",
    "    city_inv = df['City'].value_counts().nlargest(10)\n",
    "    city_inv_fr = city_inv.apply(lambda x: f'{x:,.0f}').to_frame(name='Num of invoices')\n",
    "\n",
    "    return city_sale, city_sale_fr, city_inv, city_inv_fr"
   ]
  },
  {
   "cell_type": "code",
   "execution_count": null,
   "id": "e8aeda85",
   "metadata": {},
   "outputs": [],
   "source": [
    "def plot_top10_city_sale_graph(df_city_sale):\n",
    "    ax = df_city_sale.plot.barh(figsize=(7, 4))\n",
    "\n",
    "    ax.xaxis.set_major_formatter(reformat_large_tick_values)\n",
    "    ax.xaxis.set_minor_formatter(NullFormatter())\n",
    "\n",
    "    plt.ylabel(\"City Name\", fontsize=13, color='r', labelpad=15)\n",
    "    plt.xlabel(\"Sales (USD)\", fontsize=13, color='r', labelpad=15)\n",
    "    plt.title(\"Top 10 City with Best Sales (USD)\", fontsize=13, color='r', pad=15);"
   ]
  },
  {
   "cell_type": "code",
   "execution_count": null,
   "id": "0d982a74",
   "metadata": {},
   "outputs": [],
   "source": [
    "def plot_top10_city_inv_graph(df_city_inv):    \n",
    "    ax = df_city_inv.plot.barh(figsize=(7, 4))\n",
    "    \n",
    "    ax.xaxis.set_major_formatter(reformat_large_tick_values)\n",
    "    ax.xaxis.set_minor_formatter(NullFormatter())\n",
    "\n",
    "    plt.ylabel(\"City Name\", fontsize=13, color='r', labelpad=15)\n",
    "    plt.xlabel(\"Number of invoices\", fontsize=13, color='r', labelpad=15)\n",
    "    plt.title(\"Top 10 City with Best number of invoices\", fontsize=13, color='r', pad=15);"
   ]
  },
  {
   "cell_type": "markdown",
   "id": "209fc940",
   "metadata": {},
   "source": [
    "#### <span style=\"color:blue\">Top 10 counties with Best sale/invoices</span>"
   ]
  },
  {
   "cell_type": "code",
   "execution_count": null,
   "id": "b9f0034f",
   "metadata": {},
   "outputs": [],
   "source": [
    "def top10_counties_sale_inv(df):\n",
    "    county_sale = df.groupby(['County'])['Sale (Dollars)'].sum().nlargest(10)                                   \n",
    "    county_sale_fr = county_sale.apply(lambda x: f'${x:,.0f}').to_frame()\n",
    "\n",
    "    county_inv = df['County'].value_counts().nlargest(10)\n",
    "    county_inv_fr = county_inv.apply(lambda x: f'{x:,.0f}').to_frame(name='Num of invoices')\n",
    "\n",
    "    return county_sale, county_sale_fr, county_inv, county_inv_fr"
   ]
  },
  {
   "cell_type": "code",
   "execution_count": null,
   "id": "0e7136c0",
   "metadata": {},
   "outputs": [],
   "source": [
    "def plot_top10_county_sale_graph(df_county_sale):\n",
    "    ax = df_county_sale.plot.barh(figsize=(7, 4))\n",
    "\n",
    "    ax.xaxis.set_major_formatter(reformat_large_tick_values)\n",
    "    ax.xaxis.set_minor_formatter(NullFormatter())\n",
    "\n",
    "    plt.ylabel(\"County Name\", fontsize=13, color='r', labelpad=15)\n",
    "    plt.xlabel(\"Sales (USD)\", fontsize=13, color='r', labelpad=15)\n",
    "    plt.title(\"Top 10 County with Best Sales (USD)\", fontsize=13, color='r', pad=15);"
   ]
  },
  {
   "cell_type": "code",
   "execution_count": null,
   "id": "c385cc19",
   "metadata": {},
   "outputs": [],
   "source": [
    "def plot_top10_county_inv_graph(df_county_inv):\n",
    "    ax = df_county_inv.plot.barh(figsize=(7, 4))\n",
    "    \n",
    "    ax.xaxis.set_major_formatter(reformat_large_tick_values)\n",
    "    ax.xaxis.set_minor_formatter(NullFormatter())\n",
    "\n",
    "    plt.ylabel(\"County Name\", fontsize=13, color='r', labelpad=15)\n",
    "    plt.xlabel(\"Number of invoices\", fontsize=13, color='r', labelpad=15)\n",
    "    plt.title(\"Top 10 County with Best number of invoices\", fontsize=13, color='r', pad=15);"
   ]
  },
  {
   "cell_type": "markdown",
   "id": "cdcc5962",
   "metadata": {},
   "source": [
    "#### <span style=\"color:blue\">Top 10 categories with Best sale/invoices</span>"
   ]
  },
  {
   "cell_type": "code",
   "execution_count": null,
   "id": "bfb2d58d",
   "metadata": {},
   "outputs": [],
   "source": [
    "def top10_cat_sale_inv(df):\n",
    "    cat_sale = df.groupby(['Category Name'])['Sale (Dollars)'].sum().nlargest(10)                                   \n",
    "    cat_sale_fr = cat_sale.apply(lambda x: f'${x:,.0f}').to_frame()\n",
    "\n",
    "    cat_inv = df['Category Name'].value_counts().nlargest(10)\n",
    "    cat_inv_fr = cat_inv.apply(lambda x: f'{x:,.0f}').to_frame(name='Num of invoices')\n",
    "\n",
    "    return cat_sale, cat_sale_fr, cat_inv, cat_inv_fr"
   ]
  },
  {
   "cell_type": "code",
   "execution_count": null,
   "id": "ad825c0a",
   "metadata": {},
   "outputs": [],
   "source": [
    "def plot_top10cat_sale_graph(df_cat_sale):\n",
    "    ax = df_cat_sale.plot.barh(figsize=(7, 4))\n",
    "\n",
    "    ax.xaxis.set_major_formatter(reformat_large_tick_values)\n",
    "    ax.xaxis.set_minor_formatter(NullFormatter())\n",
    "\n",
    "    plt.ylabel(\"Category Name\", fontsize=13, color='r', labelpad=15)\n",
    "    plt.xlabel(\"Sales (USD)\", fontsize=13, color='r', labelpad=15)\n",
    "    plt.title(\"Top 10 Categories with Best Sales (USD)\", fontsize=13, color='r', pad=15);"
   ]
  },
  {
   "cell_type": "code",
   "execution_count": null,
   "id": "eee1fb39",
   "metadata": {},
   "outputs": [],
   "source": [
    "def plot_top10cat_inv_graph(df_cat_inv):\n",
    "    ax = df_cat_inv.plot.barh(figsize=(7, 4))\n",
    "    \n",
    "    ax.xaxis.set_major_formatter(reformat_large_tick_values)\n",
    "    ax.xaxis.set_minor_formatter(NullFormatter())\n",
    "\n",
    "    plt.ylabel(\"Categories Name\", fontsize=13, color='r', labelpad=15)\n",
    "    plt.xlabel(\"Number of invoices\", fontsize=13, color='r', labelpad=15)\n",
    "    plt.title(\"Top 10 Categories with Best number of invoices\", fontsize=13, color='r', pad=15);"
   ]
  },
  {
   "cell_type": "markdown",
   "id": "84c7b9d7",
   "metadata": {},
   "source": [
    "#### <span style=\"color:blue\">Top 10 vendors with Best sale/invoices</span>"
   ]
  },
  {
   "cell_type": "code",
   "execution_count": null,
   "id": "8350f0ac",
   "metadata": {},
   "outputs": [],
   "source": [
    "def top10_vendors_sale_inv(df):\n",
    "    vendor_sale = df.groupby(['Vendor Name'])['Sale (Dollars)'].sum().nlargest(10)                                   \n",
    "    vendor_sale_fr = vendor_sale.apply(lambda x: f'${x:,.0f}').to_frame()\n",
    "\n",
    "    vendor_inv = df['Vendor Name'].value_counts().nlargest(10)\n",
    "    vendor_inv_fr = vendor_inv.apply(lambda x: f'{x:,.0f}').to_frame(name='Num of invoices')\n",
    "\n",
    "    return vendor_sale, vendor_sale_fr, vendor_inv, vendor_inv_fr"
   ]
  },
  {
   "cell_type": "code",
   "execution_count": null,
   "id": "bbaa205a",
   "metadata": {},
   "outputs": [],
   "source": [
    "def plot_top10_vendors_sale_graph(df_vendor_sale):\n",
    "    ax = df_vendor_sale.plot.barh(figsize=(7, 4))\n",
    "\n",
    "    ax.xaxis.set_major_formatter(reformat_large_tick_values)\n",
    "    ax.xaxis.set_minor_formatter(NullFormatter())\n",
    "\n",
    "    plt.ylabel(\"Vendor Name\", fontsize=13, color='r', labelpad=15)\n",
    "    plt.xlabel(\"Sales (USD)\", fontsize=13, color='r', labelpad=15)\n",
    "    plt.title(\"Top 10 Vendors with Best Sales (USD)\", fontsize=13, color='r', pad=15);"
   ]
  },
  {
   "cell_type": "code",
   "execution_count": null,
   "id": "3de22bc7",
   "metadata": {},
   "outputs": [],
   "source": [
    "def plot_top10_vendors_inv_graph(df_vendor_inv):\n",
    "    ax = df_vendor_inv.plot.barh(figsize=(7, 4))\n",
    "    \n",
    "    ax.xaxis.set_major_formatter(reformat_large_tick_values)\n",
    "    ax.xaxis.set_minor_formatter(NullFormatter())\n",
    "\n",
    "    plt.ylabel(\"Vendor Name\", fontsize=13, color='r', labelpad=15)\n",
    "    plt.xlabel(\"Number of invoices\", fontsize=13, color='r', labelpad=15)\n",
    "    plt.title(\"Top 10 Vendors with Best number of invoices\", fontsize=13, color='r', pad=15);"
   ]
  },
  {
   "cell_type": "markdown",
   "id": "38190376",
   "metadata": {},
   "source": [
    "#### <span style=\"color:blue\">Top 10 items with Best sale/invoices</span>"
   ]
  },
  {
   "cell_type": "code",
   "execution_count": null,
   "id": "056468f5",
   "metadata": {},
   "outputs": [],
   "source": [
    "def top10_items_sale_inv(df):\n",
    "    item_sale = df.groupby(['Item Description'])['Sale (Dollars)'].sum().nlargest(10)                                   \n",
    "    item_sale_fr = item_sale.apply(lambda x: f'${x:,.0f}').to_frame()\n",
    "\n",
    "    item_inv = df['Item Description'].value_counts().nlargest(10)\n",
    "    item_inv_fr = item_inv.apply(lambda x: f'{x:,.0f}').to_frame(name='Num of invoices')\n",
    "\n",
    "    return item_sale, item_sale_fr, item_inv, item_inv_fr"
   ]
  },
  {
   "cell_type": "code",
   "execution_count": null,
   "id": "4de735fa",
   "metadata": {},
   "outputs": [],
   "source": [
    "def plot_top10_items_sale_graph(df_item_sale):\n",
    "    ax = df_item_sale.plot.barh(figsize=(7, 4))\n",
    "\n",
    "    ax.xaxis.set_major_formatter(reformat_large_tick_values)\n",
    "    ax.xaxis.set_minor_formatter(NullFormatter())\n",
    "\n",
    "    plt.ylabel(\"Item Name\", fontsize=13, color='r', labelpad=15)\n",
    "    plt.xlabel(\"Sales (USD)\", fontsize=13, color='r', labelpad=15)\n",
    "    plt.title(\"Top 10 Items with Best Sales (USD)\", fontsize=13, color='r', pad=15);"
   ]
  },
  {
   "cell_type": "code",
   "execution_count": null,
   "id": "f1653898",
   "metadata": {},
   "outputs": [],
   "source": [
    "def plot_top10_items_inv_graph(df_item_inv):\n",
    "    ax = df_item_inv.plot.barh(figsize=(7, 4))\n",
    "    \n",
    "    ax.xaxis.set_major_formatter(reformat_large_tick_values)\n",
    "    ax.xaxis.set_minor_formatter(NullFormatter())\n",
    "\n",
    "    plt.ylabel(\"Item Name\", fontsize=13, color='r', labelpad=15)\n",
    "    plt.xlabel(\"Number of invoices\", fontsize=13, color='r', labelpad=15)\n",
    "    plt.title(\"Top 10 Items with Best number of invoices\", fontsize=13, color='r', pad=15);"
   ]
  },
  {
   "cell_type": "markdown",
   "id": "0db46459",
   "metadata": {},
   "source": [
    "# <span style=\"color:red\">5. Data Visualzation</span>"
   ]
  },
  {
   "cell_type": "markdown",
   "id": "ecc94e89",
   "metadata": {},
   "source": [
    "## <span style=\"color:blue\">Overall Report 2013</span>"
   ]
  },
  {
   "cell_type": "code",
   "execution_count": null,
   "id": "514867bf",
   "metadata": {
    "scrolled": true
   },
   "outputs": [],
   "source": [
    "total_save, total_inv = total_sale_invoice(df_2013)\n",
    "print(f\"Total sale: {total_save}\")\n",
    "print(f\"Total invoice: {total_inv}\")"
   ]
  },
  {
   "cell_type": "code",
   "execution_count": null,
   "id": "e3a433d7",
   "metadata": {},
   "outputs": [],
   "source": [
    "month_sale, month_inv, sale_invoice_month = total_sale_invoice_month(df_2013)\n",
    "\n",
    "print(f\"Total sales, invoices of Months:\\n {sale_invoice_month}\")\n",
    "plot_month_sale_inv_graph(month_sale, month_inv)"
   ]
  },
  {
   "cell_type": "code",
   "execution_count": null,
   "id": "2f93c39d",
   "metadata": {},
   "outputs": [],
   "source": [
    "dow_sale, dow_inv, sale_invoice_dow = total_sale_invoice_dow(df_2013)\n",
    "\n",
    "print(f\"Total sales, invoices of Day of Week:\\n {sale_invoice_dow}\")\n",
    "plot_dow_sale_inv_graph(dow_sale, dow_inv)"
   ]
  },
  {
   "cell_type": "code",
   "execution_count": null,
   "id": "bb71ca0b",
   "metadata": {},
   "outputs": [],
   "source": [
    "store_sale, store_sale_fr, store_inv, store_inv_fr = top10_store_sale_inv(df_2013)"
   ]
  },
  {
   "cell_type": "code",
   "execution_count": null,
   "id": "8d2afa8a",
   "metadata": {},
   "outputs": [],
   "source": [
    "print(f\"Top 10 stores with best sale:\\n {store_sale_fr}\")\n",
    "plot_top10_store_sale_graph(store_sale)"
   ]
  },
  {
   "cell_type": "code",
   "execution_count": null,
   "id": "0e330cc9",
   "metadata": {},
   "outputs": [],
   "source": [
    "print(f\"\\nTop 10 stores with best invoices:\\n {store_inv_fr}\")\n",
    "plot_top10_store_inv_graph(store_inv)"
   ]
  },
  {
   "cell_type": "code",
   "execution_count": null,
   "id": "f129c5de",
   "metadata": {},
   "outputs": [],
   "source": [
    "county_sale, county_sale_fr, county_inv, county_inv_fr = top10_counties_sale_inv(df_2013)"
   ]
  },
  {
   "cell_type": "code",
   "execution_count": null,
   "id": "1bf7974d",
   "metadata": {},
   "outputs": [],
   "source": [
    "print(f\"Top 10 counties with best sale:\\n {county_sale_fr}\")\n",
    "plot_top10_county_sale_graph(county_sale)"
   ]
  },
  {
   "cell_type": "code",
   "execution_count": null,
   "id": "f7f81b2b",
   "metadata": {},
   "outputs": [],
   "source": [
    "print(f\"\\nTop 10 counties with best invoices:\\n {county_inv_fr}\")\n",
    "plot_top10_county_inv_graph(county_inv)"
   ]
  },
  {
   "cell_type": "code",
   "execution_count": null,
   "id": "cccb665c",
   "metadata": {},
   "outputs": [],
   "source": [
    "city_sale, city_sale_fr, city_inv, city_inv_fr = top10_cities_sale_inv(df_2013)"
   ]
  },
  {
   "cell_type": "code",
   "execution_count": null,
   "id": "ca5c5035",
   "metadata": {},
   "outputs": [],
   "source": [
    "print(f\"Top 10 cities with best sale:\\n {city_sale_fr}\")\n",
    "plot_top10_city_sale_graph(city_sale)"
   ]
  },
  {
   "cell_type": "code",
   "execution_count": null,
   "id": "652e1f2c",
   "metadata": {},
   "outputs": [],
   "source": [
    "print(f\"\\nTop 10 cities with best invoices:\\n {city_inv_fr}\")\n",
    "plot_top10_city_inv_graph(city_inv)"
   ]
  },
  {
   "cell_type": "code",
   "execution_count": null,
   "id": "244b9939",
   "metadata": {},
   "outputs": [],
   "source": [
    "cat_sale, cat_sale_fr, cat_inv, cat_inv_fr = top10_cat_sale_inv(df_2013)"
   ]
  },
  {
   "cell_type": "code",
   "execution_count": null,
   "id": "ebbd557f",
   "metadata": {},
   "outputs": [],
   "source": [
    "print(f\"Top 10 categories with best sale:\\n {cat_sale_fr}\")\n",
    "plot_top10cat_sale_graph(cat_sale)"
   ]
  },
  {
   "cell_type": "code",
   "execution_count": null,
   "id": "70bfbdf9",
   "metadata": {},
   "outputs": [],
   "source": [
    "print(f\"\\nTop 10 categories with best invoices:\\n {cat_inv_fr}\")\n",
    "plot_top10cat_inv_graph(cat_inv)"
   ]
  },
  {
   "cell_type": "code",
   "execution_count": null,
   "id": "550b6b6b",
   "metadata": {},
   "outputs": [],
   "source": [
    "vendor_sale, vendor_sale_fr, vendor_inv, vendor_inv_fr = top10_cat_sale_inv(df_2013)"
   ]
  },
  {
   "cell_type": "code",
   "execution_count": null,
   "id": "f9d6c270",
   "metadata": {},
   "outputs": [],
   "source": [
    "print(f\"Top 10 vendors with best sale:\\n {vendor_sale_fr}\")\n",
    "plot_top10_vendors_sale_graph(vendor_sale)"
   ]
  },
  {
   "cell_type": "code",
   "execution_count": null,
   "id": "d6dd2f6c",
   "metadata": {},
   "outputs": [],
   "source": [
    "print(f\"\\nTop 10 vendors with best invoices:\\n {vendor_inv_fr}\")\n",
    "plot_top10_vendors_inv_graph(vendor_inv)"
   ]
  },
  {
   "cell_type": "code",
   "execution_count": null,
   "id": "d565595d",
   "metadata": {},
   "outputs": [],
   "source": [
    "item_sale, item_sale_fr, item_inv, item_inv_fr = top10_cat_sale_inv(df_2013)"
   ]
  },
  {
   "cell_type": "code",
   "execution_count": null,
   "id": "4ce1f89d",
   "metadata": {},
   "outputs": [],
   "source": [
    "print(f\"Top 10 items with best sale:\\n {item_sale_fr}\")\n",
    "plot_top10_items_sale_graph(item_sale)"
   ]
  },
  {
   "cell_type": "code",
   "execution_count": null,
   "id": "2365f98b",
   "metadata": {},
   "outputs": [],
   "source": [
    "print(f\"\\nTop 10 items with best invoices:\\n {item_inv_fr}\")\n",
    "plot_top10_items_sale_graph(item_inv)"
   ]
  },
  {
   "cell_type": "markdown",
   "id": "5c520c35",
   "metadata": {},
   "source": [
    "## <span style=\"color:blue\">Filter by a Single Date in 2013</span>"
   ]
  },
  {
   "cell_type": "code",
   "execution_count": null,
   "id": "9350e21d",
   "metadata": {},
   "outputs": [],
   "source": [
    "input_date = '2013-01-02'\n",
    "full_date = input_date + ' 00:00:00'\n",
    "\n",
    "if exist_date(df_2013, full_date):\n",
    "    df_bySingleDate_2013 = df_BySingleDate(df_2013, input_date)"
   ]
  },
  {
   "cell_type": "code",
   "execution_count": null,
   "id": "d2384cc1",
   "metadata": {
    "scrolled": true
   },
   "outputs": [],
   "source": [
    "total_save, total_inv = total_sale_invoice(df_bySingleDate_2013)\n",
    "print(f\"Total sale: {total_save}\")\n",
    "print(f\"Total invoice: {total_inv}\")"
   ]
  },
  {
   "cell_type": "code",
   "execution_count": null,
   "id": "a4ece07c",
   "metadata": {},
   "outputs": [],
   "source": [
    "store_sale, store_sale_fr, store_inv, store_inv_fr = top10_store_sale_inv(df_bySingleDate_2013)"
   ]
  },
  {
   "cell_type": "code",
   "execution_count": null,
   "id": "c3cd681b",
   "metadata": {},
   "outputs": [],
   "source": [
    "print(f\"Top 10 stores with best sale:\\n {store_sale_fr}\")\n",
    "plot_top10_store_sale_graph(store_sale)"
   ]
  },
  {
   "cell_type": "code",
   "execution_count": null,
   "id": "50692fa1",
   "metadata": {},
   "outputs": [],
   "source": [
    "print(f\"\\nTop 10 stores with best invoices:\\n {store_inv_fr}\")\n",
    "plot_top10_store_inv_graph(store_inv)"
   ]
  },
  {
   "cell_type": "code",
   "execution_count": null,
   "id": "b73b4beb",
   "metadata": {},
   "outputs": [],
   "source": [
    "county_sale, county_sale_fr, county_inv, county_inv_fr = top10_counties_sale_inv(df_bySingleDate_2013)"
   ]
  },
  {
   "cell_type": "code",
   "execution_count": null,
   "id": "6849464e",
   "metadata": {},
   "outputs": [],
   "source": [
    "print(f\"Top 10 counties with best sale:\\n {county_sale_fr}\")\n",
    "plot_top10_county_sale_graph(county_sale)"
   ]
  },
  {
   "cell_type": "code",
   "execution_count": null,
   "id": "30f78ea2",
   "metadata": {},
   "outputs": [],
   "source": [
    "print(f\"\\nTop 10 counties with best invoices:\\n {county_inv_fr}\")\n",
    "plot_top10_county_inv_graph(county_inv)"
   ]
  },
  {
   "cell_type": "code",
   "execution_count": null,
   "id": "8feef903",
   "metadata": {},
   "outputs": [],
   "source": [
    "city_sale, city_sale_fr, city_inv, city_inv_fr = top10_cities_sale_inv(df_bySingleDate_2013)"
   ]
  },
  {
   "cell_type": "code",
   "execution_count": null,
   "id": "0ee74a46",
   "metadata": {},
   "outputs": [],
   "source": [
    "print(f\"Top 10 cities with best sale:\\n {city_sale_fr}\")\n",
    "plot_top10_city_sale_graph(city_sale)"
   ]
  },
  {
   "cell_type": "code",
   "execution_count": null,
   "id": "625c65ff",
   "metadata": {},
   "outputs": [],
   "source": [
    "print(f\"\\nTop 10 cities with best invoices:\\n {city_inv_fr}\")\n",
    "plot_top10_city_inv_graph(city_inv)"
   ]
  },
  {
   "cell_type": "code",
   "execution_count": null,
   "id": "875fe50d",
   "metadata": {},
   "outputs": [],
   "source": [
    "cat_sale, cat_sale_fr, cat_inv, cat_inv_fr = top10_cat_sale_inv(df_bySingleDate_2013)"
   ]
  },
  {
   "cell_type": "code",
   "execution_count": null,
   "id": "8fe3662e",
   "metadata": {},
   "outputs": [],
   "source": [
    "print(f\"Top 10 categories with best sale:\\n {cat_sale_fr}\")\n",
    "plot_top10cat_sale_graph(cat_sale)"
   ]
  },
  {
   "cell_type": "code",
   "execution_count": null,
   "id": "ae684120",
   "metadata": {},
   "outputs": [],
   "source": [
    "print(f\"\\nTop 10 categories with best invoices:\\n {cat_inv_fr}\")\n",
    "plot_top10cat_inv_graph(cat_inv)"
   ]
  },
  {
   "cell_type": "code",
   "execution_count": null,
   "id": "8ee8c2a3",
   "metadata": {},
   "outputs": [],
   "source": [
    "vendor_sale, vendor_sale_fr, vendor_inv, vendor_inv_fr = top10_cat_sale_inv(df_bySingleDate_2013)"
   ]
  },
  {
   "cell_type": "code",
   "execution_count": null,
   "id": "84fdf2c7",
   "metadata": {},
   "outputs": [],
   "source": [
    "print(f\"Top 10 vendors with best sale:\\n {vendor_sale_fr}\")\n",
    "plot_top10_vendors_sale_graph(vendor_sale)"
   ]
  },
  {
   "cell_type": "code",
   "execution_count": null,
   "id": "a70f3fcf",
   "metadata": {},
   "outputs": [],
   "source": [
    "print(f\"\\nTop 10 vendors with best invoices:\\n {vendor_inv_fr}\")\n",
    "plot_top10_vendors_inv_graph(vendor_inv)"
   ]
  },
  {
   "cell_type": "code",
   "execution_count": null,
   "id": "b585d86c",
   "metadata": {},
   "outputs": [],
   "source": [
    "item_sale, item_sale_fr, item_inv, item_inv_fr = top10_cat_sale_inv(df_bySingleDate_2013)"
   ]
  },
  {
   "cell_type": "code",
   "execution_count": null,
   "id": "73d53a88",
   "metadata": {},
   "outputs": [],
   "source": [
    "print(f\"Top 10 items with best sale:\\n {item_sale_fr}\")\n",
    "plot_top10_items_sale_graph(item_sale)"
   ]
  },
  {
   "cell_type": "code",
   "execution_count": null,
   "id": "5344444b",
   "metadata": {},
   "outputs": [],
   "source": [
    "print(f\"\\nTop 10 items with best invoices:\\n {item_inv_fr}\")\n",
    "plot_top10_items_sale_graph(item_inv)"
   ]
  },
  {
   "cell_type": "markdown",
   "id": "1ac335b0",
   "metadata": {},
   "source": [
    "## <span style=\"color:blue\">Filter by Dates in 2013</span>"
   ]
  },
  {
   "cell_type": "code",
   "execution_count": null,
   "id": "08277fa3",
   "metadata": {},
   "outputs": [],
   "source": [
    "start_date = \"2013-01-03\"\n",
    "end_date = \"2013-01-10\""
   ]
  },
  {
   "cell_type": "code",
   "execution_count": null,
   "id": "71a4c895",
   "metadata": {},
   "outputs": [],
   "source": [
    "df_ByDates_2013 = df_ByDates(df_2013, start_date, end_date)"
   ]
  },
  {
   "cell_type": "code",
   "execution_count": null,
   "id": "70d04397",
   "metadata": {},
   "outputs": [],
   "source": [
    "lst_missing_dates = find_missing_dates(df_ByDates_2013, start_date, end_date)\n",
    "lst_missing_dates_name = lst_missing_dates.day_name()\n",
    "\n",
    "print(f\"{lst_missing_dates}\\n\")\n",
    "print(lst_missing_dates_name)"
   ]
  },
  {
   "cell_type": "code",
   "execution_count": null,
   "id": "bfc2a9b2",
   "metadata": {},
   "outputs": [],
   "source": [
    "total_save, total_inv = total_sale_invoice(df_ByDates_2013)\n",
    "print(f\"Total sale: {total_save}\")\n",
    "print(f\"Total invoice: {total_inv}\")"
   ]
  },
  {
   "cell_type": "code",
   "execution_count": null,
   "id": "5bf27e5d",
   "metadata": {},
   "outputs": [],
   "source": [
    "dow_sale, dow_inv, sale_invoice_dow = total_sale_invoice_dow(df_ByDates_2013)\n",
    "\n",
    "print(f\"Total sales, invoices of Day of Week:\\n {sale_invoice_dow}\")\n",
    "plot_dow_sale_inv_graph(dow_sale, dow_inv)"
   ]
  },
  {
   "cell_type": "code",
   "execution_count": null,
   "id": "b6ca1699",
   "metadata": {},
   "outputs": [],
   "source": [
    "store_sale, store_sale_fr, store_inv, store_inv_fr = top10_store_sale_inv(df_ByDates_2013)"
   ]
  },
  {
   "cell_type": "code",
   "execution_count": null,
   "id": "d69e8142",
   "metadata": {},
   "outputs": [],
   "source": [
    "print(f\"Top 10 stores with best sale:\\n {store_sale_fr}\")\n",
    "plot_top10_store_sale_graph(store_sale)"
   ]
  },
  {
   "cell_type": "code",
   "execution_count": null,
   "id": "09aef14a",
   "metadata": {},
   "outputs": [],
   "source": [
    "print(f\"\\nTop 10 stores with best invoices:\\n {store_inv_fr}\")\n",
    "plot_top10_store_inv_graph(store_inv)"
   ]
  },
  {
   "cell_type": "code",
   "execution_count": null,
   "id": "2b1c6e07",
   "metadata": {},
   "outputs": [],
   "source": [
    "county_sale, county_sale_fr, county_inv, county_inv_fr = top10_counties_sale_inv(df_ByDates_2013)"
   ]
  },
  {
   "cell_type": "code",
   "execution_count": null,
   "id": "5a24578f",
   "metadata": {},
   "outputs": [],
   "source": [
    "print(f\"Top 10 counties with best sale:\\n {county_sale_fr}\")\n",
    "plot_top10_county_sale_graph(county_sale)"
   ]
  },
  {
   "cell_type": "code",
   "execution_count": null,
   "id": "afc24f18",
   "metadata": {},
   "outputs": [],
   "source": [
    "print(f\"\\nTop 10 counties with best invoices:\\n {county_inv_fr}\")\n",
    "plot_top10_county_inv_graph(county_inv)"
   ]
  },
  {
   "cell_type": "code",
   "execution_count": null,
   "id": "f2a9f90f",
   "metadata": {},
   "outputs": [],
   "source": [
    "city_sale, city_sale_fr, city_inv, city_inv_fr = top10_cities_sale_inv(df_ByDates_2013)"
   ]
  },
  {
   "cell_type": "code",
   "execution_count": null,
   "id": "ba1206cc",
   "metadata": {},
   "outputs": [],
   "source": [
    "print(f\"Top 10 cities with best sale:\\n {city_sale_fr}\")\n",
    "plot_top10_city_sale_graph(city_sale)"
   ]
  },
  {
   "cell_type": "code",
   "execution_count": null,
   "id": "7b52ee67",
   "metadata": {},
   "outputs": [],
   "source": [
    "print(f\"\\nTop 10 cities with best invoices:\\n {city_inv_fr}\")\n",
    "plot_top10_city_inv_graph(city_inv)"
   ]
  },
  {
   "cell_type": "code",
   "execution_count": null,
   "id": "964195bc",
   "metadata": {},
   "outputs": [],
   "source": [
    "cat_sale, cat_sale_fr, cat_inv, cat_inv_fr = top10_cat_sale_inv(df_ByDates_2013)"
   ]
  },
  {
   "cell_type": "code",
   "execution_count": null,
   "id": "07969c9f",
   "metadata": {},
   "outputs": [],
   "source": [
    "print(f\"Top 10 categories with best sale:\\n {cat_sale_fr}\")\n",
    "plot_top10cat_sale_graph(cat_sale)"
   ]
  },
  {
   "cell_type": "code",
   "execution_count": null,
   "id": "f84c9265",
   "metadata": {},
   "outputs": [],
   "source": [
    "print(f\"\\nTop 10 categories with best invoices:\\n {cat_inv_fr}\")\n",
    "plot_top10cat_inv_graph(cat_inv)"
   ]
  },
  {
   "cell_type": "code",
   "execution_count": null,
   "id": "d02a748f",
   "metadata": {},
   "outputs": [],
   "source": [
    "vendor_sale, vendor_sale_fr, vendor_inv, vendor_inv_fr = top10_cat_sale_inv(df_ByDates_2013)"
   ]
  },
  {
   "cell_type": "code",
   "execution_count": null,
   "id": "16cf20af",
   "metadata": {},
   "outputs": [],
   "source": [
    "print(f\"Top 10 vendors with best sale:\\n {vendor_sale_fr}\")\n",
    "plot_top10_vendors_sale_graph(vendor_sale)"
   ]
  },
  {
   "cell_type": "code",
   "execution_count": null,
   "id": "73d76841",
   "metadata": {},
   "outputs": [],
   "source": [
    "print(f\"\\nTop 10 vendors with best invoices:\\n {vendor_inv_fr}\")\n",
    "plot_top10_vendors_inv_graph(vendor_inv)"
   ]
  },
  {
   "cell_type": "code",
   "execution_count": null,
   "id": "a214b1ea",
   "metadata": {},
   "outputs": [],
   "source": [
    "item_sale, item_sale_fr, item_inv, item_inv_fr = top10_cat_sale_inv(df_ByDates_2013)"
   ]
  },
  {
   "cell_type": "code",
   "execution_count": null,
   "id": "2e166ed2",
   "metadata": {},
   "outputs": [],
   "source": [
    "print(f\"Top 10 items with best sale:\\n {item_sale_fr}\")\n",
    "plot_top10_items_sale_graph(item_sale)"
   ]
  },
  {
   "cell_type": "code",
   "execution_count": null,
   "id": "51fc9892",
   "metadata": {},
   "outputs": [],
   "source": [
    "print(f\"\\nTop 10 items with best invoices:\\n {item_inv_fr}\")\n",
    "plot_top10_items_sale_graph(item_inv)"
   ]
  },
  {
   "cell_type": "markdown",
   "id": "80d1c458",
   "metadata": {},
   "source": [
    "## <span style=\"color:blue\">Filter by Store Name, Store Number in 2013</span>"
   ]
  },
  {
   "cell_type": "code",
   "execution_count": null,
   "id": "c9833d6d",
   "metadata": {},
   "outputs": [],
   "source": [
    "store_number = \"2549\""
   ]
  },
  {
   "cell_type": "code",
   "execution_count": null,
   "id": "13ebf194",
   "metadata": {},
   "outputs": [],
   "source": [
    "if exist_inputData(store_number):\n",
    "    df_ByStore_2013 = df_ByStoreNumber(df_2013, store_number)"
   ]
  },
  {
   "cell_type": "code",
   "execution_count": null,
   "id": "e971b279",
   "metadata": {},
   "outputs": [],
   "source": [
    "total_save, total_inv = total_sale_invoice(df_ByStore_2013)\n",
    "print(f\"Total sale: {total_save}\")\n",
    "print(f\"Total invoice: {total_inv}\")"
   ]
  },
  {
   "cell_type": "code",
   "execution_count": null,
   "id": "c89f1c79",
   "metadata": {},
   "outputs": [],
   "source": [
    "month_sale, month_inv, sale_invoice_month = total_sale_invoice_month(df_ByStore_2013)\n",
    "\n",
    "print(f\"Total sales, invoices of Months:\\n {sale_invoice_month}\")\n",
    "plot_month_sale_inv_graph(month_sale, month_inv)"
   ]
  },
  {
   "cell_type": "code",
   "execution_count": null,
   "id": "e446cd7d",
   "metadata": {},
   "outputs": [],
   "source": [
    "dow_sale, dow_inv, sale_invoice_dow = total_sale_invoice_dow(df_ByStore_2013)\n",
    "\n",
    "print(f\"Total sales, invoices of Day of Week:\\n {sale_invoice_dow}\")\n",
    "plot_dow_sale_inv_graph(dow_sale, dow_inv)"
   ]
  },
  {
   "cell_type": "code",
   "execution_count": null,
   "id": "3f45ffe0",
   "metadata": {},
   "outputs": [],
   "source": [
    "store_sale, store_sale_fr, store_inv, store_inv_fr = top10_store_sale_inv(df_ByStore_2013)"
   ]
  },
  {
   "cell_type": "code",
   "execution_count": null,
   "id": "95072815",
   "metadata": {},
   "outputs": [],
   "source": [
    "print(f\"Top 10 stores with best sale:\\n {store_sale_fr}\")\n",
    "plot_top10_store_sale_graph(store_sale)"
   ]
  },
  {
   "cell_type": "code",
   "execution_count": null,
   "id": "a555f3c6",
   "metadata": {},
   "outputs": [],
   "source": [
    "print(f\"\\nTop 10 stores with best invoices:\\n {store_inv_fr}\")\n",
    "plot_top10_store_inv_graph(store_inv)"
   ]
  },
  {
   "cell_type": "code",
   "execution_count": null,
   "id": "1014f929",
   "metadata": {},
   "outputs": [],
   "source": [
    "county_sale, county_sale_fr, county_inv, county_inv_fr = top10_counties_sale_inv(df_ByStore_2013)"
   ]
  },
  {
   "cell_type": "code",
   "execution_count": null,
   "id": "930dfdf8",
   "metadata": {},
   "outputs": [],
   "source": [
    "print(f\"Top 10 counties with best sale:\\n {county_sale_fr}\")\n",
    "plot_top10_county_sale_graph(county_sale)"
   ]
  },
  {
   "cell_type": "code",
   "execution_count": null,
   "id": "eeb0e6c6",
   "metadata": {},
   "outputs": [],
   "source": [
    "print(f\"\\nTop 10 counties with best invoices:\\n {county_inv_fr}\")\n",
    "plot_top10_county_inv_graph(county_inv)"
   ]
  },
  {
   "cell_type": "code",
   "execution_count": null,
   "id": "f0276636",
   "metadata": {},
   "outputs": [],
   "source": [
    "city_sale, city_sale_fr, city_inv, city_inv_fr = top10_cities_sale_inv(df_ByStore_2013)"
   ]
  },
  {
   "cell_type": "code",
   "execution_count": null,
   "id": "33d868cd",
   "metadata": {},
   "outputs": [],
   "source": [
    "print(f\"Top 10 cities with best sale:\\n {city_sale_fr}\")\n",
    "plot_top10_city_sale_graph(city_sale)"
   ]
  },
  {
   "cell_type": "code",
   "execution_count": null,
   "id": "5ae30979",
   "metadata": {},
   "outputs": [],
   "source": [
    "print(f\"\\nTop 10 cities with best invoices:\\n {city_inv_fr}\")\n",
    "plot_top10_city_inv_graph(city_inv)"
   ]
  },
  {
   "cell_type": "code",
   "execution_count": null,
   "id": "95347c50",
   "metadata": {},
   "outputs": [],
   "source": [
    "cat_sale, cat_sale_fr, cat_inv, cat_inv_fr = top10_cat_sale_inv(df_ByStore_2013)"
   ]
  },
  {
   "cell_type": "code",
   "execution_count": null,
   "id": "4d680b0b",
   "metadata": {},
   "outputs": [],
   "source": [
    "print(f\"Top 10 categories with best sale:\\n {cat_sale_fr}\")\n",
    "plot_top10cat_sale_graph(cat_sale)"
   ]
  },
  {
   "cell_type": "code",
   "execution_count": null,
   "id": "df7e9c2c",
   "metadata": {},
   "outputs": [],
   "source": [
    "print(f\"\\nTop 10 categories with best invoices:\\n {cat_inv_fr}\")\n",
    "plot_top10cat_inv_graph(cat_inv)"
   ]
  },
  {
   "cell_type": "code",
   "execution_count": null,
   "id": "4ed50d78",
   "metadata": {},
   "outputs": [],
   "source": [
    "vendor_sale, vendor_sale_fr, vendor_inv, vendor_inv_fr = top10_cat_sale_inv(df_ByStore_2013)"
   ]
  },
  {
   "cell_type": "code",
   "execution_count": null,
   "id": "f1b31ec4",
   "metadata": {},
   "outputs": [],
   "source": [
    "print(f\"Top 10 vendors with best sale:\\n {vendor_sale_fr}\")\n",
    "plot_top10_vendors_sale_graph(vendor_sale)"
   ]
  },
  {
   "cell_type": "code",
   "execution_count": null,
   "id": "d5aa17e8",
   "metadata": {},
   "outputs": [],
   "source": [
    "print(f\"\\nTop 10 vendors with best invoices:\\n {vendor_inv_fr}\")\n",
    "plot_top10_vendors_inv_graph(vendor_inv)"
   ]
  },
  {
   "cell_type": "code",
   "execution_count": null,
   "id": "edd9c72a",
   "metadata": {},
   "outputs": [],
   "source": [
    "item_sale, item_sale_fr, item_inv, item_inv_fr = top10_cat_sale_inv(df_ByStore_2013)"
   ]
  },
  {
   "cell_type": "code",
   "execution_count": null,
   "id": "b712c853",
   "metadata": {},
   "outputs": [],
   "source": [
    "print(f\"Top 10 items with best sale:\\n {item_sale_fr}\")\n",
    "plot_top10_items_sale_graph(item_sale)"
   ]
  },
  {
   "cell_type": "code",
   "execution_count": null,
   "id": "58262327",
   "metadata": {},
   "outputs": [],
   "source": [
    "print(f\"\\nTop 10 items with best invoices:\\n {item_inv_fr}\")\n",
    "plot_top10_items_sale_graph(item_inv)"
   ]
  },
  {
   "cell_type": "markdown",
   "id": "07c9b8a0",
   "metadata": {},
   "source": [
    "## <span style=\"color:blue\">Filter by City Name in 2013</span>"
   ]
  },
  {
   "cell_type": "code",
   "execution_count": null,
   "id": "8ff22dad",
   "metadata": {},
   "outputs": [],
   "source": [
    "city_name = \"INDIANOLA\""
   ]
  },
  {
   "cell_type": "code",
   "execution_count": null,
   "id": "8c8cf2bd",
   "metadata": {},
   "outputs": [],
   "source": [
    "if exist_inputData(city_name):\n",
    "    df_ByCity_2013 = df_ByCity(df_2013, city_name)"
   ]
  },
  {
   "cell_type": "code",
   "execution_count": null,
   "id": "cb64a927",
   "metadata": {},
   "outputs": [],
   "source": [
    "total_save, total_inv = total_sale_invoice(df_ByCity_2013)\n",
    "print(f\"Total sale: {total_save}\")\n",
    "print(f\"Total invoice: {total_inv}\")"
   ]
  },
  {
   "cell_type": "code",
   "execution_count": null,
   "id": "89541a9b",
   "metadata": {},
   "outputs": [],
   "source": [
    "month_sale, month_inv, sale_invoice_month = total_sale_invoice_month(df_ByCity_2013)\n",
    "\n",
    "print(f\"Total sales, invoices of Months:\\n {sale_invoice_month}\")\n",
    "plot_month_sale_inv_graph(month_sale, month_inv)"
   ]
  },
  {
   "cell_type": "code",
   "execution_count": null,
   "id": "9b954954",
   "metadata": {},
   "outputs": [],
   "source": [
    "dow_sale, dow_inv, sale_invoice_dow = total_sale_invoice_dow(df_ByCity_2013)\n",
    "\n",
    "print(f\"Total sales, invoices of Day of Week:\\n {sale_invoice_dow}\")\n",
    "plot_dow_sale_inv_graph(dow_sale, dow_inv)"
   ]
  },
  {
   "cell_type": "code",
   "execution_count": null,
   "id": "4c2cbc87",
   "metadata": {},
   "outputs": [],
   "source": [
    "store_sale, store_sale_fr, store_inv, store_inv_fr = top10_store_sale_inv(df_ByCity_2013)"
   ]
  },
  {
   "cell_type": "code",
   "execution_count": null,
   "id": "cebc13ee",
   "metadata": {},
   "outputs": [],
   "source": [
    "print(f\"Top 10 stores with best sale:\\n {store_sale_fr}\")\n",
    "plot_top10_store_sale_graph(store_sale)"
   ]
  },
  {
   "cell_type": "code",
   "execution_count": null,
   "id": "5da4b495",
   "metadata": {},
   "outputs": [],
   "source": [
    "print(f\"\\nTop 10 stores with best invoices:\\n {store_inv_fr}\")\n",
    "plot_top10_store_inv_graph(store_inv)"
   ]
  },
  {
   "cell_type": "code",
   "execution_count": null,
   "id": "889f9cdb",
   "metadata": {},
   "outputs": [],
   "source": [
    "county_sale, county_sale_fr, county_inv, county_inv_fr = top10_counties_sale_inv(df_ByCity_2013)"
   ]
  },
  {
   "cell_type": "code",
   "execution_count": null,
   "id": "9c09961b",
   "metadata": {},
   "outputs": [],
   "source": [
    "print(f\"Top 10 counties with best sale:\\n {county_sale_fr}\")\n",
    "plot_top10_county_sale_graph(county_sale)"
   ]
  },
  {
   "cell_type": "code",
   "execution_count": null,
   "id": "514f19c8",
   "metadata": {},
   "outputs": [],
   "source": [
    "print(f\"\\nTop 10 counties with best invoices:\\n {county_inv_fr}\")\n",
    "plot_top10_county_inv_graph(county_inv)"
   ]
  },
  {
   "cell_type": "code",
   "execution_count": null,
   "id": "d6c236f4",
   "metadata": {},
   "outputs": [],
   "source": [
    "city_sale, city_sale_fr, city_inv, city_inv_fr = top10_cities_sale_inv(df_ByCity_2013)"
   ]
  },
  {
   "cell_type": "code",
   "execution_count": null,
   "id": "657b6aba",
   "metadata": {},
   "outputs": [],
   "source": [
    "print(f\"Top 10 cities with best sale:\\n {city_sale_fr}\")\n",
    "plot_top10_city_sale_graph(city_sale)"
   ]
  },
  {
   "cell_type": "code",
   "execution_count": null,
   "id": "8ea011a8",
   "metadata": {},
   "outputs": [],
   "source": [
    "print(f\"\\nTop 10 cities with best invoices:\\n {city_inv_fr}\")\n",
    "plot_top10_city_inv_graph(city_inv)"
   ]
  },
  {
   "cell_type": "code",
   "execution_count": null,
   "id": "dc671231",
   "metadata": {},
   "outputs": [],
   "source": [
    "cat_sale, cat_sale_fr, cat_inv, cat_inv_fr = top10_cat_sale_inv(df_ByCity_2013)"
   ]
  },
  {
   "cell_type": "code",
   "execution_count": null,
   "id": "833fea38",
   "metadata": {},
   "outputs": [],
   "source": [
    "print(f\"Top 10 categories with best sale:\\n {cat_sale_fr}\")\n",
    "plot_top10cat_sale_graph(cat_sale)"
   ]
  },
  {
   "cell_type": "code",
   "execution_count": null,
   "id": "13801158",
   "metadata": {},
   "outputs": [],
   "source": [
    "print(f\"\\nTop 10 categories with best invoices:\\n {cat_inv_fr}\")\n",
    "plot_top10cat_inv_graph(cat_inv)"
   ]
  },
  {
   "cell_type": "code",
   "execution_count": null,
   "id": "81707f99",
   "metadata": {},
   "outputs": [],
   "source": [
    "vendor_sale, vendor_sale_fr, vendor_inv, vendor_inv_fr = top10_cat_sale_inv(df_ByCity_2013)"
   ]
  },
  {
   "cell_type": "code",
   "execution_count": null,
   "id": "35475d08",
   "metadata": {},
   "outputs": [],
   "source": [
    "print(f\"Top 10 vendors with best sale:\\n {vendor_sale_fr}\")\n",
    "plot_top10_vendors_sale_graph(vendor_sale)"
   ]
  },
  {
   "cell_type": "code",
   "execution_count": null,
   "id": "fab245ec",
   "metadata": {},
   "outputs": [],
   "source": [
    "print(f\"\\nTop 10 vendors with best invoices:\\n {vendor_inv_fr}\")\n",
    "plot_top10_vendors_inv_graph(vendor_inv)"
   ]
  },
  {
   "cell_type": "code",
   "execution_count": null,
   "id": "f6019330",
   "metadata": {},
   "outputs": [],
   "source": [
    "item_sale, item_sale_fr, item_inv, item_inv_fr = top10_cat_sale_inv(df_ByCity_2013)"
   ]
  },
  {
   "cell_type": "code",
   "execution_count": null,
   "id": "5563f4ff",
   "metadata": {},
   "outputs": [],
   "source": [
    "print(f\"Top 10 items with best sale:\\n {item_sale_fr}\")\n",
    "plot_top10_items_sale_graph(item_sale)"
   ]
  },
  {
   "cell_type": "code",
   "execution_count": null,
   "id": "44bf9b9f",
   "metadata": {},
   "outputs": [],
   "source": [
    "print(f\"\\nTop 10 items with best invoices:\\n {item_inv_fr}\")\n",
    "plot_top10_items_sale_graph(item_inv)"
   ]
  },
  {
   "cell_type": "markdown",
   "id": "2d7ad083",
   "metadata": {},
   "source": [
    "## <span style=\"color:blue\">Filter by County Name in 2013</span>"
   ]
  },
  {
   "cell_type": "code",
   "execution_count": null,
   "id": "00d55c31",
   "metadata": {},
   "outputs": [],
   "source": [
    "county_name = \"POLK\""
   ]
  },
  {
   "cell_type": "code",
   "execution_count": null,
   "id": "638c0861",
   "metadata": {},
   "outputs": [],
   "source": [
    "if exist_inputData(county_name):\n",
    "    df_ByCounty_2013 = df_ByCounty(df_2013, county_name)"
   ]
  },
  {
   "cell_type": "code",
   "execution_count": null,
   "id": "dc67d21f",
   "metadata": {},
   "outputs": [],
   "source": [
    "total_save, total_inv = total_sale_invoice(df_ByCounty_2013)\n",
    "print(f\"Total sale: {total_save}\")\n",
    "print(f\"Total invoice: {total_inv}\")"
   ]
  },
  {
   "cell_type": "code",
   "execution_count": null,
   "id": "051e4535",
   "metadata": {},
   "outputs": [],
   "source": [
    "month_sale, month_inv, sale_invoice_month = total_sale_invoice_month(df_ByCounty_2013)\n",
    "\n",
    "print(f\"Total sales, invoices of Months:\\n {sale_invoice_month}\")\n",
    "plot_month_sale_inv_graph(month_sale, month_inv)"
   ]
  },
  {
   "cell_type": "code",
   "execution_count": null,
   "id": "358fe721",
   "metadata": {},
   "outputs": [],
   "source": [
    "dow_sale, dow_inv, sale_invoice_dow = total_sale_invoice_dow(df_ByCounty_2013)\n",
    "\n",
    "print(f\"Total sales, invoices of Day of Week:\\n {sale_invoice_dow}\")\n",
    "plot_dow_sale_inv_graph(dow_sale, dow_inv)"
   ]
  },
  {
   "cell_type": "code",
   "execution_count": null,
   "id": "cdf2d242",
   "metadata": {},
   "outputs": [],
   "source": [
    "store_sale, store_sale_fr, store_inv, store_inv_fr = top10_store_sale_inv(df_ByCounty_2013)"
   ]
  },
  {
   "cell_type": "code",
   "execution_count": null,
   "id": "271ec953",
   "metadata": {},
   "outputs": [],
   "source": [
    "print(f\"Top 10 stores with best sale:\\n {store_sale_fr}\")\n",
    "plot_top10_store_sale_graph(store_sale)"
   ]
  },
  {
   "cell_type": "code",
   "execution_count": null,
   "id": "69709736",
   "metadata": {},
   "outputs": [],
   "source": [
    "print(f\"\\nTop 10 stores with best invoices:\\n {store_inv_fr}\")\n",
    "plot_top10_store_inv_graph(store_inv)"
   ]
  },
  {
   "cell_type": "code",
   "execution_count": null,
   "id": "3097f069",
   "metadata": {},
   "outputs": [],
   "source": [
    "county_sale, county_sale_fr, county_inv, county_inv_fr = top10_counties_sale_inv(df_ByCounty_2013)"
   ]
  },
  {
   "cell_type": "code",
   "execution_count": null,
   "id": "c0732113",
   "metadata": {},
   "outputs": [],
   "source": [
    "print(f\"Top 10 counties with best sale:\\n {county_sale_fr}\")\n",
    "plot_top10_county_sale_graph(county_sale)"
   ]
  },
  {
   "cell_type": "code",
   "execution_count": null,
   "id": "a87a9abb",
   "metadata": {},
   "outputs": [],
   "source": [
    "print(f\"\\nTop 10 counties with best invoices:\\n {county_inv_fr}\")\n",
    "plot_top10_county_inv_graph(county_inv)"
   ]
  },
  {
   "cell_type": "code",
   "execution_count": null,
   "id": "144cfe15",
   "metadata": {},
   "outputs": [],
   "source": [
    "city_sale, city_sale_fr, city_inv, city_inv_fr = top10_cities_sale_inv(df_ByCounty_2013)"
   ]
  },
  {
   "cell_type": "code",
   "execution_count": null,
   "id": "20d347f1",
   "metadata": {},
   "outputs": [],
   "source": [
    "print(f\"Top 10 cities with best sale:\\n {city_sale_fr}\")\n",
    "plot_top10_city_sale_graph(city_sale)"
   ]
  },
  {
   "cell_type": "code",
   "execution_count": null,
   "id": "3a93d9ca",
   "metadata": {},
   "outputs": [],
   "source": [
    "print(f\"\\nTop 10 cities with best invoices:\\n {city_inv_fr}\")\n",
    "plot_top10_city_inv_graph(city_inv)"
   ]
  },
  {
   "cell_type": "code",
   "execution_count": null,
   "id": "679495db",
   "metadata": {},
   "outputs": [],
   "source": [
    "cat_sale, cat_sale_fr, cat_inv, cat_inv_fr = top10_cat_sale_inv(df_ByCounty_2013)"
   ]
  },
  {
   "cell_type": "code",
   "execution_count": null,
   "id": "78de4d67",
   "metadata": {},
   "outputs": [],
   "source": [
    "print(f\"Top 10 categories with best sale:\\n {cat_sale_fr}\")\n",
    "plot_top10cat_sale_graph(cat_sale)"
   ]
  },
  {
   "cell_type": "code",
   "execution_count": null,
   "id": "cb05b827",
   "metadata": {},
   "outputs": [],
   "source": [
    "print(f\"\\nTop 10 categories with best invoices:\\n {cat_inv_fr}\")\n",
    "plot_top10cat_inv_graph(cat_inv)"
   ]
  },
  {
   "cell_type": "code",
   "execution_count": null,
   "id": "1bc59b0a",
   "metadata": {},
   "outputs": [],
   "source": [
    "vendor_sale, vendor_sale_fr, vendor_inv, vendor_inv_fr = top10_cat_sale_inv(df_ByCounty_2013)"
   ]
  },
  {
   "cell_type": "code",
   "execution_count": null,
   "id": "387fca80",
   "metadata": {},
   "outputs": [],
   "source": [
    "print(f\"Top 10 vendors with best sale:\\n {vendor_sale_fr}\")\n",
    "plot_top10_vendors_sale_graph(vendor_sale)"
   ]
  },
  {
   "cell_type": "code",
   "execution_count": null,
   "id": "9726c376",
   "metadata": {},
   "outputs": [],
   "source": [
    "print(f\"\\nTop 10 vendors with best invoices:\\n {vendor_inv_fr}\")\n",
    "plot_top10_vendors_inv_graph(vendor_inv)"
   ]
  },
  {
   "cell_type": "code",
   "execution_count": null,
   "id": "b6a13218",
   "metadata": {},
   "outputs": [],
   "source": [
    "item_sale, item_sale_fr, item_inv, item_inv_fr = top10_cat_sale_inv(df_ByCounty_2013)"
   ]
  },
  {
   "cell_type": "code",
   "execution_count": null,
   "id": "efc098f4",
   "metadata": {},
   "outputs": [],
   "source": [
    "print(f\"Top 10 items with best sale:\\n {item_sale_fr}\")\n",
    "plot_top10_items_sale_graph(item_sale)"
   ]
  },
  {
   "cell_type": "code",
   "execution_count": null,
   "id": "f076e8b2",
   "metadata": {},
   "outputs": [],
   "source": [
    "print(f\"\\nTop 10 items with best invoices:\\n {item_inv_fr}\")\n",
    "plot_top10_items_sale_graph(item_inv)"
   ]
  },
  {
   "cell_type": "markdown",
   "id": "5f148364",
   "metadata": {},
   "source": [
    "## <span style=\"color:blue\">Filter by Cat ID in 2013</span>"
   ]
  },
  {
   "cell_type": "code",
   "execution_count": null,
   "id": "7ee88715",
   "metadata": {},
   "outputs": [],
   "source": [
    "cat_id = \"1062300.0\""
   ]
  },
  {
   "cell_type": "code",
   "execution_count": null,
   "id": "bf7b198b",
   "metadata": {},
   "outputs": [],
   "source": [
    "if exist_inputData(cat_id):\n",
    "    df_ByCat_2013 = df_ByCat(df_2013, cat_id)"
   ]
  },
  {
   "cell_type": "code",
   "execution_count": null,
   "id": "7eba1219",
   "metadata": {},
   "outputs": [],
   "source": [
    "total_save, total_inv = total_sale_invoice(df_ByCat_2013)\n",
    "print(f\"Total sale: {total_save}\")\n",
    "print(f\"Total invoice: {total_inv}\")"
   ]
  },
  {
   "cell_type": "code",
   "execution_count": null,
   "id": "e99c87ac",
   "metadata": {},
   "outputs": [],
   "source": [
    "month_sale, month_inv, sale_invoice_month = total_sale_invoice_month(df_ByCat_2013)\n",
    "\n",
    "print(f\"Total sales, invoices of Months:\\n {sale_invoice_month}\")\n",
    "plot_month_sale_inv_graph(month_sale, month_inv)"
   ]
  },
  {
   "cell_type": "code",
   "execution_count": null,
   "id": "a49f3a0d",
   "metadata": {},
   "outputs": [],
   "source": [
    "dow_sale, dow_inv, sale_invoice_dow = total_sale_invoice_dow(df_ByCat_2013)\n",
    "\n",
    "print(f\"Total sales, invoices of Day of Week:\\n {sale_invoice_dow}\")\n",
    "plot_dow_sale_inv_graph(dow_sale, dow_inv)"
   ]
  },
  {
   "cell_type": "code",
   "execution_count": null,
   "id": "1f2cf86a",
   "metadata": {},
   "outputs": [],
   "source": [
    "store_sale, store_sale_fr, store_inv, store_inv_fr = top10_store_sale_inv(df_ByCat_2013)"
   ]
  },
  {
   "cell_type": "code",
   "execution_count": null,
   "id": "6d1c1425",
   "metadata": {},
   "outputs": [],
   "source": [
    "print(f\"Top 10 stores with best sale:\\n {store_sale_fr}\")\n",
    "plot_top10_store_sale_graph(store_sale)"
   ]
  },
  {
   "cell_type": "code",
   "execution_count": null,
   "id": "6dda5fc3",
   "metadata": {},
   "outputs": [],
   "source": [
    "print(f\"\\nTop 10 stores with best invoices:\\n {store_inv_fr}\")\n",
    "plot_top10_store_inv_graph(store_inv)"
   ]
  },
  {
   "cell_type": "code",
   "execution_count": null,
   "id": "ee42371a",
   "metadata": {},
   "outputs": [],
   "source": [
    "county_sale, county_sale_fr, county_inv, county_inv_fr = top10_counties_sale_inv(df_ByCat_2013)"
   ]
  },
  {
   "cell_type": "code",
   "execution_count": null,
   "id": "464f3c2c",
   "metadata": {},
   "outputs": [],
   "source": [
    "print(f\"Top 10 counties with best sale:\\n {county_sale_fr}\")\n",
    "plot_top10_county_sale_graph(county_sale)"
   ]
  },
  {
   "cell_type": "code",
   "execution_count": null,
   "id": "66db7b04",
   "metadata": {},
   "outputs": [],
   "source": [
    "print(f\"\\nTop 10 counties with best invoices:\\n {county_inv_fr}\")\n",
    "plot_top10_county_inv_graph(county_inv)"
   ]
  },
  {
   "cell_type": "code",
   "execution_count": null,
   "id": "e8a4b495",
   "metadata": {},
   "outputs": [],
   "source": [
    "city_sale, city_sale_fr, city_inv, city_inv_fr = top10_cities_sale_inv(df_ByCat_2013)"
   ]
  },
  {
   "cell_type": "code",
   "execution_count": null,
   "id": "a5f921ff",
   "metadata": {},
   "outputs": [],
   "source": [
    "print(f\"Top 10 cities with best sale:\\n {city_sale_fr}\")\n",
    "plot_top10_city_sale_graph(city_sale)"
   ]
  },
  {
   "cell_type": "code",
   "execution_count": null,
   "id": "2e519829",
   "metadata": {},
   "outputs": [],
   "source": [
    "print(f\"\\nTop 10 cities with best invoices:\\n {city_inv_fr}\")\n",
    "plot_top10_city_inv_graph(city_inv)"
   ]
  },
  {
   "cell_type": "code",
   "execution_count": null,
   "id": "414c1b2a",
   "metadata": {},
   "outputs": [],
   "source": [
    "cat_sale, cat_sale_fr, cat_inv, cat_inv_fr = top10_cat_sale_inv(df_ByCat_2013)"
   ]
  },
  {
   "cell_type": "code",
   "execution_count": null,
   "id": "da18f6d3",
   "metadata": {},
   "outputs": [],
   "source": [
    "print(f\"Top 10 categories with best sale:\\n {cat_sale_fr}\")\n",
    "plot_top10cat_sale_graph(cat_sale)"
   ]
  },
  {
   "cell_type": "code",
   "execution_count": null,
   "id": "a3291dcb",
   "metadata": {},
   "outputs": [],
   "source": [
    "print(f\"\\nTop 10 categories with best invoices:\\n {cat_inv_fr}\")\n",
    "plot_top10cat_inv_graph(cat_inv)"
   ]
  },
  {
   "cell_type": "code",
   "execution_count": null,
   "id": "2e350cb2",
   "metadata": {},
   "outputs": [],
   "source": [
    "vendor_sale, vendor_sale_fr, vendor_inv, vendor_inv_fr = top10_cat_sale_inv(df_ByCat_2013)"
   ]
  },
  {
   "cell_type": "code",
   "execution_count": null,
   "id": "ccea1be2",
   "metadata": {},
   "outputs": [],
   "source": [
    "print(f\"Top 10 vendors with best sale:\\n {vendor_sale_fr}\")\n",
    "plot_top10_vendors_sale_graph(vendor_sale)"
   ]
  },
  {
   "cell_type": "code",
   "execution_count": null,
   "id": "a4d30acf",
   "metadata": {},
   "outputs": [],
   "source": [
    "print(f\"\\nTop 10 vendors with best invoices:\\n {vendor_inv_fr}\")\n",
    "plot_top10_vendors_inv_graph(vendor_inv)"
   ]
  },
  {
   "cell_type": "code",
   "execution_count": null,
   "id": "1c05f464",
   "metadata": {},
   "outputs": [],
   "source": [
    "item_sale, item_sale_fr, item_inv, item_inv_fr = top10_cat_sale_inv(df_ByCat_2013)"
   ]
  },
  {
   "cell_type": "code",
   "execution_count": null,
   "id": "026a4572",
   "metadata": {},
   "outputs": [],
   "source": [
    "print(f\"Top 10 items with best sale:\\n {item_sale_fr}\")\n",
    "plot_top10_items_sale_graph(item_sale)"
   ]
  },
  {
   "cell_type": "code",
   "execution_count": null,
   "id": "b10ac09c",
   "metadata": {},
   "outputs": [],
   "source": [
    "print(f\"\\nTop 10 items with best invoices:\\n {item_inv_fr}\")\n",
    "plot_top10_items_sale_graph(item_inv)"
   ]
  },
  {
   "cell_type": "markdown",
   "id": "be2742fb",
   "metadata": {},
   "source": [
    "## <span style=\"color:blue\">Filter by Vendor in 2013</span>"
   ]
  },
  {
   "cell_type": "code",
   "execution_count": null,
   "id": "cfd470ca",
   "metadata": {},
   "outputs": [],
   "source": [
    "vendor_num = \"370\""
   ]
  },
  {
   "cell_type": "code",
   "execution_count": null,
   "id": "b0b02c6d",
   "metadata": {},
   "outputs": [],
   "source": [
    "if exist_inputData(vendor_num):\n",
    "    df_ByVendor_2013 = df_ByVendor(df_2013, vendor_num)"
   ]
  },
  {
   "cell_type": "code",
   "execution_count": null,
   "id": "3d498e31",
   "metadata": {},
   "outputs": [],
   "source": [
    "total_save, total_inv = total_sale_invoice(df_ByVendor_2013)\n",
    "print(f\"Total sale: {total_save}\")\n",
    "print(f\"Total invoice: {total_inv}\")"
   ]
  },
  {
   "cell_type": "code",
   "execution_count": null,
   "id": "7e36b9ae",
   "metadata": {},
   "outputs": [],
   "source": [
    "month_sale, month_inv, sale_invoice_month = total_sale_invoice_month(df_ByVendor_2013)\n",
    "\n",
    "print(f\"Total sales, invoices of Months:\\n {sale_invoice_month}\")\n",
    "plot_month_sale_inv_graph(month_sale, month_inv)"
   ]
  },
  {
   "cell_type": "code",
   "execution_count": null,
   "id": "4b2bdea1",
   "metadata": {},
   "outputs": [],
   "source": [
    "dow_sale, dow_inv, sale_invoice_dow = total_sale_invoice_dow(df_ByVendor_2013)\n",
    "\n",
    "print(f\"Total sales, invoices of Day of Week:\\n {sale_invoice_dow}\")\n",
    "plot_dow_sale_inv_graph(dow_sale, dow_inv)"
   ]
  },
  {
   "cell_type": "code",
   "execution_count": null,
   "id": "f5b95185",
   "metadata": {},
   "outputs": [],
   "source": [
    "store_sale, store_sale_fr, store_inv, store_inv_fr = top10_store_sale_inv(df_ByVendor_2013)"
   ]
  },
  {
   "cell_type": "code",
   "execution_count": null,
   "id": "ca1b1098",
   "metadata": {},
   "outputs": [],
   "source": [
    "print(f\"Top 10 stores with best sale:\\n {store_sale_fr}\")\n",
    "plot_top10_store_sale_graph(store_sale)"
   ]
  },
  {
   "cell_type": "code",
   "execution_count": null,
   "id": "9c6149c3",
   "metadata": {},
   "outputs": [],
   "source": [
    "print(f\"\\nTop 10 stores with best invoices:\\n {store_inv_fr}\")\n",
    "plot_top10_store_inv_graph(store_inv)"
   ]
  },
  {
   "cell_type": "code",
   "execution_count": null,
   "id": "a91469a1",
   "metadata": {},
   "outputs": [],
   "source": [
    "county_sale, county_sale_fr, county_inv, county_inv_fr = top10_counties_sale_inv(df_ByVendor_2013)"
   ]
  },
  {
   "cell_type": "code",
   "execution_count": null,
   "id": "05e08e17",
   "metadata": {},
   "outputs": [],
   "source": [
    "print(f\"Top 10 counties with best sale:\\n {county_sale_fr}\")\n",
    "plot_top10_county_sale_graph(county_sale)"
   ]
  },
  {
   "cell_type": "code",
   "execution_count": null,
   "id": "7c937916",
   "metadata": {},
   "outputs": [],
   "source": [
    "print(f\"\\nTop 10 counties with best invoices:\\n {county_inv_fr}\")\n",
    "plot_top10_county_inv_graph(county_inv)"
   ]
  },
  {
   "cell_type": "code",
   "execution_count": null,
   "id": "df46a81d",
   "metadata": {},
   "outputs": [],
   "source": [
    "city_sale, city_sale_fr, city_inv, city_inv_fr = top10_cities_sale_inv(df_ByVendor_2013)"
   ]
  },
  {
   "cell_type": "code",
   "execution_count": null,
   "id": "99f8cd86",
   "metadata": {},
   "outputs": [],
   "source": [
    "print(f\"Top 10 cities with best sale:\\n {city_sale_fr}\")\n",
    "plot_top10_city_sale_graph(city_sale)"
   ]
  },
  {
   "cell_type": "code",
   "execution_count": null,
   "id": "949b9c00",
   "metadata": {},
   "outputs": [],
   "source": [
    "print(f\"\\nTop 10 cities with best invoices:\\n {city_inv_fr}\")\n",
    "plot_top10_city_inv_graph(city_inv)"
   ]
  },
  {
   "cell_type": "code",
   "execution_count": null,
   "id": "2274dc0d",
   "metadata": {},
   "outputs": [],
   "source": [
    "cat_sale, cat_sale_fr, cat_inv, cat_inv_fr = top10_cat_sale_inv(df_ByVendor_2013)"
   ]
  },
  {
   "cell_type": "code",
   "execution_count": null,
   "id": "3df2e211",
   "metadata": {},
   "outputs": [],
   "source": [
    "print(f\"Top 10 categories with best sale:\\n {cat_sale_fr}\")\n",
    "plot_top10cat_sale_graph(cat_sale)"
   ]
  },
  {
   "cell_type": "code",
   "execution_count": null,
   "id": "bc54280e",
   "metadata": {},
   "outputs": [],
   "source": [
    "print(f\"\\nTop 10 categories with best invoices:\\n {cat_inv_fr}\")\n",
    "plot_top10cat_inv_graph(cat_inv)"
   ]
  },
  {
   "cell_type": "code",
   "execution_count": null,
   "id": "f3c5f4e1",
   "metadata": {},
   "outputs": [],
   "source": [
    "vendor_sale, vendor_sale_fr, vendor_inv, vendor_inv_fr = top10_cat_sale_inv(df_ByVendor_2013)"
   ]
  },
  {
   "cell_type": "code",
   "execution_count": null,
   "id": "92f9b12b",
   "metadata": {},
   "outputs": [],
   "source": [
    "print(f\"Top 10 vendors with best sale:\\n {vendor_sale_fr}\")\n",
    "plot_top10_vendors_sale_graph(vendor_sale)"
   ]
  },
  {
   "cell_type": "code",
   "execution_count": null,
   "id": "9fa6dc70",
   "metadata": {},
   "outputs": [],
   "source": [
    "print(f\"\\nTop 10 vendors with best invoices:\\n {vendor_inv_fr}\")\n",
    "plot_top10_vendors_inv_graph(vendor_inv)"
   ]
  },
  {
   "cell_type": "code",
   "execution_count": null,
   "id": "d4d79dac",
   "metadata": {},
   "outputs": [],
   "source": [
    "item_sale, item_sale_fr, item_inv, item_inv_fr = top10_cat_sale_inv(df_ByVendor_2013)"
   ]
  },
  {
   "cell_type": "code",
   "execution_count": null,
   "id": "4bb1bfe9",
   "metadata": {},
   "outputs": [],
   "source": [
    "print(f\"Top 10 items with best sale:\\n {item_sale_fr}\")\n",
    "plot_top10_items_sale_graph(item_sale)"
   ]
  },
  {
   "cell_type": "code",
   "execution_count": null,
   "id": "54398490",
   "metadata": {},
   "outputs": [],
   "source": [
    "print(f\"\\nTop 10 items with best invoices:\\n {item_inv_fr}\")\n",
    "plot_top10_items_sale_graph(item_inv)"
   ]
  },
  {
   "cell_type": "markdown",
   "id": "c021006e",
   "metadata": {},
   "source": [
    "## <span style=\"color:blue\">Filter by Item in 2013</span>"
   ]
  },
  {
   "cell_type": "code",
   "execution_count": null,
   "id": "cf69ffe1",
   "metadata": {},
   "outputs": [],
   "source": [
    "item_num = \"42717\""
   ]
  },
  {
   "cell_type": "code",
   "execution_count": null,
   "id": "d7e4d83d",
   "metadata": {},
   "outputs": [],
   "source": [
    "if exist_inputData(item_num):\n",
    "    df_ByItem_2013 = df_ByItem(df_2013, item_num)"
   ]
  },
  {
   "cell_type": "code",
   "execution_count": null,
   "id": "ddd73af7",
   "metadata": {},
   "outputs": [],
   "source": [
    "total_save, total_inv = total_sale_invoice(df_ByItem_2013)\n",
    "print(f\"Total sale: {total_save}\")\n",
    "print(f\"Total invoice: {total_inv}\")"
   ]
  },
  {
   "cell_type": "code",
   "execution_count": null,
   "id": "435f816e",
   "metadata": {},
   "outputs": [],
   "source": [
    "month_sale, month_inv, sale_invoice_month = total_sale_invoice_month(df_ByItem_2013)\n",
    "\n",
    "print(f\"Total sales, invoices of Months:\\n {sale_invoice_month}\")\n",
    "plot_month_sale_inv_graph(month_sale, month_inv)"
   ]
  },
  {
   "cell_type": "code",
   "execution_count": null,
   "id": "b3d306c5",
   "metadata": {},
   "outputs": [],
   "source": [
    "dow_sale, dow_inv, sale_invoice_dow = total_sale_invoice_dow(df_ByItem_2013)\n",
    "\n",
    "print(f\"Total sales, invoices of Day of Week:\\n {sale_invoice_dow}\")\n",
    "plot_dow_sale_inv_graph(dow_sale, dow_inv)"
   ]
  },
  {
   "cell_type": "code",
   "execution_count": null,
   "id": "6a0aa998",
   "metadata": {},
   "outputs": [],
   "source": [
    "store_sale, store_sale_fr, store_inv, store_inv_fr = top10_store_sale_inv(df_ByItem_2013)"
   ]
  },
  {
   "cell_type": "code",
   "execution_count": null,
   "id": "4ed19d86",
   "metadata": {},
   "outputs": [],
   "source": [
    "print(f\"Top 10 stores with best sale:\\n {store_sale_fr}\")\n",
    "plot_top10_store_sale_graph(store_sale)"
   ]
  },
  {
   "cell_type": "code",
   "execution_count": null,
   "id": "768872bc",
   "metadata": {},
   "outputs": [],
   "source": [
    "print(f\"\\nTop 10 stores with best invoices:\\n {store_inv_fr}\")\n",
    "plot_top10_store_inv_graph(store_inv)"
   ]
  },
  {
   "cell_type": "code",
   "execution_count": null,
   "id": "62026f22",
   "metadata": {},
   "outputs": [],
   "source": [
    "county_sale, county_sale_fr, county_inv, county_inv_fr = top10_counties_sale_inv(df_ByItem_2013)"
   ]
  },
  {
   "cell_type": "code",
   "execution_count": null,
   "id": "5f6b6bfa",
   "metadata": {},
   "outputs": [],
   "source": [
    "print(f\"Top 10 counties with best sale:\\n {county_sale_fr}\")\n",
    "plot_top10_county_sale_graph(county_sale)"
   ]
  },
  {
   "cell_type": "code",
   "execution_count": null,
   "id": "918d231b",
   "metadata": {},
   "outputs": [],
   "source": [
    "print(f\"\\nTop 10 counties with best invoices:\\n {county_inv_fr}\")\n",
    "plot_top10_county_inv_graph(county_inv)"
   ]
  },
  {
   "cell_type": "code",
   "execution_count": null,
   "id": "69bd8cc0",
   "metadata": {},
   "outputs": [],
   "source": [
    "city_sale, city_sale_fr, city_inv, city_inv_fr = top10_cities_sale_inv(df_ByItem_2013)"
   ]
  },
  {
   "cell_type": "code",
   "execution_count": null,
   "id": "a7838d67",
   "metadata": {},
   "outputs": [],
   "source": [
    "print(f\"Top 10 cities with best sale:\\n {city_sale_fr}\")\n",
    "plot_top10_city_sale_graph(city_sale)"
   ]
  },
  {
   "cell_type": "code",
   "execution_count": null,
   "id": "0b0fdea0",
   "metadata": {},
   "outputs": [],
   "source": [
    "print(f\"\\nTop 10 cities with best invoices:\\n {city_inv_fr}\")\n",
    "plot_top10_city_inv_graph(city_inv)"
   ]
  },
  {
   "cell_type": "code",
   "execution_count": null,
   "id": "7e626690",
   "metadata": {},
   "outputs": [],
   "source": [
    "cat_sale, cat_sale_fr, cat_inv, cat_inv_fr = top10_cat_sale_inv(df_ByItem_2013)"
   ]
  },
  {
   "cell_type": "code",
   "execution_count": null,
   "id": "261ff40b",
   "metadata": {},
   "outputs": [],
   "source": [
    "print(f\"Top 10 categories with best sale:\\n {cat_sale_fr}\")\n",
    "plot_top10cat_sale_graph(cat_sale)"
   ]
  },
  {
   "cell_type": "code",
   "execution_count": null,
   "id": "86497b9b",
   "metadata": {},
   "outputs": [],
   "source": [
    "print(f\"\\nTop 10 categories with best invoices:\\n {cat_inv_fr}\")\n",
    "plot_top10cat_inv_graph(cat_inv)"
   ]
  },
  {
   "cell_type": "code",
   "execution_count": null,
   "id": "0e05a663",
   "metadata": {},
   "outputs": [],
   "source": [
    "vendor_sale, vendor_sale_fr, vendor_inv, vendor_inv_fr = top10_cat_sale_inv(df_ByItem_2013)"
   ]
  },
  {
   "cell_type": "code",
   "execution_count": null,
   "id": "27b8c325",
   "metadata": {},
   "outputs": [],
   "source": [
    "print(f\"Top 10 vendors with best sale:\\n {vendor_sale_fr}\")\n",
    "plot_top10_vendors_sale_graph(vendor_sale)"
   ]
  },
  {
   "cell_type": "code",
   "execution_count": null,
   "id": "13eb011e",
   "metadata": {},
   "outputs": [],
   "source": [
    "print(f\"\\nTop 10 vendors with best invoices:\\n {vendor_inv_fr}\")\n",
    "plot_top10_vendors_inv_graph(vendor_inv)"
   ]
  },
  {
   "cell_type": "code",
   "execution_count": null,
   "id": "aa2e5e9e",
   "metadata": {},
   "outputs": [],
   "source": [
    "item_sale, item_sale_fr, item_inv, item_inv_fr = top10_cat_sale_inv(df_ByItem_2013)"
   ]
  },
  {
   "cell_type": "code",
   "execution_count": null,
   "id": "525b05cc",
   "metadata": {},
   "outputs": [],
   "source": [
    "print(f\"Top 10 items with best sale:\\n {item_sale_fr}\")\n",
    "plot_top10_items_sale_graph(item_sale)"
   ]
  },
  {
   "cell_type": "code",
   "execution_count": null,
   "id": "103ad7a5",
   "metadata": {},
   "outputs": [],
   "source": [
    "print(f\"\\nTop 10 items with best invoices:\\n {item_inv_fr}\")\n",
    "plot_top10_items_sale_graph(item_inv)"
   ]
  },
  {
   "cell_type": "markdown",
   "id": "3c1ccbb3",
   "metadata": {},
   "source": [
    "## Filter by a Single Month"
   ]
  },
  {
   "cell_type": "code",
   "execution_count": null,
   "id": "61f92539",
   "metadata": {},
   "outputs": [],
   "source": [
    "month = \"2013-01\""
   ]
  },
  {
   "cell_type": "code",
   "execution_count": null,
   "id": "fa189b37",
   "metadata": {},
   "outputs": [],
   "source": [
    "df_BySingleMonth_2013 = df_BySingleMonth(df_2013, month)"
   ]
  },
  {
   "cell_type": "code",
   "execution_count": null,
   "id": "f504f573",
   "metadata": {},
   "outputs": [],
   "source": [
    "total_save, total_inv = total_sale_invoice(df_BySingleMonth_2013)\n",
    "print(f\"Total sale: {total_save}\")\n",
    "print(f\"Total invoice: {total_inv}\")"
   ]
  },
  {
   "cell_type": "code",
   "execution_count": null,
   "id": "e469d540",
   "metadata": {},
   "outputs": [],
   "source": [
    "dow_sale, dow_inv, sale_invoice_dow = total_sale_invoice_dow(df_BySingleMonth_2013)\n",
    "\n",
    "print(f\"Total sales, invoices of Day of Week:\\n {sale_invoice_dow}\")\n",
    "plot_dow_sale_inv_graph(dow_sale, dow_inv)"
   ]
  },
  {
   "cell_type": "code",
   "execution_count": null,
   "id": "58b85c39",
   "metadata": {},
   "outputs": [],
   "source": [
    "store_sale, store_sale_fr, store_inv, store_inv_fr = top10_store_sale_inv(df_BySingleMonth_2013)"
   ]
  },
  {
   "cell_type": "code",
   "execution_count": null,
   "id": "629f2ec1",
   "metadata": {},
   "outputs": [],
   "source": [
    "print(f\"Top 10 stores with best sale:\\n {store_sale_fr}\")\n",
    "plot_top10_store_sale_graph(store_sale)"
   ]
  },
  {
   "cell_type": "code",
   "execution_count": null,
   "id": "d0d708c6",
   "metadata": {},
   "outputs": [],
   "source": [
    "print(f\"\\nTop 10 stores with best invoices:\\n {store_inv_fr}\")\n",
    "plot_top10_store_inv_graph(store_inv)"
   ]
  },
  {
   "cell_type": "code",
   "execution_count": null,
   "id": "cbaffe7d",
   "metadata": {},
   "outputs": [],
   "source": [
    "county_sale, county_sale_fr, county_inv, county_inv_fr = top10_counties_sale_inv(df_BySingleMonth_2013)"
   ]
  },
  {
   "cell_type": "code",
   "execution_count": null,
   "id": "d3cfa217",
   "metadata": {},
   "outputs": [],
   "source": [
    "print(f\"Top 10 counties with best sale:\\n {county_sale_fr}\")\n",
    "plot_top10_county_sale_graph(county_sale)"
   ]
  },
  {
   "cell_type": "code",
   "execution_count": null,
   "id": "2e292418",
   "metadata": {},
   "outputs": [],
   "source": [
    "print(f\"\\nTop 10 counties with best invoices:\\n {county_inv_fr}\")\n",
    "plot_top10_county_inv_graph(county_inv)"
   ]
  },
  {
   "cell_type": "code",
   "execution_count": null,
   "id": "9052ffaf",
   "metadata": {},
   "outputs": [],
   "source": [
    "city_sale, city_sale_fr, city_inv, city_inv_fr = top10_cities_sale_inv(df_BySingleMonth_2013)"
   ]
  },
  {
   "cell_type": "code",
   "execution_count": null,
   "id": "420dc67b",
   "metadata": {},
   "outputs": [],
   "source": [
    "print(f\"Top 10 cities with best sale:\\n {city_sale_fr}\")\n",
    "plot_top10_city_sale_graph(city_sale)"
   ]
  },
  {
   "cell_type": "code",
   "execution_count": null,
   "id": "a9e0b5e9",
   "metadata": {},
   "outputs": [],
   "source": [
    "print(f\"\\nTop 10 cities with best invoices:\\n {city_inv_fr}\")\n",
    "plot_top10_city_inv_graph(city_inv)"
   ]
  },
  {
   "cell_type": "code",
   "execution_count": null,
   "id": "8f1fee58",
   "metadata": {},
   "outputs": [],
   "source": [
    "cat_sale, cat_sale_fr, cat_inv, cat_inv_fr = top10_cat_sale_inv(df_BySingleMonth_2013)"
   ]
  },
  {
   "cell_type": "code",
   "execution_count": null,
   "id": "6bf6b6c9",
   "metadata": {},
   "outputs": [],
   "source": [
    "print(f\"Top 10 categories with best sale:\\n {cat_sale_fr}\")\n",
    "plot_top10cat_sale_graph(cat_sale)"
   ]
  },
  {
   "cell_type": "code",
   "execution_count": null,
   "id": "4e6a4e9b",
   "metadata": {},
   "outputs": [],
   "source": [
    "print(f\"\\nTop 10 categories with best invoices:\\n {cat_inv_fr}\")\n",
    "plot_top10cat_inv_graph(cat_inv)"
   ]
  },
  {
   "cell_type": "code",
   "execution_count": null,
   "id": "8448c829",
   "metadata": {},
   "outputs": [],
   "source": [
    "vendor_sale, vendor_sale_fr, vendor_inv, vendor_inv_fr = top10_cat_sale_inv(df_BySingleMonth_2013)"
   ]
  },
  {
   "cell_type": "code",
   "execution_count": null,
   "id": "655d1f7a",
   "metadata": {},
   "outputs": [],
   "source": [
    "print(f\"Top 10 vendors with best sale:\\n {vendor_sale_fr}\")\n",
    "plot_top10_vendors_sale_graph(vendor_sale)"
   ]
  },
  {
   "cell_type": "code",
   "execution_count": null,
   "id": "78e9e25a",
   "metadata": {},
   "outputs": [],
   "source": [
    "print(f\"\\nTop 10 vendors with best invoices:\\n {vendor_inv_fr}\")\n",
    "plot_top10_vendors_inv_graph(vendor_inv)"
   ]
  },
  {
   "cell_type": "code",
   "execution_count": null,
   "id": "d82de0ad",
   "metadata": {},
   "outputs": [],
   "source": [
    "item_sale, item_sale_fr, item_inv, item_inv_fr = top10_cat_sale_inv(df_BySingleMonth_2013)"
   ]
  },
  {
   "cell_type": "code",
   "execution_count": null,
   "id": "f91e6156",
   "metadata": {},
   "outputs": [],
   "source": [
    "print(f\"Top 10 items with best sale:\\n {item_sale_fr}\")\n",
    "plot_top10_items_sale_graph(item_sale)"
   ]
  },
  {
   "cell_type": "code",
   "execution_count": null,
   "id": "58316d8f",
   "metadata": {},
   "outputs": [],
   "source": [
    "print(f\"\\nTop 10 items with best invoices:\\n {item_inv_fr}\")\n",
    "plot_top10_items_sale_graph(item_inv)"
   ]
  },
  {
   "cell_type": "code",
   "execution_count": null,
   "id": "e4b6a822",
   "metadata": {},
   "outputs": [],
   "source": []
  }
 ],
 "metadata": {
  "kernelspec": {
   "display_name": "Python 3 (ipykernel)",
   "language": "python",
   "name": "python3"
  },
  "language_info": {
   "codemirror_mode": {
    "name": "ipython",
    "version": 3
   },
   "file_extension": ".py",
   "mimetype": "text/x-python",
   "name": "python",
   "nbconvert_exporter": "python",
   "pygments_lexer": "ipython3",
   "version": "3.10.9"
  }
 },
 "nbformat": 4,
 "nbformat_minor": 5
}
